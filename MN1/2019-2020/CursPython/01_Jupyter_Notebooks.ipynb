{
  "nbformat": 4,
  "nbformat_minor": 0,
  "metadata": {
    "colab": {
      "name": "01_Jupyter_Notebooks.ipynb",
      "provenance": [],
      "authorship_tag": "ABX9TyOQkug3latRTMwzc5GyU1od",
      "include_colab_link": true
    },
    "kernelspec": {
      "name": "python3",
      "display_name": "Python 3"
    }
  },
  "cells": [
    {
      "cell_type": "markdown",
      "metadata": {
        "id": "view-in-github",
        "colab_type": "text"
      },
      "source": [
        "<a href=\"https://colab.research.google.com/github/joseflix/DocenciaUAB/blob/master/MN1/2019-2020/CursPython/01_Jupyter_Notebooks.ipynb\" target=\"_parent\"><img src=\"https://colab.research.google.com/assets/colab-badge.svg\" alt=\"Open In Colab\"/></a>"
      ]
    },
    {
      "cell_type": "markdown",
      "metadata": {
        "id": "zrR9dhitEaSk",
        "colab_type": "text"
      },
      "source": [
        "**Introducción a Jupyter Notebooks (Google Colab)**\n",
        "\n",
        "* En un Jupyter Notebook puedes insertar celdas de texto (como esta) o de código, que se pueden ejecutar pulsando el botón *Play* que está justo a la izquierda de la celda\n",
        "\n",
        "* Las celdas de texto permiten añadir fórmulas con estilo Latex, negritas, títulos, etc... es muy útil para explicar el problema a solucionar, los pasos intermedios, formulación, aclaraciones, etc...\n",
        "\n",
        "* Debes de conectar el Notebook a una máquina virtual de Google. Se hace pulsando en *Conectar* (arriba a la derecha), o bien ejecutando una celda de código (lo primero que hará será establecer el entorno y conectarse a una máquina)\n",
        "\n",
        "* Puedes guardar cualquier Notebook que hagas en cualquier carpeta de tu Drive de Google: *Archivo/Guardar una copia en Drive...*\n",
        "\n",
        "* También puedes importar/añadir fácilmente un Notebook en tu Drive\n",
        "\n",
        "* Los Notebooks del curso estarán disponibles en github. Se pueden abrir clickando en la imagen que pone \"Open in Colab\"\n",
        "\n",
        "* Es un entorno colaborativo, es decir que funciona como los documentos compartidos. Puedes estar editando un Notebook junto a un compañero/a, ejecutandolo en máquinas virtuales distintas (pruébalo!)\n",
        "\n",
        "* También os podéis añadir comentarios. Selecciona texto o código, pulsa botón derecho del ratón e inserta comentario (será muy util para haceros llegar comentarios/correcciones de vuestros notebooks)\n",
        "\n",
        "* Para nuestro curso, verifica que el entorno de ejecución es Python 3. Se ve en *Entorno de Ejecución/Cambiar tipo de entorno de ejecución*\n",
        "\n",
        "* Puedes crear un nuevo Notebook, o bien a partir de uno que tengas abierto yendo a *Archivo/Nuevo Cuaderno* o bien entrando en colab.google.com\n",
        "\n",
        "* Generalmente os pediremos que entreguéis Notebooks, al final de clase, o como entregas. Tendréis que descargaros el Notebook en formato ipynb (*Archivo/Descargar .ipynb*, y subirlo a un enlace dropbox-like que os proporcionaremos para la ocasión"
      ]
    },
    {
      "cell_type": "markdown",
      "metadata": {
        "id": "_h9pLmhTHy5E",
        "colab_type": "text"
      },
      "source": [
        "**Consejos**\n",
        "\n",
        "* Para editar una celda de código o texto existente, haz doble clic en ella\n",
        "\n",
        "* Si has editado una celda de código debes volver a ejecutar la celda. También se puede hacer presionando \"Mayus\" + \"Intro\" (o \"cmd\" + \"Intro\" en un Mac). Esto permitirá que los cambios que hayas realizado estén disponibles para otras celdas posteriores. Por ejemplo, si cambias valores de variables, partes de una función, ...\n",
        "\n",
        "* Usa \"Intro\" para crear nuevas líneas dentro de una celda que estes editando\n",
        "\n",
        "* Usa el icono \"+ Código\" o \"+ Texto\" para insertar una celda debajo de la celda seleccionada actualmente. Si quieres desplazar esta celda abajo/arriba, lo puedes hacer usando las flechas que aparecen en la parte derecha superior del cuadro de edición de la celda\n",
        "\n",
        "* Si has realizado múltiples cambios y no recuerdas qué celdas has ejecutado o no, es conveniente ejecutarlas todas, para asegurarte que no has cometido ningún error. Se puede hacer desde *Entorno de Ejecución/Ejecutar todas* o bien reiniciando el entorno *Entorno de Ejecución/Reiniciar y ejecutar todo*"
      ]
    },
    {
      "cell_type": "code",
      "metadata": {
        "id": "FyTTd0PbEU4g",
        "colab_type": "code",
        "colab": {
          "base_uri": "https://localhost:8080/",
          "height": 34
        },
        "outputId": "d975f385-7489-4291-e5e0-72d4044312af"
      },
      "source": [
        "# Esto es un comentario en una celda de código\n",
        "print(\"Esto imprime por pantalla justo lo escrito entre comillas, si ejecutas la celda...\")\n"
      ],
      "execution_count": 2,
      "outputs": [
        {
          "output_type": "stream",
          "text": [
            "Esto imprime por pantalla justo lo escrito entre comillas, si ejecutas la celda...\n"
          ],
          "name": "stdout"
        }
      ]
    },
    {
      "cell_type": "markdown",
      "metadata": {
        "id": "v66lgtK3LLB8",
        "colab_type": "text"
      },
      "source": [
        "**Referencias**\n",
        "\n",
        "https://try.jupyter.org\n",
        "\n",
        "https://docs.python.org/3/tutorial/index.html\n",
        "\n",
        "https://docs.python.org/3/tutorial/introduction.html\n",
        "\n",
        "https://daringfireball.net/projects/markdown/syntax"
      ]
    }
  ]
}