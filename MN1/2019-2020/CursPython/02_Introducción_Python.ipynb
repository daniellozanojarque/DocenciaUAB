{
  "nbformat": 4,
  "nbformat_minor": 0,
  "metadata": {
    "colab": {
      "name": "02_Introducción_Python.ipynb",
      "provenance": [],
      "collapsed_sections": [],
      "authorship_tag": "ABX9TyPmeYBYysM0fltDkuor51IA",
      "include_colab_link": true
    },
    "kernelspec": {
      "name": "python3",
      "display_name": "Python 3"
    }
  },
  "cells": [
    {
      "cell_type": "markdown",
      "metadata": {
        "id": "view-in-github",
        "colab_type": "text"
      },
      "source": [
        "<a href=\"https://colab.research.google.com/github/joseflix/DocenciaUAB/blob/master/MN1/2019-2020/CursPython/02_Introducci%C3%B3n_Python.ipynb\" target=\"_parent\"><img src=\"https://colab.research.google.com/assets/colab-badge.svg\" alt=\"Open In Colab\"/></a>"
      ]
    },
    {
      "cell_type": "markdown",
      "metadata": {
        "id": "EWPGKBE4Ma55",
        "colab_type": "text"
      },
      "source": [
        "![Logo](https://dc722jrlp2zu8.cloudfront.net/media/cache/48/92/489228af7987303f9c1a8f5a18ec6333.webp)\n",
        "\n",
        "* texto extraído/adaptado de https://openwebinars.net/blog/que-es-python/\n"
      ]
    },
    {
      "cell_type": "markdown",
      "metadata": {
        "id": "usG9YI3BO5Kj",
        "colab_type": "text"
      },
      "source": [
        "Python es la navaja suiza de los programadores. Se trata de un veterano lenguaje de programación presente en multitud de aplicaciones y sistemas operativos. Podemos encontrarlo corriendo en servidores, en aplicaciones iOS, Android, Linux, Windows o Mac. Esto es debido a que cuenta con una curva de aprendizaje moderada ya que su filosofía hace hincapié en ofrecer una sintaxis de código legible.\n",
        "\n",
        "Es un lenguaje de programación versátil multiplataforma y multiparadigma que se destaca por su código legible y limpio. Una de las razones de su éxito es que cuenta con una licencia de código abierto que permite su utilización en cualquier escenario. Esto hace que sea uno de los lenguajes de iniciación de muchos programadores siendo impartido en escuelas y universidades de todo el mundo. Sumado a esto cuenta con grandes compañías que hacen de este un uso intensivo. Tal es el caso de Google, Facebook o Youtube, ya que permite, entre otras de sus características la automatización de procesos y ejecución de tareas en tanto en entorno cliente como servidor .\n",
        "\n",
        "Python es ideal para trabajar con grandes volúmenes de datos ya que, el ser multiplataforma, favorece su extracción y procesamiento, por eso lo eligen las empresas de Big Data. A nivel científico, tiene una gran biblioteca de recursos con especial énfasis en las matemáticas para aspirantes a programadores en áreas especializadas. Y si esto fuera poco, es posible crear videojuegos aunque no es tan eficiente como Java o C#.\n",
        "\n",
        "Python nació a principios de los 90 y, en un inicio, fue desarrollado como un hobby por Guido Van Rossum , un ingeniero holandés que trabajaba en ese momento en el CWI de Amsterdam, el Centro de Investigación de Ciencias de la Computación holandés y como curiosidad el nombre elegido, Python, fue tomado del grupo cómico británico Monty Python, del que Guido era un gran fan."
      ]
    },
    {
      "cell_type": "markdown",
      "metadata": {
        "id": "6BN6sHIEPAQU",
        "colab_type": "text"
      },
      "source": [
        "# **Características de Python**\n",
        "\n",
        "Un lenguaje sencillo, legible y elegante que atiende a un conjunto de reglas que hacen muy corta su curva de aprendizaje. Si ya tienes unas nociones de programación o vienes de programar en otros lenguajes como Java no te será difícil comenzar a leer y entender el código desarrollado en Python.\n",
        "\n",
        "El siguiente paso es comenzar a programar, verás que con muy pocas líneas de código es posible programar algoritmos complejos. Esto hace de Python un lenguaje práctico que permite ahorrar mucho tiempo."
      ]
    },
    {
      "cell_type": "markdown",
      "metadata": {
        "id": "_oHM_OiGPU-I",
        "colab_type": "text"
      },
      "source": [
        "# **Evolución y versiones de Python**\n",
        "\n",
        "La primera publicación de Python se produce hace ya 30 años. En 1989 Guido Van Rossum comenzó el desarrollo de un nuevo lenguaje de programación casi por hobby y tomando su nombre de el grupo humorístico británico Monty Python. Por entonces Guido trabajaba en el CWI (Un centro de investigación holandés que actualmente alberga la oficina central del W3C).\n",
        "\n",
        "En 1991 se publicó la versión 0.9.0 en alt.sources, un grupo de noticias muy concurrido en aquella época por desarrolladores ya que internet no era tal y como lo conocemos hoy en día y la conexión se hacía mediante una rudimentaria línea telefónica. Aquella versión ya presentaba características avanzadas como clases con herencia o manejo de excepciones. Esto hizo que pronto el lenguaje llamara la atención de desarrolladores de todo el mundo.\n",
        "\n",
        "En 1994 se formó comp.lang.python, foro de discusión principal de Python, marcando un hito en el crecimiento del grupo de usuarios de este lenguaje.\n",
        "\n",
        "Pero es en el año 2000 cuando se produce un importante hito. El equipo principal de desarrolladores cambia su dominio a BeOpen.com para formar BeOpen PythonLabs coincidiendo con la liberación de la versión 1.6 y 2.0 casi al mismo tiempo. Después que Python 2.0 fuera publicado por BeOpen.com, Guido van Rossum y los otros desarrolladores de PythonLabs se unieron a Digital Creations para continuar el desarrollo de las diferentes versiones hasta nuestros días."
      ]
    },
    {
      "cell_type": "markdown",
      "metadata": {
        "id": "1yi0-aW5PdSW",
        "colab_type": "text"
      },
      "source": [
        "# **Ventajas de programar en Python**\n",
        "\n",
        "* Simplificado y rápido: Este lenguaje simplifica mucho la programación, es un gran lenguaje para scripting.\n",
        "* Elegante y flexible: El lenguaje ofrece muchas facilidades al programador al ser fácilmente legible e interpretable.\n",
        "* Programación sana y productiva: Es sencillo de aprender, con una curva de aprendizaje moderada. Es muy fácil comenzar a programar y fomenta la productividad.\n",
        "* Ordenado y limpio: es muy legible y sus módulos están bien organizados.\n",
        "* Portable: Es un lenguaje muy portable. Podemos usarlo en prácticamente cualquier sistema de la actualidad.\n",
        "* Comunidad: Cuenta con un gran número de usuarios. Su comunidad participa activamente en el desarrollo del lenguaje."
      ]
    },
    {
      "cell_type": "markdown",
      "metadata": {
        "id": "DbbEu2AMPl-h",
        "colab_type": "text"
      },
      "source": [
        "# **Frameworks Python**\n",
        "\n",
        "Trabajar con Python puede ser divertido cuando trabajamos en proyectos pequeños pero si queremos sacar todo el provecho y potencial del lenguaje es inevitable pensar en usar un Framework.\n",
        "\n",
        "Un framework es una aplicación genérica que se puede configurar para añadirle las líneas de código que sean necesarias para programar una determinada aplicación; una analogía de ello podría ser un rompecabezas al que se le pueden agregar nuevas piezas para hacerlo más completo y detallado o agregarle nuevas funciones.Este marco de referencia o marco de trabajo pone a nuestra disposición un conjunto de código que podemos utilizar y reutilizar en cualquier sistema, así sea simple o complejo; ofreciéndonos una forma estándar para trabajar en un lenguaje de programación determinado como en nuestro caso Python. Pero ¿cuáles son los frameworks más populares?\n",
        "\n",
        "* Pyramid. Pyramid nació de una fusión entre Pylons 1.0 y repoze.bfg. Este framework cuenta con una documentación excelente y permite a los desarrolladores avanzar sin tener que contar con el apoyo de la comunidad. Pyramid se esfuerza por ser minimalista, rápido y fiable. Fue uno de los primeros frameworks web compatible con Python 3.\n",
        "* Bottle. Microframework muy simple que proporciona un mínimo de herramientas al desarrollador (enrutamiento, plantillas y una pequeña abstracción sobre WSGI) y es ideal para crear API web.\n",
        "* Django. Estoy seguro de que ya has oído hablar de este Framework. Con diferencia es el framework más popular para Python. Cuenta con una potente interfaz de administración, así como otras muchas características, además de una ingente comunidad de desarrolladores que le dan soporte."
      ]
    },
    {
      "cell_type": "markdown",
      "metadata": {
        "id": "jQT9CaEcP0Lf",
        "colab_type": "text"
      },
      "source": [
        "# **Futuro de Python: Uso en Data Science, Big Data e Inteligencia Artificial (IA)**\n",
        "\n",
        "A lo largo de los últimos 30 años Python ha disfrutado de una evolución constante además de el respaldo de la comunidad que le han hecho particularmente relevante en el desarrollo de aplicaciones en entorno servidor. Esto, junto con su sencillez, ha producido que pudiera situarse en la escena del Big Data y en especial del desarrollo de algoritmos de aprendizaje automatizado.\n",
        "\n",
        "La generalización del Big Data en los últimos años, seguida de la explosión de la Inteligencia Artificial, Machine Learning, Deep Learning y la consolidación de la ciencia de datos como un nuevo área de trabajo con especialistas propios, ha revolucionado el panorama.\n",
        "\n",
        "Al estar Python muy presente en el ámbito educativo siendo usado como lenguaje de referencia en escuelas y universidades su presencia en el campo de la investigación es más que justificado. Lo que ha producido que muchas de las herramientas que han surgido en este sector han sido desarrolladas en este lenguaje y explotadas por los ingenieros de datos y los científicos de datos. Algunos ejemplos son PySpark (Big Data), o Pandas, NumPy, Matplotlib o Jupyter (Data Science)."
      ]
    },
    {
      "cell_type": "markdown",
      "metadata": {
        "id": "xMBZHI59P5d4",
        "colab_type": "text"
      },
      "source": [
        "# **Conclusiones**\n",
        "\n",
        "A pesar de los 30 años que ya cuenta Python es un lenguaje maduro pero que se encuentra en un continuo proceso de evolución . Gracias a su comunidad de desarrolladores cuenta con una amplia documentación y como decíamos ha pasado por numerosas épocas y versiones diferentes que prueban su solvencia.\n",
        "\n",
        "Python es un lenguaje de propósito general con un uso muy extendido . Esto hace que aunque algunos lenguajes tienen mejor posición, como es el caso de R en tecnologías de Data Science y Machine Learning, Python permite abarcas proyectos de una manera mucho más rápida y eficiente por lo que si eres desarrollador, ingeniero o científico de datos no deberías perder más tiempo y comenzar especializarte en Python o al menos conocer sus bondades."
      ]
    }
  ]
}