{
  "nbformat": 4,
  "nbformat_minor": 0,
  "metadata": {
    "colab": {
      "name": "03_Primeros_pasos_Python.ipynb",
      "provenance": [],
      "collapsed_sections": [],
      "authorship_tag": "ABX9TyPRH3WbluOatUOQqdVWxm6l",
      "include_colab_link": true
    },
    "kernelspec": {
      "name": "python3",
      "display_name": "Python 3"
    }
  },
  "cells": [
    {
      "cell_type": "markdown",
      "metadata": {
        "id": "view-in-github",
        "colab_type": "text"
      },
      "source": [
        "<a href=\"https://colab.research.google.com/github/joseflix/DocenciaUAB/blob/master/MN1/2019-2020/CursPython/03_Primeros_pasos_Python.ipynb\" target=\"_parent\"><img src=\"https://colab.research.google.com/assets/colab-badge.svg\" alt=\"Open In Colab\"/></a>"
      ]
    },
    {
      "cell_type": "markdown",
      "metadata": {
        "id": "1_AxXqW8SlH0",
        "colab_type": "text"
      },
      "source": [
        "# **Primeros pasos en Python**\n",
        "\n",
        "Necesitamos un entorno de ejecución para python. Nosotros usaremos Jupyter Notebooks alojados en Google (Google Colab), pero muchos ordenadores ya traen instalado python o se les puede instalar fácilmente (desde https://www.python.org/)\n",
        "\n",
        "Para comprobar si lo tienes instalado en tu ordenador, puedes abrir una terminal y ejecutar la siguiente línea:\n",
        "\n",
        "*C:\\Users\\Your Name>python --version* (Windows)\n",
        "\n",
        "*\\>python --version* (Mac/Linux)\n",
        "\n",
        "Si te devuelve un número de versión es que lo tienes instalado, y en principio, puedes usar el interpretador para ejecutar o desarrollar código de python.\n",
        "\n",
        "* Aunque lo tengas instalado, vamos a hacer uso de Google Colab, ya que es un entorno que nos va a permitir gestionar mejor las clases, y material que realizemos"
      ]
    },
    {
      "cell_type": "markdown",
      "metadata": {
        "id": "meEeOipnTwHq",
        "colab_type": "text"
      },
      "source": [
        "# **Mi primer programa en Python**\n",
        "\n",
        "Vamos a hacer un primer programa en python, que va a consistir en imprimir tu nombre por pantalla, al ejecutar una celda de código. Para ello usaremos la función de Python que se llama *print()*. Dentro de los parentesi se le pasa el argumento a esta función, en este caso tu nombre... Los textos siempre se ponen entre comillas... Así que la parte de código será:"
      ]
    },
    {
      "cell_type": "code",
      "metadata": {
        "id": "wNxTltNiSbwM",
        "colab_type": "code",
        "colab": {
          "base_uri": "https://localhost:8080/",
          "height": 34
        },
        "outputId": "0023e963-e1cc-4710-eee7-d36e673dce14"
      },
      "source": [
        "print(\"Josep Flix\")"
      ],
      "execution_count": 18,
      "outputs": [
        {
          "output_type": "stream",
          "text": [
            "Josep Flix\n"
          ],
          "name": "stdout"
        }
      ]
    },
    {
      "cell_type": "markdown",
      "metadata": {
        "id": "eSyw71ACUjri",
        "colab_type": "text"
      },
      "source": [
        "En python podemos guardar valores en varibles, como veremos más adelante. Imagina que tienes una variable que tiene el valor de 5:"
      ]
    },
    {
      "cell_type": "code",
      "metadata": {
        "id": "-Eu9wMcEUv5j",
        "colab_type": "code",
        "colab": {}
      },
      "source": [
        "x = 5"
      ],
      "execution_count": 0,
      "outputs": []
    },
    {
      "cell_type": "markdown",
      "metadata": {
        "id": "vQs1YzYsUx7m",
        "colab_type": "text"
      },
      "source": [
        "Si ejecutas la celda, se le asigna el valor de 5 a la variable *x*. Si ahora quieres imprimir el valor de esta variable, también puedes usar la función *print()*"
      ]
    },
    {
      "cell_type": "code",
      "metadata": {
        "id": "1U6AVQkgU98J",
        "colab_type": "code",
        "colab": {
          "base_uri": "https://localhost:8080/",
          "height": 34
        },
        "outputId": "2b5fd0c2-69ce-4254-af3a-e08c1b4d1dc7"
      },
      "source": [
        "print(x)"
      ],
      "execution_count": 20,
      "outputs": [
        {
          "output_type": "stream",
          "text": [
            "5\n"
          ],
          "name": "stdout"
        }
      ]
    },
    {
      "cell_type": "markdown",
      "metadata": {
        "id": "JuzU9BwDVAtV",
        "colab_type": "text"
      },
      "source": [
        "fíjate que ahora no le has pasado la *x* entre comillas, porque *x* es una variable de Python. Si la pasas la *x* entre comillas, la función *print()* nos va a mostrar por pantalla lo escrito entre comillas, que es en este caso *x*:"
      ]
    },
    {
      "cell_type": "code",
      "metadata": {
        "id": "9zy4urJZVSWN",
        "colab_type": "code",
        "colab": {
          "base_uri": "https://localhost:8080/",
          "height": 34
        },
        "outputId": "444c2786-8ddb-4240-c9fc-b08172e2ffe7"
      },
      "source": [
        "print(\"x\")"
      ],
      "execution_count": 21,
      "outputs": [
        {
          "output_type": "stream",
          "text": [
            "x\n"
          ],
          "name": "stdout"
        }
      ]
    },
    {
      "cell_type": "markdown",
      "metadata": {
        "id": "ap7N7lfgVUo1",
        "colab_type": "text"
      },
      "source": [
        "*x* es una variable, porque su valor puede cambiar, si le volvemos a asignar otro valor:"
      ]
    },
    {
      "cell_type": "code",
      "metadata": {
        "id": "7TpibUDIVaa8",
        "colab_type": "code",
        "colab": {
          "base_uri": "https://localhost:8080/",
          "height": 51
        },
        "outputId": "a6f56648-222d-418f-f596-93e21b1c0784"
      },
      "source": [
        "print(x) # imprime el primer valor asignado => 5\n",
        "x = 9 # le asignamos otro valor\n",
        "print(x) # imprime el segundo valor asignado => 9\n",
        "\n",
        "# Como ves, '#' se utiliza para poner comentarios en el código, esto no hace nada cuando ejecutamos una celda..."
      ],
      "execution_count": 22,
      "outputs": [
        {
          "output_type": "stream",
          "text": [
            "5\n",
            "9\n"
          ],
          "name": "stdout"
        }
      ]
    },
    {
      "cell_type": "markdown",
      "metadata": {
        "id": "5czdJWQ8ZD-J",
        "colab_type": "text"
      },
      "source": [
        "También le podemos cambiar el valor a texto, por ejemplo:"
      ]
    },
    {
      "cell_type": "code",
      "metadata": {
        "id": "Y_R8E9kCZHt9",
        "colab_type": "code",
        "colab": {
          "base_uri": "https://localhost:8080/",
          "height": 34
        },
        "outputId": "60a6617f-4697-4b13-e8e3-3f6c33cb9067"
      },
      "source": [
        "x = \"Josep Flix\"\n",
        "print(x)"
      ],
      "execution_count": 28,
      "outputs": [
        {
          "output_type": "stream",
          "text": [
            "Josep Flix\n"
          ],
          "name": "stdout"
        }
      ]
    },
    {
      "cell_type": "markdown",
      "metadata": {
        "id": "U3MZNzi8WIo2",
        "colab_type": "text"
      },
      "source": [
        "# **Sintaxis en Python**\n",
        "\n",
        "Es muy importante como se escribe código en Python, ya que el uso de sangría (indenting) tiene un significado importante. Mira este ejemplo:"
      ]
    },
    {
      "cell_type": "code",
      "metadata": {
        "id": "TnbbToE7WsPK",
        "colab_type": "code",
        "colab": {
          "base_uri": "https://localhost:8080/",
          "height": 51
        },
        "outputId": "5f4aff14-ac3e-4f3b-fa2b-da3943c93ac7"
      },
      "source": [
        "if 5 > 2: # if statement\n",
        "  print(\"5 es mayor que 2!\")\n",
        "  print(\"Indentation define un bloque de código, después de un statement\")"
      ],
      "execution_count": 23,
      "outputs": [
        {
          "output_type": "stream",
          "text": [
            "5 es mayor que 2!\n",
            "Indentation define un bloque de código, después de un statement\n"
          ],
          "name": "stdout"
        }
      ]
    },
    {
      "cell_type": "markdown",
      "metadata": {
        "id": "uaUCJHi_W8B7",
        "colab_type": "text"
      },
      "source": [
        "Veremos en detalle que significa esta parte de código un poco más adelante, pero básicamente estamos preguntando si (if) 5 es mayor de 2. En caso afirmativo, se ejecuta el bloque de código que viene a continuación, el que está con sangría después de : (todo ese bloque!)\n",
        "\n",
        "Si no usas la sangría da error:"
      ]
    },
    {
      "cell_type": "code",
      "metadata": {
        "id": "hHsM1qKuXSnn",
        "colab_type": "code",
        "colab": {
          "base_uri": "https://localhost:8080/",
          "height": 130
        },
        "outputId": "ff07f271-d18d-4957-8f5f-bc28021b5f68"
      },
      "source": [
        "if 5 > 2:\n",
        "print(\"5 es mayor que 2!\")\n",
        "print(\"Indentation define un bloque de código, después de un statement\")"
      ],
      "execution_count": 24,
      "outputs": [
        {
          "output_type": "error",
          "ename": "IndentationError",
          "evalue": "ignored",
          "traceback": [
            "\u001b[0;36m  File \u001b[0;32m\"<ipython-input-24-25958b288582>\"\u001b[0;36m, line \u001b[0;32m2\u001b[0m\n\u001b[0;31m    print(\"5 es mayor que 2!\")\u001b[0m\n\u001b[0m        ^\u001b[0m\n\u001b[0;31mIndentationError\u001b[0m\u001b[0;31m:\u001b[0m expected an indented block\n"
          ]
        }
      ]
    },
    {
      "cell_type": "markdown",
      "metadata": {
        "id": "CyMCFWNlYeKB",
        "colab_type": "text"
      },
      "source": [
        "Si escribes las sangrías de forma incorrecta, también tienes error de ejecución:"
      ]
    },
    {
      "cell_type": "code",
      "metadata": {
        "id": "PRdKk6uKYlUn",
        "colab_type": "code",
        "colab": {
          "base_uri": "https://localhost:8080/",
          "height": 130
        },
        "outputId": "aa924374-cfe1-4fd6-e4e6-d76823dc00da"
      },
      "source": [
        "if 5 > 2:\n",
        "  print(\"5 es mayor que 2!\")\n",
        "    print(\"Indentation define un bloque de código, después de un statement\") "
      ],
      "execution_count": 25,
      "outputs": [
        {
          "output_type": "error",
          "ename": "IndentationError",
          "evalue": "ignored",
          "traceback": [
            "\u001b[0;36m  File \u001b[0;32m\"<ipython-input-25-667631a43c77>\"\u001b[0;36m, line \u001b[0;32m3\u001b[0m\n\u001b[0;31m    print(\"Indentation define un bloque de código, después de un statement\")\u001b[0m\n\u001b[0m    ^\u001b[0m\n\u001b[0;31mIndentationError\u001b[0m\u001b[0;31m:\u001b[0m unexpected indent\n"
          ]
        }
      ]
    },
    {
      "cell_type": "markdown",
      "metadata": {
        "id": "Z7gp1pW3XXGM",
        "colab_type": "text"
      },
      "source": [
        "y si algo está fuera del bloque de código que se encuentra con sangría, se ejecuta fuera. Por ejemplo:"
      ]
    },
    {
      "cell_type": "code",
      "metadata": {
        "id": "4v_6r1uQXmYH",
        "colab_type": "code",
        "colab": {
          "base_uri": "https://localhost:8080/",
          "height": 34
        },
        "outputId": "36830654-81ab-4392-efd2-760c417db6a5"
      },
      "source": [
        "if 5 < 2:\n",
        "  print(\"5 es mayor que 2!\")\n",
        "  print(\"Indentation define un bloque de código, después de un statement\")\n",
        "print(\"No se ejecuta el bloque porque hemos preguntado si 5 es menor que 2, que es falso, entonces no se ejecuta el bloque\")"
      ],
      "execution_count": 26,
      "outputs": [
        {
          "output_type": "stream",
          "text": [
            "No se ejecuta el bloque porque hemos preguntado si 5 es menor que 2, que es falso, entonces no se ejecuta el bloque\n"
          ],
          "name": "stdout"
        }
      ]
    },
    {
      "cell_type": "markdown",
      "metadata": {
        "id": "ea4VgnI3YEuF",
        "colab_type": "text"
      },
      "source": [
        "Ojo, que se pueden poner otros statements dentro y las sangrías cuentan también. Por ejemplo:"
      ]
    },
    {
      "cell_type": "code",
      "metadata": {
        "id": "hRrnPhPzYLe3",
        "colab_type": "code",
        "colab": {
          "base_uri": "https://localhost:8080/",
          "height": 68
        },
        "outputId": "7ae81a3d-6374-430a-9df3-8be4b06279d3"
      },
      "source": [
        "if 5 > 2:\n",
        "  print(\"5 es mayor que 2!\")\n",
        "  if 6 > 2:\n",
        "    print(\"6 es mayor que 2!\")\n",
        "    if 52 < 53:\n",
        "      print(\"52 es menor que 53!\")"
      ],
      "execution_count": 27,
      "outputs": [
        {
          "output_type": "stream",
          "text": [
            "5 es mayor que 2!\n",
            "6 es mayor que 2!\n",
            "52 es menor que 53!\n"
          ],
          "name": "stdout"
        }
      ]
    },
    {
      "cell_type": "markdown",
      "metadata": {
        "id": "9l0fBZplYsCd",
        "colab_type": "text"
      },
      "source": [
        "Esto es una cosa que iremos viendo a lo largo del tutorial..."
      ]
    },
    {
      "cell_type": "markdown",
      "metadata": {
        "id": "-uozVh2nZT0J",
        "colab_type": "text"
      },
      "source": [
        "# **Comentarios**\n",
        "\n",
        "En Python se usa # para poner comentarios. Podemos usar una línea para poner un comentario, añadir un comentario después de una línea de código (a la derecha), o comentar por completo una línea de código para que no se ejecute.\n",
        "\n",
        "Por ejemplo:"
      ]
    },
    {
      "cell_type": "code",
      "metadata": {
        "id": "E5Tgbp5-ZkI0",
        "colab_type": "code",
        "colab": {
          "base_uri": "https://localhost:8080/",
          "height": 34
        },
        "outputId": "7d726140-befd-4fdf-f0fb-72d8951745c7"
      },
      "source": [
        "# Esto es una línea comentario\n",
        "print(x) # Esto imprime el último valor asignado a x\n",
        "#y = 10\n",
        "#print(y) \n",
        "# estas últimas dos líneas las he comentado para que no se ejecuten. Se pueden 'descomentar' quitando las #"
      ],
      "execution_count": 29,
      "outputs": [
        {
          "output_type": "stream",
          "text": [
            "Josep Flix\n"
          ],
          "name": "stdout"
        }
      ]
    },
    {
      "cell_type": "markdown",
      "metadata": {
        "id": "qXu59XTDaAZx",
        "colab_type": "text"
      },
      "source": [
        "También podemos poner comentarios multilíneas usando '''. Por ejemplo:"
      ]
    },
    {
      "cell_type": "code",
      "metadata": {
        "id": "DJfsldy4aG2j",
        "colab_type": "code",
        "colab": {
          "base_uri": "https://localhost:8080/",
          "height": 51
        },
        "outputId": "142d37e4-bb04-427f-dc39-17ef9d72b26a"
      },
      "source": [
        "# Esto\n",
        "# es \n",
        "# un\n",
        "# comentario\n",
        "# multilínea\n",
        "print(x)\n",
        "\n",
        "'''\n",
        "Esto\n",
        "es \n",
        "un\n",
        "comentario\n",
        "multilínea\n",
        "'''\n",
        "print(x)\n"
      ],
      "execution_count": 30,
      "outputs": [
        {
          "output_type": "stream",
          "text": [
            "Josep Flix\n",
            "Josep Flix\n"
          ],
          "name": "stdout"
        }
      ]
    }
  ]
}