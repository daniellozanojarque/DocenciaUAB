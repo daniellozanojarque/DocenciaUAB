{
  "nbformat": 4,
  "nbformat_minor": 0,
  "metadata": {
    "colab": {
      "name": "04_Tipos_de_Variables_Python.ipynb",
      "provenance": [],
      "collapsed_sections": [],
      "authorship_tag": "ABX9TyORL3aF7lRMV3Cv1BxSy9ZO",
      "include_colab_link": true
    },
    "kernelspec": {
      "name": "python3",
      "display_name": "Python 3"
    }
  },
  "cells": [
    {
      "cell_type": "markdown",
      "metadata": {
        "id": "view-in-github",
        "colab_type": "text"
      },
      "source": [
        "<a href=\"https://colab.research.google.com/github/joseflix/DocenciaUAB/blob/master/MN1/2019-2020/CursPython/04_Tipos_de_Variables_Python.ipynb\" target=\"_parent\"><img src=\"https://colab.research.google.com/assets/colab-badge.svg\" alt=\"Open In Colab\"/></a>"
      ]
    },
    {
      "cell_type": "markdown",
      "metadata": {
        "id": "QpMh07WOdez4",
        "colab_type": "text"
      },
      "source": [
        "# **Variables en Python**\n",
        "\n",
        "Las variables son \"contenedores\" para almacenar valores de datos.\n",
        "\n",
        "A diferencia de otros lenguajes de programación, Python no tiene ningún comando para declarar una variable. Se crea una variable en el momento que se le asigna un valor por primera vez. Por ejemplo:"
      ]
    },
    {
      "cell_type": "code",
      "metadata": {
        "id": "2W1xo4HAdSo6",
        "colab_type": "code",
        "colab": {
          "base_uri": "https://localhost:8080/",
          "height": 51
        },
        "outputId": "cfdb3191-e69b-4254-a605-f42cc16cd1e3"
      },
      "source": [
        "x = 5\n",
        "y = \"Josep\"\n",
        "print(x)\n",
        "print(y)"
      ],
      "execution_count": 1,
      "outputs": [
        {
          "output_type": "stream",
          "text": [
            "5\n",
            "Josep\n"
          ],
          "name": "stdout"
        }
      ]
    },
    {
      "cell_type": "markdown",
      "metadata": {
        "id": "sUizhxJ4ej89",
        "colab_type": "text"
      },
      "source": [
        "No es necesario declarar las variables con ningún tipo en particular e incluso puede cambiar el tipo después de que se hayan establecido (a diferencia de otros lenguajes de programación). Esto hace la vida más sencilla, pero es objeto de fallos que pueden suceder a la hora de ir desarrollando un programa... ve con ojo!"
      ]
    },
    {
      "cell_type": "code",
      "metadata": {
        "id": "OX24YAITEcz-",
        "colab_type": "code",
        "colab": {
          "base_uri": "https://localhost:8080/",
          "height": 34
        },
        "outputId": "4f3b24dd-79ab-4230-99d1-eda99ca89c65"
      },
      "source": [
        "x = 4 # x es de tipo entero (int)\n",
        "x = \"Sally\" # x es ahora de tipo string (str)\n",
        "print(x)"
      ],
      "execution_count": 2,
      "outputs": [
        {
          "output_type": "stream",
          "text": [
            "Sally\n"
          ],
          "name": "stdout"
        }
      ]
    },
    {
      "cell_type": "markdown",
      "metadata": {
        "id": "9pY6tKPpEqYF",
        "colab_type": "text"
      },
      "source": [
        "Las variables de tipo string se pueden declarar mediante comillas simples o dobles:"
      ]
    },
    {
      "cell_type": "code",
      "metadata": {
        "id": "19j15lDWEm3m",
        "colab_type": "code",
        "colab": {
          "base_uri": "https://localhost:8080/",
          "height": 34
        },
        "outputId": "4aca8b52-a9ee-45f6-829b-163c4905090b"
      },
      "source": [
        "x = 'Josep'\n",
        "y = \"Josep\"\n",
        "print(x,y) # la misma función print permite imprimir múltiples variables, siempre que se separe con una coma"
      ],
      "execution_count": 3,
      "outputs": [
        {
          "output_type": "stream",
          "text": [
            "Josep Josep\n"
          ],
          "name": "stdout"
        }
      ]
    },
    {
      "cell_type": "markdown",
      "metadata": {
        "id": "Tux429VaFDJG",
        "colab_type": "text"
      },
      "source": [
        "# **Los nombres de las variables**\n",
        "\n",
        "Una variable puede tener un nombre corto (como x e y) o un nombre más descriptivo (edad, marca de un coche, volumen_total). \n",
        "\n",
        "Existen unas reglas para los nombre de variables de Python:\n",
        "\n",
        "* Un nombre de variable debe comenzar con una letra o el carácter \"_\"\n",
        "* Un nombre de variable no puede comenzar con un número\n",
        "* Un nombre de variable solo puede contener caracteres alfanuméricos y guiones bajos (A-z, 0-9 y _)\n",
        "* Los nombres de las variables distinguen entre mayúsculas y minúsculas (edad, Edad y EDAD son tres variables diferentes)"
      ]
    },
    {
      "cell_type": "code",
      "metadata": {
        "id": "x9mK3VliFvqW",
        "colab_type": "code",
        "colab": {}
      },
      "source": [
        "#Nombre de variables correctos\n",
        "myvar = \"John\"\n",
        "my_var = \"John\"\n",
        "_my_var = \"John\"\n",
        "myVar = \"John\"\n",
        "MYVAR = \"John\"\n",
        "myvar2 = \"John\"\n",
        "\n",
        "#Nombre de variables incorrectos\n",
        "2myvar = \"John\"\n",
        "my-var = \"John\"\n",
        "my var = \"John\""
      ],
      "execution_count": 0,
      "outputs": []
    },
    {
      "cell_type": "markdown",
      "metadata": {
        "id": "1DambIbDF1i6",
        "colab_type": "text"
      },
      "source": [
        "Conocer estas normas evita problemas a la hora de definir nombres de variables."
      ]
    },
    {
      "cell_type": "markdown",
      "metadata": {
        "id": "iNDp6V0vGOwJ",
        "colab_type": "text"
      },
      "source": [
        "# **Tipos de variables**\n",
        "\n",
        "Esta tabla recoje todos los tipos de variables que se pueden definir en Python: \n",
        "\n",
        "https://es.wikipedia.org/wiki/Python#Tipos_de_datos\n",
        "\n",
        "https://www.w3schools.com/python/python_datatypes.asp\n",
        "\n",
        "En este curso trabajaremos con variables de tipo int, float, strings, listas, tuples, y booleans (True/False). \n",
        "\n",
        "Las variables pueden ser mutables or inmutables, o globales... Pero estos conceptos no se trabajarán en detalle en este curso. \n",
        "\n",
        "En cualquier caso siempre podemos obtener el tipo de una variable, en caso de duda, usando la función *type*"
      ]
    },
    {
      "cell_type": "code",
      "metadata": {
        "id": "9sF6FHZgITwk",
        "colab_type": "code",
        "colab": {
          "base_uri": "https://localhost:8080/",
          "height": 51
        },
        "outputId": "d8523672-2667-457a-e1bd-d3395c4185c5"
      },
      "source": [
        "x = 5\n",
        "print(type(x))\n",
        "\n",
        "y = \"Coche\"\n",
        "print(type(y))"
      ],
      "execution_count": 7,
      "outputs": [
        {
          "output_type": "stream",
          "text": [
            "<class 'int'>\n",
            "<class 'str'>\n"
          ],
          "name": "stdout"
        }
      ]
    },
    {
      "cell_type": "markdown",
      "metadata": {
        "id": "XAUQgO-XIfdw",
        "colab_type": "text"
      },
      "source": [
        "Uno puede 'forzar' el tipo de una variable. Imagina que tienes el valor 5 y quieres que sea definido no como un entero, sino como un float. Se puede forzar esto a la hora de asignar el valor de la variable como"
      ]
    },
    {
      "cell_type": "code",
      "metadata": {
        "id": "NFnYkIHvJW2o",
        "colab_type": "code",
        "colab": {
          "base_uri": "https://localhost:8080/",
          "height": 51
        },
        "outputId": "29365ebe-6056-4df9-cfda-342128694aa7"
      },
      "source": [
        "x = float(5)\n",
        "print(x)\n",
        "print(type(x))\n",
        "\n",
        "# Se pueden forzar valores a ser int(), str(), etc... Esto tiene implicaciones, cuando veamos las operaciones de variables."
      ],
      "execution_count": 10,
      "outputs": [
        {
          "output_type": "stream",
          "text": [
            "5.0\n",
            "<class 'float'>\n"
          ],
          "name": "stdout"
        }
      ]
    },
    {
      "cell_type": "markdown",
      "metadata": {
        "id": "j-3i3m-vJ3bs",
        "colab_type": "text"
      },
      "source": [
        "Se puede ver como hacer casts de valores (forzar) aquí: https://www.w3schools.com/python/python_casting.asp\n"
      ]
    },
    {
      "cell_type": "markdown",
      "metadata": {
        "id": "NuHDWb09HpsH",
        "colab_type": "text"
      },
      "source": [
        "# **Asignar valores a múltiples variables**\n",
        "\n",
        "Python permite asignar valores a múltiples variables en una única línea. Por ejemplo:"
      ]
    },
    {
      "cell_type": "code",
      "metadata": {
        "id": "t8TWrL2-GvLE",
        "colab_type": "code",
        "colab": {
          "base_uri": "https://localhost:8080/",
          "height": 170
        },
        "outputId": "679809cf-ff36-42c8-8f1c-e0f0ecd1e5aa"
      },
      "source": [
        "x, y, z = \"Orange\", \"Banana\", \"Cherry\"\n",
        "print(x)\n",
        "print(y)\n",
        "print(z)\n",
        "\n",
        "x, y, z = 1, 2, 3\n",
        "print(x)\n",
        "print(y)\n",
        "print(z)\n",
        "\n",
        "x = y = z = \"Orange\"\n",
        "print(x)\n",
        "print(y)\n",
        "print(z)"
      ],
      "execution_count": 6,
      "outputs": [
        {
          "output_type": "stream",
          "text": [
            "Orange\n",
            "Banana\n",
            "Cherry\n",
            "1\n",
            "2\n",
            "3\n",
            "Orange\n",
            "Orange\n",
            "Orange\n"
          ],
          "name": "stdout"
        }
      ]
    },
    {
      "cell_type": "markdown",
      "metadata": {
        "id": "d0bcYYnhLZRk",
        "colab_type": "text"
      },
      "source": [
        "# **Booleans**\n",
        "\n",
        "Antes hemos visto un statement del tipo *if 5 > 1 :*. Si el stament es True se ejecuta el bloque despues del :... Vamos a ver que podemos incluso ver el tipo de Booleano que nos da la expresión 5 > 1..."
      ]
    },
    {
      "cell_type": "code",
      "metadata": {
        "id": "7B5_Y_fvMRiY",
        "colab_type": "code",
        "colab": {
          "base_uri": "https://localhost:8080/",
          "height": 68
        },
        "outputId": "6158bba4-d68d-4b29-c89b-1e280e130df9"
      },
      "source": [
        "print(5 > 1)\n",
        "print(type(5 > 1))\n",
        "\n",
        "k = 5 > 1 # Se puede asignar un valor booleano a una variable\n",
        "print(k)"
      ],
      "execution_count": 14,
      "outputs": [
        {
          "output_type": "stream",
          "text": [
            "True\n",
            "<class 'bool'>\n",
            "True\n"
          ],
          "name": "stdout"
        }
      ]
    },
    {
      "cell_type": "markdown",
      "metadata": {
        "id": "7Dd8wjcSMhN_",
        "colab_type": "text"
      },
      "source": [
        "Ojo que un booleano puede usar el valor de una variable, y si cambia, el valor del booleano no cambia, porque su valor se asigna durante la creación:"
      ]
    },
    {
      "cell_type": "code",
      "metadata": {
        "id": "cRfYckWmMpS8",
        "colab_type": "code",
        "colab": {
          "base_uri": "https://localhost:8080/",
          "height": 119
        },
        "outputId": "c8b633dd-70cf-47d5-eb8c-674969baed12"
      },
      "source": [
        "a = 6\n",
        "b = a > 1\n",
        "\n",
        "print(\"-\")\n",
        "print(b)\n",
        "\n",
        "#Ahora cambiamos el valor de a = 0, de manera que ahora 0 > 1 debería ser False... Vamos a ver qué da...\n",
        "\n",
        "a = 0\n",
        "print(\"--\")\n",
        "print(b)\n",
        "\n",
        "# Fijaros que se tiene que volver a asignar el valor a la variable\n",
        "\n",
        "b = a > 1\n",
        "print(\"--\")\n",
        "print(b)"
      ],
      "execution_count": 18,
      "outputs": [
        {
          "output_type": "stream",
          "text": [
            "-\n",
            "True\n",
            "--\n",
            "True\n",
            "--\n",
            "False\n"
          ],
          "name": "stdout"
        }
      ]
    }
  ]
}