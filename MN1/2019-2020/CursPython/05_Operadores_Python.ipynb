{
  "nbformat": 4,
  "nbformat_minor": 0,
  "metadata": {
    "colab": {
      "name": "05_Operadores_Python.ipynb",
      "provenance": [],
      "collapsed_sections": [],
      "authorship_tag": "ABX9TyMB+VDAeEdDuNiMAxKFiVJV",
      "include_colab_link": true
    },
    "kernelspec": {
      "name": "python3",
      "display_name": "Python 3"
    }
  },
  "cells": [
    {
      "cell_type": "markdown",
      "metadata": {
        "id": "view-in-github",
        "colab_type": "text"
      },
      "source": [
        "<a href=\"https://colab.research.google.com/github/joseflix/DocenciaUAB/blob/master/MN1/2019-2020/CursPython/05_Operadores_Python.ipynb\" target=\"_parent\"><img src=\"https://colab.research.google.com/assets/colab-badge.svg\" alt=\"Open In Colab\"/></a>"
      ]
    },
    {
      "cell_type": "markdown",
      "metadata": {
        "id": "vDPqUfmbNpnE",
        "colab_type": "text"
      },
      "source": [
        "# **Operadores en Python**\n",
        "\n",
        "Los operadores se utilizan para realizar operaciones en variables y valores. Python divide los operadores en los siguientes grupos, mayoritariamente:\n",
        "\n",
        "* Operadores aritméticos\n",
        "* Operadores de Asignación\n",
        "* Operadores de comparación\n",
        "* Operadores logicos\n",
        "\n",
        "Ver la lista completa con ejemplos en: https://www.w3schools.com/python/python_operators.asp\n"
      ]
    },
    {
      "cell_type": "markdown",
      "metadata": {
        "id": "pRbwzBQlOCe-",
        "colab_type": "text"
      },
      "source": [
        "## **Operadores aritméticos**\n",
        "\n",
        "Los operadores aritméticos se usan con valores numéricos para realizar operaciones matemáticas comunes, siendo las más comunes:"
      ]
    },
    {
      "cell_type": "code",
      "metadata": {
        "id": "TjAwiJY3NiCf",
        "colab_type": "code",
        "colab": {
          "base_uri": "https://localhost:8080/",
          "height": 85
        },
        "outputId": "ff0ee1d9-fec7-4c75-b5e4-ca87c871985c"
      },
      "source": [
        "a = 10\n",
        "b = 5\n",
        "\n",
        "print(\"Suma:\", a + b) # Suma\n",
        "print(\"Resta:\", a - b) # Resta\n",
        "print(\"Multiplicación:\", a*b) # Multiplicación\n",
        "print(\"División:\", a/b) # División\n"
      ],
      "execution_count": 7,
      "outputs": [
        {
          "output_type": "stream",
          "text": [
            "Suma: 15\n",
            "Resta: 5\n",
            "Multiplicación: 50\n",
            "División: 2.0\n"
          ],
          "name": "stdout"
        }
      ]
    },
    {
      "cell_type": "markdown",
      "metadata": {
        "id": "ezquOjQKQDbW",
        "colab_type": "text"
      },
      "source": [
        "## **Operadores de asignación**\n",
        "\n",
        "Los operadores de asignación se utilizan para asignar valores a las variables. Hemos visto algunos. Veamos más ejemplos:"
      ]
    },
    {
      "cell_type": "code",
      "metadata": {
        "id": "7gtqFUdfQS41",
        "colab_type": "code",
        "colab": {
          "base_uri": "https://localhost:8080/",
          "height": 136
        },
        "outputId": "696b501c-b62d-468f-cc82-680967ed6403"
      },
      "source": [
        "x = 5 # a) Esto asigna 5 a x\n",
        "print(\"a)\", x)\n",
        "\n",
        "x += 4 # b) Esto equivale a x = x + 4, primero se evalua la parte de la derecha, es decir 5 + 4 = 9, y el 9 se asigna a x\n",
        "print(\"b)\", x)\n",
        "x += 4 # c) Esto equivale a x = x + 4, primero se evalua la parte de la derecha, es decir ahora 9 + 4 = 13, y el 13 se asigna a x\n",
        "print(\"c)\", x)\n",
        "\n",
        "x -= 4 # d) Esto equivale a x = x - 4, primero se evalua la parte de la derecha, es decir 13 - 4 = 9, y el 9 se asigna a x\n",
        "print(\"d)\", x)\n",
        "x -= 4 # e) Esto equivale a x = x - 4, primero se evalua la parte de la derecha, es decir ahora 9 - 4 = 5, y el 5 se asigna a x\n",
        "print(\"e)\", x)\n",
        "\n",
        "x *= 3 # f) Esto equivale a x = x*3, es decir 5*3 = 15, y el 15 se asigna a x\n",
        "print(\"f)\", x)\n",
        "\n",
        "x /= 3 # g) Esto equivale a x = x/3, es decir 15/3 = 5, y el 5 se asigna a x\n",
        "print(\"g)\", x)\n"
      ],
      "execution_count": 26,
      "outputs": [
        {
          "output_type": "stream",
          "text": [
            "a) 5\n",
            "b) 9\n",
            "c) 13\n",
            "d) 9\n",
            "e) 5\n",
            "f) 15\n",
            "g) 5.0\n"
          ],
          "name": "stdout"
        }
      ]
    },
    {
      "cell_type": "markdown",
      "metadata": {
        "id": "hacJ9V9WSJeA",
        "colab_type": "text"
      },
      "source": [
        "## **Operadores de comparación**\n",
        "\n",
        "Los operadores de comparación se utilizan para comparar dos valores. El resultado es True o False, o sea un Boolean:"
      ]
    },
    {
      "cell_type": "code",
      "metadata": {
        "id": "uvD7IQ97SYAO",
        "colab_type": "code",
        "colab": {
          "base_uri": "https://localhost:8080/",
          "height": 119
        },
        "outputId": "7e5f4b2a-7780-421e-d130-9405135296ae"
      },
      "source": [
        "x = 10\n",
        "y = 20\n",
        "\n",
        "print(\"a)\", x == y) # == compara si son iguales\n",
        "print(\"b)\", x != y) # != compara si no son iguales\n",
        "print(\"c)\", x > y) # > compara si x es mayor que y\n",
        "print(\"d)\", x >= y) # > compara si x es mayor o igual que y\n",
        "print(\"e)\", x < y) # > compara si x es menor que y\n",
        "print(\"f)\", x <= y) # > compara si x es menor o igual que y\n"
      ],
      "execution_count": 32,
      "outputs": [
        {
          "output_type": "stream",
          "text": [
            "a) False\n",
            "b) True\n",
            "c) False\n",
            "d) False\n",
            "e) True\n",
            "f) True\n"
          ],
          "name": "stdout"
        }
      ]
    },
    {
      "cell_type": "markdown",
      "metadata": {
        "id": "N3qlAI3YTUrg",
        "colab_type": "text"
      },
      "source": [
        "## **Operadores lógicos**\n",
        "\n",
        "Los operadores lógicos se utilizan para combinar declaraciones condicionales:\n",
        "\n"
      ]
    },
    {
      "cell_type": "code",
      "metadata": {
        "id": "FP-RSzcuT5VF",
        "colab_type": "code",
        "colab": {
          "base_uri": "https://localhost:8080/",
          "height": 102
        },
        "outputId": "90dbcef1-7591-4cd7-f74f-1f6873e31496"
      },
      "source": [
        "x = 1\n",
        "print(\"a)\", x < 5 and  x < 10) # Devuelve True si ambas comparaciones son verdaderas\n",
        "x = 6\n",
        "print(\"b)\", x < 5 and  x < 10) # Devuelve True si ambas comparaciones son verdaderas\n",
        "\n",
        "x = 1\n",
        "print(\"c)\", x < 5 or  x < 10) # Devuelve True si una de las comparaciones es verdadera\n",
        "x = 60\n",
        "print(\"d)\", x < 5 or  x < 10) # Devuelve True si una de las comparaciones es verdadera\n",
        "\n",
        "not(True) # Not nos revierte el resultado del Booleano"
      ],
      "execution_count": 38,
      "outputs": [
        {
          "output_type": "stream",
          "text": [
            "a) True\n",
            "b) False\n",
            "c) True\n",
            "d) False\n"
          ],
          "name": "stdout"
        },
        {
          "output_type": "execute_result",
          "data": {
            "text/plain": [
              "False"
            ]
          },
          "metadata": {
            "tags": []
          },
          "execution_count": 38
        }
      ]
    }
  ]
}