{
  "nbformat": 4,
  "nbformat_minor": 0,
  "metadata": {
    "colab": {
      "name": "06_Listas_Python.ipynb",
      "provenance": [],
      "authorship_tag": "ABX9TyNz+P8WZrXHZNSKzgbY7No8",
      "include_colab_link": true
    },
    "kernelspec": {
      "name": "python3",
      "display_name": "Python 3"
    }
  },
  "cells": [
    {
      "cell_type": "markdown",
      "metadata": {
        "id": "view-in-github",
        "colab_type": "text"
      },
      "source": [
        "<a href=\"https://colab.research.google.com/github/joseflix/DocenciaUAB/blob/master/MN1/2019-2020/CursPython/06_Listas_Python.ipynb\" target=\"_parent\"><img src=\"https://colab.research.google.com/assets/colab-badge.svg\" alt=\"Open In Colab\"/></a>"
      ]
    },
    {
      "cell_type": "markdown",
      "metadata": {
        "id": "mAi3hfuwPliB",
        "colab_type": "text"
      },
      "source": [
        "# **Python Data Collections**\n",
        "\n",
        "Hay cuatro tipos de colecciones/agrupaciones (~Arrays) de datos en Python:\n",
        "\n",
        "* Una **lista** es una colección ordenada y modificable. Permite miembros duplicados.\n",
        "* Una **Tuple** es una colección ordenada e inmutable. Permite miembros duplicados.\n",
        "* **Set** es una colección que no está ordenada ni indexada. No hay miembros duplicados.\n",
        "* Un **diccionario** es una colección desordenada, modificable e indexada. No hay miembros duplicados.\n",
        "\n",
        "Al elegir un tipo de colección, es útil comprender las propiedades de cada tipo. Elegir el tipo correcto para un conjunto de datos en particular es de vital importancia a la hora de manipular los datos, y de ser eficiente a la hora de hacer cálculos."
      ]
    },
    {
      "cell_type": "markdown",
      "metadata": {
        "id": "mblpvZJJQu7v",
        "colab_type": "text"
      },
      "source": [
        "## **Listas**\n",
        "\n",
        "En Python las listas se declaran/escriben entre corchetes \"[\"---\"]\". Las usaremos mucho en el curso! Por ejemplo:\n"
      ]
    },
    {
      "cell_type": "code",
      "metadata": {
        "id": "aSBQD0UvPk9d",
        "colab_type": "code",
        "colab": {
          "base_uri": "https://localhost:8080/",
          "height": 85
        },
        "outputId": "d58e17ac-10b3-4033-ef67-3f51229011fb"
      },
      "source": [
        "listavacia = [] # Así creamos una lista vacía\n",
        "print(\"a)\", listavacia) # imprimimos la lista vacía\n",
        "print(\"b)\", type(listavacia)) # imprimimos la clase de listavacia, vemos que en efecto es una lista de Python\n",
        "\n",
        "listallena = [ \"pepe\" , 1 , 1.4 ] # Acabamos de generar una lista, ordenada, de elementos, que tienen diferente data type: str, int, float\n",
        "print(\"c)\", listallena) # imprimimos la lista llena\n",
        "print(\"d)\", type(listallena)) # imprimimos la clase de listallena, vemos que en efecto es una lista de Python"
      ],
      "execution_count": 7,
      "outputs": [
        {
          "output_type": "stream",
          "text": [
            "a) []\n",
            "b) <class 'list'>\n",
            "c) ['pepe', 1, 1.4]\n",
            "d) <class 'list'>\n"
          ],
          "name": "stdout"
        }
      ]
    },
    {
      "cell_type": "markdown",
      "metadata": {
        "id": "W2uQwngbRrkJ",
        "colab_type": "text"
      },
      "source": [
        "Las listas tienen elementos ordenados. En este caso, listallena tiene 3 elementos. Estos elementos se pueden acceder de forma individual con un índice: el primer elemento tiene índice 0, y en general el elemento *n* tiene índice *n-1*. Veamos como se hace:"
      ]
    },
    {
      "cell_type": "code",
      "metadata": {
        "id": "u7lrAFF4R_bs",
        "colab_type": "code",
        "colab": {
          "base_uri": "https://localhost:8080/",
          "height": 249
        },
        "outputId": "22322e4b-61b8-41c8-dcc5-ab9b0ce19736"
      },
      "source": [
        "print(\"a)\",listallena[0], type(listallena[0])) # Así accedemos al primer elemento de la lista, con el [0], donde el 0 és el índice. El tipo de valor de este elemento es str\n",
        "print(\"b)\",listallena[1], type(listallena[1])) # Así accedemos al segundo elemento de la lista, con el [1], donde el 1 és el índice. El tipo de valor de este elemento es int\n",
        "print(\"c)\",listallena[2], type(listallena[2])) # Así accedemos al tercer elemento de la lista, con el [2], donde el 2 és el índice. El tipo de valor de este elemento es float\n",
        "print(listallena[3]) # No existe el elemento 4, así que si intentamos acceder, nos da error!"
      ],
      "execution_count": 14,
      "outputs": [
        {
          "output_type": "stream",
          "text": [
            "a) pepe <class 'str'>\n",
            "b) 1 <class 'int'>\n",
            "c) 1.4 <class 'float'>\n"
          ],
          "name": "stdout"
        },
        {
          "output_type": "error",
          "ename": "IndexError",
          "evalue": "ignored",
          "traceback": [
            "\u001b[0;31m---------------------------------------------------------------------------\u001b[0m",
            "\u001b[0;31mIndexError\u001b[0m                                Traceback (most recent call last)",
            "\u001b[0;32m<ipython-input-14-ed954b1be9c1>\u001b[0m in \u001b[0;36m<module>\u001b[0;34m()\u001b[0m\n\u001b[1;32m      2\u001b[0m \u001b[0mprint\u001b[0m\u001b[0;34m(\u001b[0m\u001b[0;34m\"b)\"\u001b[0m\u001b[0;34m,\u001b[0m\u001b[0mlistallena\u001b[0m\u001b[0;34m[\u001b[0m\u001b[0;36m1\u001b[0m\u001b[0;34m]\u001b[0m\u001b[0;34m,\u001b[0m \u001b[0mtype\u001b[0m\u001b[0;34m(\u001b[0m\u001b[0mlistallena\u001b[0m\u001b[0;34m[\u001b[0m\u001b[0;36m1\u001b[0m\u001b[0;34m]\u001b[0m\u001b[0;34m)\u001b[0m\u001b[0;34m)\u001b[0m \u001b[0;31m# Así accedemos al segundo elemento de la lista, con el [1], donde el 1 és el índice. El tipo de valor de este elemento es int\u001b[0m\u001b[0;34m\u001b[0m\u001b[0;34m\u001b[0m\u001b[0m\n\u001b[1;32m      3\u001b[0m \u001b[0mprint\u001b[0m\u001b[0;34m(\u001b[0m\u001b[0;34m\"c)\"\u001b[0m\u001b[0;34m,\u001b[0m\u001b[0mlistallena\u001b[0m\u001b[0;34m[\u001b[0m\u001b[0;36m2\u001b[0m\u001b[0;34m]\u001b[0m\u001b[0;34m,\u001b[0m \u001b[0mtype\u001b[0m\u001b[0;34m(\u001b[0m\u001b[0mlistallena\u001b[0m\u001b[0;34m[\u001b[0m\u001b[0;36m2\u001b[0m\u001b[0;34m]\u001b[0m\u001b[0;34m)\u001b[0m\u001b[0;34m)\u001b[0m \u001b[0;31m# Así accedemos al tercer elemento de la lista, con el [2], donde el 2 és el índice. El tipo de valor de este elemento es float\u001b[0m\u001b[0;34m\u001b[0m\u001b[0;34m\u001b[0m\u001b[0m\n\u001b[0;32m----> 4\u001b[0;31m \u001b[0mprint\u001b[0m\u001b[0;34m(\u001b[0m\u001b[0mlistallena\u001b[0m\u001b[0;34m[\u001b[0m\u001b[0;36m3\u001b[0m\u001b[0;34m]\u001b[0m\u001b[0;34m)\u001b[0m \u001b[0;31m# No existe el elemento 4, así que si intentamos acceder, nos da error!\u001b[0m\u001b[0;34m\u001b[0m\u001b[0;34m\u001b[0m\u001b[0m\n\u001b[0m",
            "\u001b[0;31mIndexError\u001b[0m: list index out of range"
          ]
        }
      ]
    },
    {
      "cell_type": "markdown",
      "metadata": {
        "id": "QfgooCpsS9OS",
        "colab_type": "text"
      },
      "source": [
        "También podemos crear una lista vacía e ir llenándola poco a poco con valores con la función *append()*. Lo podemos hacer si no sabemos cuanto de grande va a ser, o si vamos calculando valores de forma contínua y queremos ir rellenando una lista. Por ejemplo:"
      ]
    },
    {
      "cell_type": "code",
      "metadata": {
        "id": "6V7AWNFMTLbQ",
        "colab_type": "code",
        "colab": {
          "base_uri": "https://localhost:8080/",
          "height": 34
        },
        "outputId": "b32ead1c-fff2-44cf-e508-d49acbd110c6"
      },
      "source": [
        "mylist = [] # creo lista vacía\n",
        "mylist.append(2) # vamos rellenando con valores. El primero corresponde al índice 0, etc...\n",
        "mylist.append(2.2)\n",
        "mylist.append(2.1)\n",
        "print(mylist)"
      ],
      "execution_count": 21,
      "outputs": [
        {
          "output_type": "stream",
          "text": [
            "[2, 2.2, 2.1]\n"
          ],
          "name": "stdout"
        }
      ]
    },
    {
      "cell_type": "markdown",
      "metadata": {
        "id": "kSA8z7fITcj6",
        "colab_type": "text"
      },
      "source": [
        "Si en algún momento queremos saber cuantos elementos tiene una lista, podemos usar la función *len()*. Por ejemplo:"
      ]
    },
    {
      "cell_type": "code",
      "metadata": {
        "id": "RiyAdHLaTlsl",
        "colab_type": "code",
        "colab": {
          "base_uri": "https://localhost:8080/",
          "height": 51
        },
        "outputId": "ad2e0003-cd4c-4b5c-fdf7-7757d9bd1e56"
      },
      "source": [
        "print(len(mylist))\n",
        "\n",
        "#Si añadimos 2 elementos más\n",
        "mylist.append(2.5)\n",
        "mylist.append(2.7)\n",
        "print(len(mylist)) # Ahora tenemos 5 elementos"
      ],
      "execution_count": 24,
      "outputs": [
        {
          "output_type": "stream",
          "text": [
            "5\n",
            "7\n"
          ],
          "name": "stdout"
        }
      ]
    },
    {
      "cell_type": "markdown",
      "metadata": {
        "id": "L1LbzSweT_9V",
        "colab_type": "text"
      },
      "source": [
        "A veces es útil usar índices negativos. Es decir, el último elemento de la lista se puede acceder con -1, el penúltimo con -2, etc... Útil cuando queremos saber el primer y último elemento de una lista (imagina que son los bordes de una colección de cajitas entre un valor y otro):"
      ]
    },
    {
      "cell_type": "code",
      "metadata": {
        "id": "9QhCaW9ZUIY5",
        "colab_type": "code",
        "colab": {
          "base_uri": "https://localhost:8080/",
          "height": 68
        },
        "outputId": "e2089d62-44f7-4018-abed-9047efc021dc"
      },
      "source": [
        "print(mylist)\n",
        "print(mylist[-1])\n",
        "print(mylist[-2])"
      ],
      "execution_count": 27,
      "outputs": [
        {
          "output_type": "stream",
          "text": [
            "[2, 2.2, 2.1, 2.5, 2.7, 2.5, 2.7]\n",
            "2.7\n",
            "2.5\n"
          ],
          "name": "stdout"
        }
      ]
    },
    {
      "cell_type": "markdown",
      "metadata": {
        "id": "09xU_H64UfLf",
        "colab_type": "text"
      },
      "source": [
        "También podemos acceder a rangos de elementos de una lista. Por ejemplo, dame una lista de elementos entre M y N, esto es posible, usando \":\" en los índices:"
      ]
    },
    {
      "cell_type": "code",
      "metadata": {
        "id": "59oaz3CuUreC",
        "colab_type": "code",
        "colab": {
          "base_uri": "https://localhost:8080/",
          "height": 85
        },
        "outputId": "7df4dd13-fc9a-45dd-bed8-7450bb30c7f9"
      },
      "source": [
        "print(mylist) # imprimimos la lista original\n",
        "\n",
        "print(mylist[1:3], type(mylist[1:3])) # La búsqueda comenzará en el índice 1 (incluido) y finalizará en el índice 3 (no incluido) <- esto es importante, nos dará 2 elementos solo; en efecto devuelve una lista\n",
        "\n",
        "print(mylist[1:]) # Esto proporciona todos los elementos desde el elemento con índice 1 (incluído)\n",
        "\n",
        "print(mylist[:4]) # Esto proporciona todos los elementos hasta el elemento con índice 4 (no incluído)\n",
        "\n",
        "# Se puede hacer lo mismo con elementos negativos... Pruébalo!"
      ],
      "execution_count": 33,
      "outputs": [
        {
          "output_type": "stream",
          "text": [
            "[2, 2.2, 2.1, 2.5, 2.7, 2.5, 2.7]\n",
            "[2.2, 2.1] <class 'list'>\n",
            "[2.2, 2.1, 2.5, 2.7, 2.5, 2.7]\n",
            "[2, 2.2, 2.1, 2.5]\n"
          ],
          "name": "stdout"
        }
      ]
    },
    {
      "cell_type": "markdown",
      "metadata": {
        "id": "0dDPo7RCVtD9",
        "colab_type": "text"
      },
      "source": [
        "Hemos dicho que una lista es una colección ordenada y modificable, y que permite miembros duplicados. Vamos a verlo:"
      ]
    },
    {
      "cell_type": "code",
      "metadata": {
        "id": "ZmKq5DWkV0D-",
        "colab_type": "code",
        "colab": {
          "base_uri": "https://localhost:8080/",
          "height": 51
        },
        "outputId": "bb452810-993c-4889-9fed-35cabd06b99b"
      },
      "source": [
        "mylist2 = [1.1 , 1.2, 1.2, 1.4, 1.5] # elemento 1 y 2 son duplicados. La lista está ordenada: elemento 0 = 1.1, elemento 1 = 1.2, ...\n",
        "\n",
        "# vamos a cambiar un valor de la lista. \n",
        "\n",
        "print(mylist2[2]) # Esto nos imprime el elemento 2\n",
        "\n",
        "mylist2[2] = 1.3 # Así asignamos el valor 1.3 al elemento de la lista\n",
        "\n",
        "print(mylist2) # Ok. Una lista es modificable!!!\n"
      ],
      "execution_count": 41,
      "outputs": [
        {
          "output_type": "stream",
          "text": [
            "1.2\n",
            "[1.1, 1.2, 1.3, 1.4, 1.5]\n"
          ],
          "name": "stdout"
        }
      ]
    },
    {
      "cell_type": "markdown",
      "metadata": {
        "id": "Fq9_5wS9Wpcl",
        "colab_type": "text"
      },
      "source": [
        "Como la lista es modificable, también es posible insertar en una posición concreta un elemento, usando la función *insert()* que se aplica sobre una lista. Insertemos un nombre entre en el índice 2 de la lista anterior:"
      ]
    },
    {
      "cell_type": "code",
      "metadata": {
        "id": "Jg3LGk-DWpGp",
        "colab_type": "code",
        "colab": {
          "base_uri": "https://localhost:8080/",
          "height": 51
        },
        "outputId": "e15e9c50-fb8c-4658-cec3-e2eafd5a270f"
      },
      "source": [
        "print(mylist2)\n",
        "mylist2.insert(2, \"Raúl\")\n",
        "print(mylist2) # vemos que ahora el elemento original que estaba en la posición 2, se nos ha desplazado a la derecha\n",
        "\n",
        "# Qué sucede si ejecutas esta celda otra vez? Como tenemos declarado mylist2 en otra celda, re-ejecutar esta celda nos añade otro \"Raúl\" a la lista... Pruébalo!"
      ],
      "execution_count": 42,
      "outputs": [
        {
          "output_type": "stream",
          "text": [
            "[1.1, 1.2, 1.3, 1.4, 1.5]\n",
            "[1.1, 1.2, 'Raúl', 1.3, 1.4, 1.5]\n"
          ],
          "name": "stdout"
        }
      ]
    },
    {
      "cell_type": "markdown",
      "metadata": {
        "id": "5hp4z7SRVZLc",
        "colab_type": "text"
      },
      "source": [
        "... y como es modificable, podemos borrar elementos de la lista, usando la función que aplica a las listas *remove()*. Por ejemplo:"
      ]
    },
    {
      "cell_type": "code",
      "metadata": {
        "id": "VW1LgqxoVnrU",
        "colab_type": "code",
        "colab": {
          "base_uri": "https://localhost:8080/",
          "height": 102
        },
        "outputId": "038ee38d-5f65-4651-bcb4-3e23284f3dd1"
      },
      "source": [
        "thislist = [ \"hola\", \"banana\", \"manzana\"]\n",
        "print(\"a)\", thislist)\n",
        "thislist.remove(\"banana\")\n",
        "print(\"b)\", thislist)\n",
        "\n",
        "# Hay que ir con cuidado. Esto quita la primera 'ocurrencia', pero si hay duplicados, hay que ejectutar el remove dos veces. \n",
        "# Veamos un ejemplo:\n",
        "\n",
        "thislist = [ \"hola\", \"banana\", \"manzana\", \"banana\"]\n",
        "print(\"c)\", thislist)\n",
        "thislist.remove(\"banana\")\n",
        "print(\"d)\", thislist)\n",
        "thislist.remove(\"banana\")\n",
        "print(\"e)\", thislist)"
      ],
      "execution_count": 50,
      "outputs": [
        {
          "output_type": "stream",
          "text": [
            "a) ['hola', 'banana', 'manzana']\n",
            "b) ['hola', 'manzana']\n",
            "c) ['hola', 'banana', 'manzana', 'banana']\n",
            "d) ['hola', 'manzana', 'banana']\n",
            "e) ['hola', 'manzana']\n"
          ],
          "name": "stdout"
        }
      ]
    },
    {
      "cell_type": "markdown",
      "metadata": {
        "id": "vk18EWYJW9rS",
        "colab_type": "text"
      },
      "source": [
        "También se pueden borrar elementos por índice:"
      ]
    },
    {
      "cell_type": "code",
      "metadata": {
        "id": "e70NdlNkWVo0",
        "colab_type": "code",
        "colab": {
          "base_uri": "https://localhost:8080/",
          "height": 249
        },
        "outputId": "92f304aa-6d72-4251-a85e-54b8d25a915a"
      },
      "source": [
        "thislist = [\"apple\", \"banana\", \"cherry\"]\n",
        "thislist.pop() # Esto borra el último elemento\n",
        "print(thislist)\n",
        "\n",
        "thislist = [\"apple\", \"banana\", \"cherry\"]\n",
        "thislist.pop(0) # Si se especifica el elemeto, se borra\n",
        "print(thislist)\n",
        "\n",
        "thislist = [\"apple\", \"banana\", \"cherry\"]\n",
        "del thislist[0] # Esto borra el primer elemento, análogo a lo anterior\n",
        "print(thislist)\n",
        "\n",
        "thislist = [\"apple\", \"banana\", \"cherry\"]\n",
        "del thislist # Esto borra la lista por completo y la variable\n",
        "print(thislist) # da error, no puede imprimir una variable que ha sido borrada, en este caso la lista thislist"
      ],
      "execution_count": 56,
      "outputs": [
        {
          "output_type": "stream",
          "text": [
            "['apple', 'banana']\n",
            "['banana', 'cherry']\n",
            "['banana', 'cherry']\n"
          ],
          "name": "stdout"
        },
        {
          "output_type": "error",
          "ename": "NameError",
          "evalue": "ignored",
          "traceback": [
            "\u001b[0;31m---------------------------------------------------------------------------\u001b[0m",
            "\u001b[0;31mNameError\u001b[0m                                 Traceback (most recent call last)",
            "\u001b[0;32m<ipython-input-56-76107fb8ac45>\u001b[0m in \u001b[0;36m<module>\u001b[0;34m()\u001b[0m\n\u001b[1;32m     13\u001b[0m \u001b[0mthislist\u001b[0m \u001b[0;34m=\u001b[0m \u001b[0;34m[\u001b[0m\u001b[0;34m\"apple\"\u001b[0m\u001b[0;34m,\u001b[0m \u001b[0;34m\"banana\"\u001b[0m\u001b[0;34m,\u001b[0m \u001b[0;34m\"cherry\"\u001b[0m\u001b[0;34m]\u001b[0m\u001b[0;34m\u001b[0m\u001b[0;34m\u001b[0m\u001b[0m\n\u001b[1;32m     14\u001b[0m \u001b[0;32mdel\u001b[0m \u001b[0mthislist\u001b[0m \u001b[0;31m# Esto borra la lista por completo\u001b[0m\u001b[0;34m\u001b[0m\u001b[0;34m\u001b[0m\u001b[0m\n\u001b[0;32m---> 15\u001b[0;31m \u001b[0mprint\u001b[0m\u001b[0;34m(\u001b[0m\u001b[0mthislist\u001b[0m\u001b[0;34m)\u001b[0m\u001b[0;34m\u001b[0m\u001b[0;34m\u001b[0m\u001b[0m\n\u001b[0m",
            "\u001b[0;31mNameError\u001b[0m: name 'thislist' is not defined"
          ]
        }
      ]
    },
    {
      "cell_type": "code",
      "metadata": {
        "id": "fIpu53kOXswL",
        "colab_type": "code",
        "colab": {
          "base_uri": "https://localhost:8080/",
          "height": 34
        },
        "outputId": "6651282e-0f86-48c0-f672-949a105570e2"
      },
      "source": [
        "thislist = [\"apple\", \"banana\", \"cherry\"]\n",
        "thislist.clear() # Esto borra la lista por completo, pero no la variable\n",
        "print(thislist) # esto no da error, puede imprimir la lista, pero vacía"
      ],
      "execution_count": 58,
      "outputs": [
        {
          "output_type": "stream",
          "text": [
            "[]\n"
          ],
          "name": "stdout"
        }
      ]
    },
    {
      "cell_type": "markdown",
      "metadata": {
        "id": "7_POZ3IIYGXU",
        "colab_type": "text"
      },
      "source": [
        "Se pueden ver otras características de las listas, como copiar, concatenar listas, etc... aquí: https://www.w3schools.com/python/python_lists.asp\n"
      ]
    }
  ]
}