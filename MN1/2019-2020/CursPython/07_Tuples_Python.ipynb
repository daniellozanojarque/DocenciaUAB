{
  "nbformat": 4,
  "nbformat_minor": 0,
  "metadata": {
    "colab": {
      "name": "07_Tuples_Python.ipynb",
      "provenance": [],
      "authorship_tag": "ABX9TyPyzOdxRDP6L15s+pcL/KNi",
      "include_colab_link": true
    },
    "kernelspec": {
      "name": "python3",
      "display_name": "Python 3"
    }
  },
  "cells": [
    {
      "cell_type": "markdown",
      "metadata": {
        "id": "view-in-github",
        "colab_type": "text"
      },
      "source": [
        "<a href=\"https://colab.research.google.com/github/joseflix/DocenciaUAB/blob/master/MN1/2019-2020/CursPython/07_Tuples_Python.ipynb\" target=\"_parent\"><img src=\"https://colab.research.google.com/assets/colab-badge.svg\" alt=\"Open In Colab\"/></a>"
      ]
    },
    {
      "cell_type": "markdown",
      "metadata": {
        "id": "FxiP_wS5ZTFF",
        "colab_type": "text"
      },
      "source": [
        "# **Tuples**\n",
        "\n",
        "Una **Tuple** es una colección ordenada e inmutable. Permite miembros duplicados. En Python, las Tuples se escriben entre corchetes."
      ]
    },
    {
      "cell_type": "code",
      "metadata": {
        "id": "AF0kyuGMYa3Z",
        "colab_type": "code",
        "colab": {
          "base_uri": "https://localhost:8080/",
          "height": 34
        },
        "outputId": "37d8cc42-8e27-4981-8990-d5bd4a000399"
      },
      "source": [
        "thistuple = (1, \"banana\", \"4\") # Aquí he definido un elemento 4 como texto, no como número!, a modo de ejemplo...\n",
        "print(thistuple)"
      ],
      "execution_count": 1,
      "outputs": [
        {
          "output_type": "stream",
          "text": [
            "(1, 'banana', '4')\n"
          ],
          "name": "stdout"
        }
      ]
    },
    {
      "cell_type": "markdown",
      "metadata": {
        "id": "rix0VdntZ6ty",
        "colab_type": "text"
      },
      "source": [
        "al igual que en las listas, se puede acceder a los elementos de los Tuples haciendo referencia al número de índice, entre corchetes. También usando números de índices negativos, y usando rangos como hemos visto con las listas:"
      ]
    },
    {
      "cell_type": "code",
      "metadata": {
        "id": "bQtSMDTqaOGH",
        "colab_type": "code",
        "colab": {
          "base_uri": "https://localhost:8080/",
          "height": 85
        },
        "outputId": "165cdf1f-2641-4168-cb23-305cab935e81"
      },
      "source": [
        "thistuple = (1, \"banana\", \"4\", 5, 10.5, \"hola\")\n",
        "\n",
        "print(\"a)\", thistuple[1])\n",
        "print(\"b)\", thistuple[-1])\n",
        "print(\"c)\", thistuple[0:2])\n",
        "print(\"d)\", thistuple[:3])"
      ],
      "execution_count": 4,
      "outputs": [
        {
          "output_type": "stream",
          "text": [
            "a) banana\n",
            "b) hola\n",
            "c) (1, 'banana')\n",
            "d) (1, 'banana', '4')\n"
          ],
          "name": "stdout"
        }
      ]
    },
    {
      "cell_type": "markdown",
      "metadata": {
        "id": "7AktXxsqaxcW",
        "colab_type": "text"
      },
      "source": [
        "Una vez que se crea una Tuple, no podemos cambiar sus valores. Las Tuples son inmutables! Veamos:"
      ]
    },
    {
      "cell_type": "code",
      "metadata": {
        "id": "9zJ-iagQa4oq",
        "colab_type": "code",
        "colab": {
          "base_uri": "https://localhost:8080/",
          "height": 215
        },
        "outputId": "71c34144-7c23-4bb2-d2b6-880611facb69"
      },
      "source": [
        "thistuple = (1, \"banana\", \"4\", 5, 10.5, \"hola\")\n",
        "print(thistuple[2])\n",
        "thistuple[2] = \"puedo?\""
      ],
      "execution_count": 6,
      "outputs": [
        {
          "output_type": "stream",
          "text": [
            "4\n"
          ],
          "name": "stdout"
        },
        {
          "output_type": "error",
          "ename": "TypeError",
          "evalue": "ignored",
          "traceback": [
            "\u001b[0;31m---------------------------------------------------------------------------\u001b[0m",
            "\u001b[0;31mTypeError\u001b[0m                                 Traceback (most recent call last)",
            "\u001b[0;32m<ipython-input-6-e64ed5716662>\u001b[0m in \u001b[0;36m<module>\u001b[0;34m()\u001b[0m\n\u001b[1;32m      1\u001b[0m \u001b[0mthistuple\u001b[0m \u001b[0;34m=\u001b[0m \u001b[0;34m(\u001b[0m\u001b[0;36m1\u001b[0m\u001b[0;34m,\u001b[0m \u001b[0;34m\"banana\"\u001b[0m\u001b[0;34m,\u001b[0m \u001b[0;34m\"4\"\u001b[0m\u001b[0;34m,\u001b[0m \u001b[0;36m5\u001b[0m\u001b[0;34m,\u001b[0m \u001b[0;36m10.5\u001b[0m\u001b[0;34m,\u001b[0m \u001b[0;34m\"hola\"\u001b[0m\u001b[0;34m)\u001b[0m\u001b[0;34m\u001b[0m\u001b[0;34m\u001b[0m\u001b[0m\n\u001b[1;32m      2\u001b[0m \u001b[0mprint\u001b[0m\u001b[0;34m(\u001b[0m\u001b[0mthistuple\u001b[0m\u001b[0;34m[\u001b[0m\u001b[0;36m2\u001b[0m\u001b[0;34m]\u001b[0m\u001b[0;34m)\u001b[0m\u001b[0;34m\u001b[0m\u001b[0;34m\u001b[0m\u001b[0m\n\u001b[0;32m----> 3\u001b[0;31m \u001b[0mthistuple\u001b[0m\u001b[0;34m[\u001b[0m\u001b[0;36m2\u001b[0m\u001b[0;34m]\u001b[0m \u001b[0;34m=\u001b[0m \u001b[0;34m\"puedo?\"\u001b[0m\u001b[0;34m\u001b[0m\u001b[0;34m\u001b[0m\u001b[0m\n\u001b[0m",
            "\u001b[0;31mTypeError\u001b[0m: 'tuple' object does not support item assignment"
          ]
        }
      ]
    },
    {
      "cell_type": "markdown",
      "metadata": {
        "id": "1a08-IAGa4wE",
        "colab_type": "text"
      },
      "source": [
        "Pero hay una solución alternativa. Se puede convertir la Tuple en una lista, cambiar la lista (porque esto está permitido), y volver a convertir la lista en una Tuple. Veamos como:"
      ]
    },
    {
      "cell_type": "code",
      "metadata": {
        "id": "GhWIhRtEbKTp",
        "colab_type": "code",
        "colab": {
          "base_uri": "https://localhost:8080/",
          "height": 51
        },
        "outputId": "377192cd-1ace-40e7-dbb9-10a0545d40d1"
      },
      "source": [
        "thistuple = (1, \"banana\", \"4\", 5, 10.5, \"hola\")\n",
        "print(thistuple)\n",
        "tmp = list(thistuple)\n",
        "tmp[2] = \"puedo?\"\n",
        "thistuple = tuple(tmp)\n",
        "print(thistuple)"
      ],
      "execution_count": 8,
      "outputs": [
        {
          "output_type": "stream",
          "text": [
            "(1, 'banana', '4', 5, 10.5, 'hola')\n",
            "(1, 'banana', 'puedo?', 5, 10.5, 'hola')\n"
          ],
          "name": "stdout"
        }
      ]
    },
    {
      "cell_type": "markdown",
      "metadata": {
        "id": "WSV5rN4_bo-b",
        "colab_type": "text"
      },
      "source": [
        "En una Tuple no podemos añadir elementos, si queremos hacerlo, hay que convertir a lista, manipularla, y luego volver a crear una Tuple. Tampoco se pueden borrar elementos, pero si podemos borrar la Tuple entera usando *del*. Se puede saber la longitud de una Tuple usando la función *len()*.\n",
        "\n",
        "Se pueden ver otras características de las Tuples, como copiar, concatenar listas, etc... aquí: https://www.w3schools.com/python/python_tuples.asp"
      ]
    }
  ]
}