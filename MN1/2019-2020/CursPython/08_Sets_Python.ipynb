{
  "nbformat": 4,
  "nbformat_minor": 0,
  "metadata": {
    "colab": {
      "name": "08_Sets_Python.ipynb",
      "provenance": [],
      "collapsed_sections": [],
      "authorship_tag": "ABX9TyMKo76ViES04TgwmE/w7AjX",
      "include_colab_link": true
    },
    "kernelspec": {
      "name": "python3",
      "display_name": "Python 3"
    }
  },
  "cells": [
    {
      "cell_type": "markdown",
      "metadata": {
        "id": "view-in-github",
        "colab_type": "text"
      },
      "source": [
        "<a href=\"https://colab.research.google.com/github/joseflix/DocenciaUAB/blob/master/MN1/2019-2020/CursPython/08_Sets_Python.ipynb\" target=\"_parent\"><img src=\"https://colab.research.google.com/assets/colab-badge.svg\" alt=\"Open In Colab\"/></a>"
      ]
    },
    {
      "cell_type": "markdown",
      "metadata": {
        "id": "0Bib8gPqdYRK",
        "colab_type": "text"
      },
      "source": [
        "# **Sets**\n",
        "\n",
        "**Set** (conjunto) es una colección que no está ordenada ni indexada. No hay miembros duplicados. En Python, los conjuntos se escriben entre llaves {}:\n"
      ]
    },
    {
      "cell_type": "code",
      "metadata": {
        "id": "zFfLvcnOdRq6",
        "colab_type": "code",
        "colab": {
          "base_uri": "https://localhost:8080/",
          "height": 51
        },
        "outputId": "861eccf1-3465-43e8-be81-a90714a53da9"
      },
      "source": [
        "thisset = {\"apple\", \"banana\", \"cherry\", \"anana\"}\n",
        "print(thisset)\n",
        "\n",
        "# Nota: Sets estan desordenados, no puedes estar seguro en qué orden aparecerán cuando haces un print, como se puede apreciar...\n",
        "\n",
        "# No tiene elementos duplicados, aunque los intentes añadir, no se van a añadir al conjunto. Veamos:\n",
        "\n",
        "thisset = {\"apple\", \"banana\", \"cherry\", \"anana\", \"a\", \"a\", \"a\"}\n",
        "print(thisset)"
      ],
      "execution_count": 16,
      "outputs": [
        {
          "output_type": "stream",
          "text": [
            "{'apple', 'cherry', 'anana', 'banana'}\n",
            "{'cherry', 'apple', 'a', 'anana', 'banana'}\n"
          ],
          "name": "stdout"
        }
      ]
    },
    {
      "cell_type": "markdown",
      "metadata": {
        "id": "F6g-6GBwd3_Z",
        "colab_type": "text"
      },
      "source": [
        "Al estar no ordenados, como accedemos a los elementos? funciona thisset[1]? Vamos a ver que no..."
      ]
    },
    {
      "cell_type": "code",
      "metadata": {
        "id": "HpKvgVmUd_fb",
        "colab_type": "code",
        "colab": {
          "base_uri": "https://localhost:8080/",
          "height": 181
        },
        "outputId": "855bb199-b552-404b-f17d-cb74084ba24e"
      },
      "source": [
        "thisset = {\"apple\", \"banana\", \"cherry\", \"anana\"}\n",
        "print(thisset[1])"
      ],
      "execution_count": 6,
      "outputs": [
        {
          "output_type": "error",
          "ename": "TypeError",
          "evalue": "ignored",
          "traceback": [
            "\u001b[0;31m---------------------------------------------------------------------------\u001b[0m",
            "\u001b[0;31mTypeError\u001b[0m                                 Traceback (most recent call last)",
            "\u001b[0;32m<ipython-input-6-c22aa6f20dc9>\u001b[0m in \u001b[0;36m<module>\u001b[0;34m()\u001b[0m\n\u001b[1;32m      1\u001b[0m \u001b[0mthisset\u001b[0m \u001b[0;34m=\u001b[0m \u001b[0;34m{\u001b[0m\u001b[0;34m\"apple\"\u001b[0m\u001b[0;34m,\u001b[0m \u001b[0;34m\"banana\"\u001b[0m\u001b[0;34m,\u001b[0m \u001b[0;34m\"cherry\"\u001b[0m\u001b[0;34m,\u001b[0m \u001b[0;34m\"anana\"\u001b[0m\u001b[0;34m}\u001b[0m\u001b[0;34m\u001b[0m\u001b[0;34m\u001b[0m\u001b[0m\n\u001b[0;32m----> 2\u001b[0;31m \u001b[0mprint\u001b[0m\u001b[0;34m(\u001b[0m\u001b[0mthisset\u001b[0m\u001b[0;34m[\u001b[0m\u001b[0;36m1\u001b[0m\u001b[0;34m]\u001b[0m\u001b[0;34m)\u001b[0m\u001b[0;34m\u001b[0m\u001b[0;34m\u001b[0m\u001b[0m\n\u001b[0m",
            "\u001b[0;31mTypeError\u001b[0m: 'set' object does not support indexing"
          ]
        }
      ]
    },
    {
      "cell_type": "markdown",
      "metadata": {
        "id": "6YWDNlv5eDcr",
        "colab_type": "text"
      },
      "source": [
        "En realidad, para acceder a los elementos, hay que buscarlos dentro del Set. Se pueden recorrer los elementos del conjunto utilizando un bucle *for*, preguntando si un valor especificado está presente en un conjunto, utilizando la palabra clave *in*. Veremos más adelante como hacer bucles, pero es básicamente esto:"
      ]
    },
    {
      "cell_type": "code",
      "metadata": {
        "id": "MaHPHfGPec7y",
        "colab_type": "code",
        "colab": {
          "base_uri": "https://localhost:8080/",
          "height": 85
        },
        "outputId": "13806822-0077-42ab-8542-e6a56c32954e"
      },
      "source": [
        "thisset = {\"apple\", \"banana\", \"cherry\", \"anana\"}\n",
        "\n",
        "for el in thisset: # Es decir 'por cada elemento \"el\" presente en thisset, imprime el elemento \"el\" \n",
        "  print(el)"
      ],
      "execution_count": 8,
      "outputs": [
        {
          "output_type": "stream",
          "text": [
            "apple\n",
            "cherry\n",
            "anana\n",
            "banana\n"
          ],
          "name": "stdout"
        }
      ]
    },
    {
      "cell_type": "markdown",
      "metadata": {
        "id": "DRx-rApeevfk",
        "colab_type": "text"
      },
      "source": [
        "En realidad la clave *in* se puede usar para interrogar si un elemento está presente en un Set:"
      ]
    },
    {
      "cell_type": "code",
      "metadata": {
        "id": "m17IiiE6e1h8",
        "colab_type": "code",
        "colab": {
          "base_uri": "https://localhost:8080/",
          "height": 51
        },
        "outputId": "6b93aa2c-eb4b-4c42-9fe7-25aa40e5f78c"
      },
      "source": [
        "thisset = {\"apple\", \"banana\", \"cherry\", \"anana\"}\n",
        "\n",
        "print(\"a)\", \"pepe\" in thisset)\n",
        "print(\"b)\", \"apple\" in thisset)"
      ],
      "execution_count": 10,
      "outputs": [
        {
          "output_type": "stream",
          "text": [
            "a) False\n",
            "b) True\n"
          ],
          "name": "stdout"
        }
      ]
    },
    {
      "cell_type": "markdown",
      "metadata": {
        "id": "Xr1diAWOf9Fv",
        "colab_type": "text"
      },
      "source": [
        "Una vez que se crea un Set, no puede cambiar sus elementos, pero pueden agregar nuevos elementos con la función add() para un elemento o update() para múltiples elementos:"
      ]
    },
    {
      "cell_type": "code",
      "metadata": {
        "id": "2OywkkNJgIAo",
        "colab_type": "code",
        "colab": {
          "base_uri": "https://localhost:8080/",
          "height": 68
        },
        "outputId": "5ce2cb5a-70cd-42f5-92b3-33c18c590295"
      },
      "source": [
        "thisset = {\"apple\", \"banana\", \"cherry\", \"anana\"}\n",
        "print(thisset)\n",
        "\n",
        "thisset.add(\"pepe\")\n",
        "print(\"a)\", thisset)\n",
        "\n",
        "thisset.update(\"a\", \"b\", \"c\")\n",
        "print(\"b)\", thisset) # Recuerda que no se imprime por pantalla de forma ordenada!!!"
      ],
      "execution_count": 13,
      "outputs": [
        {
          "output_type": "stream",
          "text": [
            "{'apple', 'cherry', 'anana', 'banana'}\n",
            "a) {'cherry', 'apple', 'pepe', 'anana', 'banana'}\n",
            "b) {'cherry', 'c', 'apple', 'a', 'pepe', 'anana', 'banana', 'b'}\n"
          ],
          "name": "stdout"
        }
      ]
    },
    {
      "cell_type": "markdown",
      "metadata": {
        "id": "R4xDwrIEgHX1",
        "colab_type": "text"
      },
      "source": [
        "Podemos usar la función *len()* y borrar elementos con la función o método *discard()* o *remove()*:"
      ]
    },
    {
      "cell_type": "code",
      "metadata": {
        "id": "ck8uRFurgnqZ",
        "colab_type": "code",
        "colab": {
          "base_uri": "https://localhost:8080/",
          "height": 85
        },
        "outputId": "4c426586-6b4f-4d90-88ec-dfbedc857dbb"
      },
      "source": [
        "thisset = {\"apple\", \"banana\", \"cherry\", \"anana\", \"apple\"}\n",
        "print(thisset)\n",
        "\n",
        "thisset.remove(\"apple\")\n",
        "print(thisset)\n",
        "\n",
        "thisset.discard(\"anana\")\n",
        "print(thisset)\n",
        "\n",
        "thisset.discard(\"pepe\") # Si el elemento no existe, no se queja ni da error, simplemente no hace nada...\n",
        "print(thisset)"
      ],
      "execution_count": 18,
      "outputs": [
        {
          "output_type": "stream",
          "text": [
            "{'apple', 'cherry', 'anana', 'banana'}\n",
            "{'cherry', 'anana', 'banana'}\n",
            "{'cherry', 'banana'}\n",
            "{'cherry', 'banana'}\n"
          ],
          "name": "stdout"
        }
      ]
    },
    {
      "cell_type": "markdown",
      "metadata": {
        "id": "Lre7vE6jhae2",
        "colab_type": "text"
      },
      "source": [
        "También se puede usar la función o método *pop()*, pero en este caso no podemos pasar ningún índice. Si se usa, borrará el último elemento del conjunto, y de hecho la función retorna el elemento borrado. Es como si tuviésemos un saco con un conjunto de elementos o números de lotería no repetidos, y fuésemos 'sacando' números del saco. Veamos:"
      ]
    },
    {
      "cell_type": "code",
      "metadata": {
        "id": "k8aMFv-xh_Zk",
        "colab_type": "code",
        "colab": {
          "base_uri": "https://localhost:8080/",
          "height": 153
        },
        "outputId": "f94fea41-29f2-49cc-ca7b-bd7f2feee517"
      },
      "source": [
        "saco = { 1, 5, 2, 4, 6, 3, 7, 10, 9, 8 }\n",
        "print(saco)\n",
        "print(len(saco)) # Tengo 10 elementos\n",
        "\n",
        "x = saco.pop() # Saco un elemento, se pone en x. Imprimo x y el conjunto saco (que ya no tiene el elemento que se ha sacado)\n",
        "print(x)\n",
        "print(saco)\n",
        "print(len(saco)) # Ahora tengo 9 elementos\n",
        "\n",
        "x = saco.pop()\n",
        "print(x)\n",
        "print(saco)\n",
        "print(len(saco)) # Ahora tengo 8 elementos\n",
        "\n",
        "# etc..."
      ],
      "execution_count": 29,
      "outputs": [
        {
          "output_type": "stream",
          "text": [
            "{1, 2, 3, 4, 5, 6, 7, 8, 9, 10}\n",
            "10\n",
            "1\n",
            "{2, 3, 4, 5, 6, 7, 8, 9, 10}\n",
            "9\n",
            "2\n",
            "{3, 4, 5, 6, 7, 8, 9, 10}\n",
            "8\n"
          ],
          "name": "stdout"
        }
      ]
    },
    {
      "cell_type": "markdown",
      "metadata": {
        "id": "C03mdP2Tixgj",
        "colab_type": "text"
      },
      "source": [
        "Se pueden ver otras características de los Sets, como copiar, concatenar listas, etc... aquí: https://www.w3schools.com/python/python_sets.asp"
      ]
    }
  ]
}