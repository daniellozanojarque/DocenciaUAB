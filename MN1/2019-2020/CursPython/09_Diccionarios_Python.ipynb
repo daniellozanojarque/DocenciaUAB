{
  "nbformat": 4,
  "nbformat_minor": 0,
  "metadata": {
    "colab": {
      "name": "09_Diccionarios_Python.ipynb",
      "provenance": [],
      "collapsed_sections": [],
      "authorship_tag": "ABX9TyM0KKki3wNvXM3645H9cWrI",
      "include_colab_link": true
    },
    "kernelspec": {
      "name": "python3",
      "display_name": "Python 3"
    }
  },
  "cells": [
    {
      "cell_type": "markdown",
      "metadata": {
        "id": "view-in-github",
        "colab_type": "text"
      },
      "source": [
        "<a href=\"https://colab.research.google.com/github/joseflix/DocenciaUAB/blob/master/MN1/2019-2020/CursPython/09_Diccionarios_Python.ipynb\" target=\"_parent\"><img src=\"https://colab.research.google.com/assets/colab-badge.svg\" alt=\"Open In Colab\"/></a>"
      ]
    },
    {
      "cell_type": "markdown",
      "metadata": {
        "id": "yqqx-Cz8kxkE",
        "colab_type": "text"
      },
      "source": [
        "# **Diccionarios [Avanzado]**\n",
        "\n",
        "* No usaremos diccionarios en el curso, pero es útil saber que existen y qué se puede hacer con ellos!\n",
        "\n",
        "Un **diccionario** es una colección desordenada, modificable e indexada. No hay miembros duplicados. Los diccionarios de Python se escriben entre llaves { } y tienen claves (*keys*) y valores (*values*)."
      ]
    },
    {
      "cell_type": "code",
      "metadata": {
        "id": "lMIFMHlGkqk5",
        "colab_type": "code",
        "colab": {
          "base_uri": "https://localhost:8080/",
          "height": 51
        },
        "outputId": "32344226-cd95-4b53-fe99-96104ce3038b"
      },
      "source": [
        "cardict = {\n",
        "  \"marca\": \"Ford\",\n",
        "  \"modelo\": \"Mustang\",\n",
        "  \"año\": 1964\n",
        "}\n",
        "print(cardict)\n",
        "\n",
        "cardict = {\n",
        "  \"marca\": \"Ford\",\n",
        "  \"modelo\": \"Mustang\",\n",
        "  \"año\": 1964,\n",
        "  \"modelo\": \"Cabrio\" # Si se vuelve a repetir la key para este elemento del diccionario, sobreescribe el que ya estaba creado, no pueden existir duplicados\n",
        "}\n",
        "print(cardict)"
      ],
      "execution_count": 6,
      "outputs": [
        {
          "output_type": "stream",
          "text": [
            "{'marca': 'Ford', 'modelo': 'Mustang', 'año': 1964}\n",
            "{'marca': 'Ford', 'modelo': 'Cabrio', 'año': 1964}\n"
          ],
          "name": "stdout"
        }
      ]
    },
    {
      "cell_type": "markdown",
      "metadata": {
        "id": "DRSAoZVTl5EB",
        "colab_type": "text"
      },
      "source": [
        "Podemos acceder a los elementos de un diccionario haciendo referencia a su nombre de la *key*, entre corchetes, o bien usando el método llamado *get()*:"
      ]
    },
    {
      "cell_type": "code",
      "metadata": {
        "id": "s9bAmThCmGzd",
        "colab_type": "code",
        "colab": {
          "base_uri": "https://localhost:8080/",
          "height": 68
        },
        "outputId": "d9597969-bfa8-4b79-be82-39001e0ff1f7"
      },
      "source": [
        "cardict = {\n",
        "  \"marca\": \"Ford\",\n",
        "  \"modelo\": \"Mustang\",\n",
        "  \"año\": 1964\n",
        "}\n",
        "print(cardict)\n",
        "\n",
        "print(cardict[\"marca\"])\n",
        "print(cardict.get(\"marca\"))"
      ],
      "execution_count": 8,
      "outputs": [
        {
          "output_type": "stream",
          "text": [
            "{'marca': 'Ford', 'modelo': 'Mustang', 'año': 1964}\n",
            "Ford\n",
            "Ford\n"
          ],
          "name": "stdout"
        }
      ]
    },
    {
      "cell_type": "markdown",
      "metadata": {
        "id": "aDqDv8L1mTlB",
        "colab_type": "text"
      },
      "source": [
        "Podemos cambiar un elemento del diccionario, porque es modificable. Como hacíamos con las listas, pero usando el nombre de la *key*, entre corchetes:"
      ]
    },
    {
      "cell_type": "code",
      "metadata": {
        "id": "3234EcyGmc87",
        "colab_type": "code",
        "colab": {
          "base_uri": "https://localhost:8080/",
          "height": 34
        },
        "outputId": "f385691b-9fc2-461d-85d2-0f390d955abb"
      },
      "source": [
        "cardict[\"año\"] = 2018\n",
        "print(cardict)"
      ],
      "execution_count": 10,
      "outputs": [
        {
          "output_type": "stream",
          "text": [
            "{'marca': 'Ford', 'modelo': 'Mustang', 'año': 2018}\n"
          ],
          "name": "stdout"
        }
      ]
    },
    {
      "cell_type": "markdown",
      "metadata": {
        "id": "Jhlys4CEmraF",
        "colab_type": "text"
      },
      "source": [
        "Se puede iterar sobre un diccionario utilizando un *for*. Al recorrer un diccionario, el valor de retorno son las claves (*keys*) del diccionario, pero también hay métodos para devolver los valores. Veamos:"
      ]
    },
    {
      "cell_type": "code",
      "metadata": {
        "id": "TgTzuivJmmwT",
        "colab_type": "code",
        "colab": {
          "base_uri": "https://localhost:8080/",
          "height": 595
        },
        "outputId": "db5a9d6d-54af-4f58-b9c3-91ab73548ba9"
      },
      "source": [
        "print(\"\\nMétodo 1 iteración sobre keys\\n\") # \\n nos da un retorno de carro\n",
        "for x in cardict:\n",
        "  print(x)\n",
        "\n",
        "print(\"\\nMétodo 2 iteración sobre keys, imprimir valores\\n\")\n",
        "for x in cardict:\n",
        "  print(cardict[x])\n",
        "\n",
        "print(\"\\nMétodo 3 iteración sobre keys, imprimir keys y valores\\n\")\n",
        "for x in cardict:\n",
        "  print(x, \"-\", cardict[x])\n",
        "\n",
        "print(\"\\nMétodo 4 iteración sobre valores\\n\")\n",
        "for x in cardict.values():\n",
        "  print(x)\n",
        "\n",
        "print(\"\\nMétodo 5 iteración sobre keys y valores\\n\")\n",
        "for x,y in cardict.items(): # la función items devuelve un conjunto de pares de valores key, value\n",
        "  print(x, \"-\", y)\n",
        "\n",
        "#veamos:\n",
        "\n",
        "print(\"a)\", type(cardict.items()))\n",
        "\n",
        "print(\"b)\", cardict.items())\n",
        "x,y in cardict.items()\n",
        "print(\"c)\",x) # una de les keys...\n",
        "print(type(x))"
      ],
      "execution_count": 34,
      "outputs": [
        {
          "output_type": "stream",
          "text": [
            "\n",
            "Método 1 iteración sobre keys\n",
            "\n",
            "marca\n",
            "modelo\n",
            "año\n",
            "\n",
            "Método 2 iteración sobre keys, imprimir valores\n",
            "\n",
            "Ford\n",
            "Mustang\n",
            "2018\n",
            "\n",
            "Método 3 iteración sobre keys, imprimir keys y valores\n",
            "\n",
            "marca - Ford\n",
            "modelo - Mustang\n",
            "año - 2018\n",
            "\n",
            "Método 4 iteración sobre valores\n",
            "\n",
            "Ford\n",
            "Mustang\n",
            "2018\n",
            "\n",
            "Método 5 iteración sobre keys y valores\n",
            "\n",
            "marca - Ford\n",
            "modelo - Mustang\n",
            "año - 2018\n",
            "a) <class 'dict_items'>\n",
            "b) dict_items([('marca', 'Ford'), ('modelo', 'Mustang'), ('año', 2018)])\n",
            "c) año\n",
            "<class 'str'>\n"
          ],
          "name": "stdout"
        }
      ]
    },
    {
      "cell_type": "markdown",
      "metadata": {
        "id": "jo6ZkjCuvxZa",
        "colab_type": "text"
      },
      "source": [
        "Se puede comprobar si una key existe en un diccionario e imprimir la longitud de un diccionario"
      ]
    },
    {
      "cell_type": "code",
      "metadata": {
        "id": "DPavPsFzv1d2",
        "colab_type": "code",
        "colab": {
          "base_uri": "https://localhost:8080/",
          "height": 68
        },
        "outputId": "03733847-e000-43ff-8687-eba6d25586bf"
      },
      "source": [
        "print(\"model\" in cardict)\n",
        "print(\"modelo\" in cardict)\n",
        "\n",
        "print(len(cardict)) # el número de pares key, value"
      ],
      "execution_count": 38,
      "outputs": [
        {
          "output_type": "stream",
          "text": [
            "False\n",
            "True\n",
            "3\n"
          ],
          "name": "stdout"
        }
      ]
    },
    {
      "cell_type": "markdown",
      "metadata": {
        "id": "F56eTxoiwNlE",
        "colab_type": "text"
      },
      "source": [
        "Podemos añadir elementos, pares key,value a nuestro diccionario, porque se puede modificar. También podemos eliminar keys, o el diccionario entero. Se puede usar la función pop(*key*) para eliminar una *key* concreta:"
      ]
    },
    {
      "cell_type": "code",
      "metadata": {
        "id": "fY8yVze_wS3Q",
        "colab_type": "code",
        "colab": {
          "base_uri": "https://localhost:8080/",
          "height": 249
        },
        "outputId": "0481811a-6526-4e36-c3b6-65091f926840"
      },
      "source": [
        "cardict = {\n",
        "  \"marca\": \"Ford\",\n",
        "  \"modelo\": \"Mustang\",\n",
        "  \"año\": 1964\n",
        "}\n",
        "\n",
        "cardict[\"color\"] = \"blanco\"\n",
        "print(cardict)\n",
        "\n",
        "del cardict[\"color\"]\n",
        "print(cardict)\n",
        "\n",
        "cardict.pop(\"modelo\")\n",
        "print(cardict)\n",
        "\n",
        "del cardict\n",
        "print(cardict) # Esto da error, porque hemos eliminado el diccionario"
      ],
      "execution_count": 44,
      "outputs": [
        {
          "output_type": "stream",
          "text": [
            "{'marca': 'Ford', 'modelo': 'Mustang', 'año': 1964, 'color': 'blanco'}\n",
            "{'marca': 'Ford', 'modelo': 'Mustang', 'año': 1964}\n",
            "{'marca': 'Ford', 'año': 1964}\n"
          ],
          "name": "stdout"
        },
        {
          "output_type": "error",
          "ename": "NameError",
          "evalue": "ignored",
          "traceback": [
            "\u001b[0;31m---------------------------------------------------------------------------\u001b[0m",
            "\u001b[0;31mNameError\u001b[0m                                 Traceback (most recent call last)",
            "\u001b[0;32m<ipython-input-44-c06b6efd1d8b>\u001b[0m in \u001b[0;36m<module>\u001b[0;34m()\u001b[0m\n\u001b[1;32m     15\u001b[0m \u001b[0;34m\u001b[0m\u001b[0m\n\u001b[1;32m     16\u001b[0m \u001b[0;32mdel\u001b[0m \u001b[0mcardict\u001b[0m\u001b[0;34m\u001b[0m\u001b[0;34m\u001b[0m\u001b[0m\n\u001b[0;32m---> 17\u001b[0;31m \u001b[0mprint\u001b[0m\u001b[0;34m(\u001b[0m\u001b[0mcardict\u001b[0m\u001b[0;34m)\u001b[0m\u001b[0;34m\u001b[0m\u001b[0;34m\u001b[0m\u001b[0m\n\u001b[0m",
            "\u001b[0;31mNameError\u001b[0m: name 'cardict' is not defined"
          ]
        }
      ]
    },
    {
      "cell_type": "markdown",
      "metadata": {
        "id": "wh3u0t_SxNaR",
        "colab_type": "text"
      },
      "source": [
        "Se pueden ver otras características de los Diccionarios, como copiar, concatenar, etc... aquí: https://www.w3schools.com/python/python_dictionaries.asp"
      ]
    }
  ]
}