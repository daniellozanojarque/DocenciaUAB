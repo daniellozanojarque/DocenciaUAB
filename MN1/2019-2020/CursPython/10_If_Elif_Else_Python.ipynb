{
  "nbformat": 4,
  "nbformat_minor": 0,
  "metadata": {
    "colab": {
      "name": "10_If_Elif_Else_Python.ipynb",
      "provenance": [],
      "collapsed_sections": [],
      "authorship_tag": "ABX9TyPW8T+3ylRw2Ns7AokpudUg",
      "include_colab_link": true
    },
    "kernelspec": {
      "name": "python3",
      "display_name": "Python 3"
    }
  },
  "cells": [
    {
      "cell_type": "markdown",
      "metadata": {
        "id": "view-in-github",
        "colab_type": "text"
      },
      "source": [
        "<a href=\"https://colab.research.google.com/github/joseflix/DocenciaUAB/blob/master/MN1/2019-2020/CursPython/10_If_Elif_Else_Python.ipynb\" target=\"_parent\"><img src=\"https://colab.research.google.com/assets/colab-badge.svg\" alt=\"Open In Colab\"/></a>"
      ]
    },
    {
      "cell_type": "markdown",
      "metadata": {
        "id": "DKTt9u48cOq6",
        "colab_type": "text"
      },
      "source": [
        "# **if... elif... else**\n",
        "\n",
        "Python admite condiciones lógicas que son habituales en las matemáticas para comparar valores. La sentencia condicional *if* se usa para tomar decisiones, valuando básicamente una operación lógica, es decir una expresión que de como resultado *True* o *False*, y ejecuta una parte de código siempre y cuando el resultado sea verdadero (*True*). Las comprobaciones disponibles son:\n",
        "\n",
        "* Igual: a == b\n",
        "* No es igual: a != b\n",
        "* Menos de: a < b\n",
        "* Menor o igual que: a <= b\n",
        "* Mayor que: a > b\n",
        "* Mayor o igual que: a >= b\n",
        "\n",
        "La estructura condicional completa en Python hace uso de la estructura condicional *if/elif/else*"
      ]
    },
    {
      "cell_type": "code",
      "metadata": {
        "id": "T_DOk8odcNTH",
        "colab_type": "code",
        "colab": {
          "base_uri": "https://localhost:8080/",
          "height": 52
        },
        "outputId": "c1458810-9aa9-41c0-b333-438f23054334"
      },
      "source": [
        "numero = 0\n",
        "\n",
        "if numero < 0:\n",
        "    print('El número es negativo\\n')\n",
        "elif numero == 0:\n",
        "    print('El número es 0\\n')\n",
        "elif numero == 1:\n",
        "    print('El número es 1\\n')\n",
        "else:\n",
        "    print('El número es mayor que uno\\n')"
      ],
      "execution_count": 14,
      "outputs": [
        {
          "output_type": "stream",
          "text": [
            "El número es 0\n",
            "\n"
          ],
          "name": "stdout"
        }
      ]
    },
    {
      "cell_type": "markdown",
      "metadata": {
        "id": "oP7BtgFxehTu",
        "colab_type": "text"
      },
      "source": [
        "Podéis cambiar el valor de la variable *numero* para ver en que parte de la sentencia condicional cae. Primero se evalua si el número es menor que 1, si es así, imprime lo que tiene indentado. Si devuelve *False* ejecuta el siguiente condicional, que este caso viene dado por *elif numero == 0*, y si el numero es 0 y esta evaluación es *True* se ejecuta el bloque de código asignado. Así sucesivamente... Si ninguno de los if o elif devuelve *True* se ejecuta el *else*, que viene a ser, en cualquier otro caso, y se ejecuta el código de esta parte. \n",
        "\n",
        "**Es importante** ver que pasa en el caso en el que haya diferentes evaluaciones que no sean excluyentes... Qué sucede?\n",
        "\n",
        "Miremos este caso:"
      ]
    },
    {
      "cell_type": "code",
      "metadata": {
        "id": "Yw6LNFKefsaU",
        "colab_type": "code",
        "colab": {
          "base_uri": "https://localhost:8080/",
          "height": 52
        },
        "outputId": "160b4e36-0056-40e8-c20d-a3476505a8ee"
      },
      "source": [
        "numero = 0\n",
        "\n",
        "if numero <= 0:\n",
        "    print('El número es negativo o cero\\n')\n",
        "elif numero == 0:\n",
        "    print('El número es 0\\n')\n",
        "elif numero == 1:\n",
        "    print('El número es 1\\n')\n",
        "else:\n",
        "    print('El número es mayor que uno\\n')"
      ],
      "execution_count": 16,
      "outputs": [
        {
          "output_type": "stream",
          "text": [
            "El número es negativo o cero\n",
            "\n"
          ],
          "name": "stdout"
        }
      ]
    },
    {
      "cell_type": "markdown",
      "metadata": {
        "id": "KUZEonvJfySG",
        "colab_type": "text"
      },
      "source": [
        "Fijaros que el cero da True tanto para el *if* como para el primer *elif*. Pero, solo se ejecuta el primero de los *if* o *elif* que de *True*. Por lo tanto, hay que ir con cuidado a la hora de definir estas estructuras... "
      ]
    },
    {
      "cell_type": "markdown",
      "metadata": {
        "id": "qBoq-xIagRPw",
        "colab_type": "text"
      },
      "source": [
        "## **If 'abreviado'**\n",
        "\n",
        "Si solo tienes que ejecutar una instrucción, se puede poner en la misma línea que la instrucción *if*. Lo mismo si sólo quieres ejecutar una línea para un *else* o un *elif*. Esto simplifica y compacta el código. Por ejemplo:"
      ]
    },
    {
      "cell_type": "code",
      "metadata": {
        "id": "3KqW0BJEg1YT",
        "colab_type": "code",
        "colab": {
          "base_uri": "https://localhost:8080/",
          "height": 52
        },
        "outputId": "f034b910-bc75-407b-a4b6-de7d817ed10b"
      },
      "source": [
        "a = 10\n",
        "b = 1\n",
        "if a > b: print(\"a es mayor que b\")\n",
        "\n",
        "c = 10\n",
        "d = 100\n",
        "print(\"c\") if c > d else print(\"d\") # El if ... else en una linea tiene una sintaxis un tanto curiosa en Python..."
      ],
      "execution_count": 19,
      "outputs": [
        {
          "output_type": "stream",
          "text": [
            "a es mayor que b\n",
            "d\n"
          ],
          "name": "stdout"
        }
      ]
    },
    {
      "cell_type": "markdown",
      "metadata": {
        "id": "97WukwQpk-UJ",
        "colab_type": "text"
      },
      "source": [
        "## **and / or / not**\n",
        "\n",
        "Podemos hacer un *and* o un *or* lógico en un *if*, es decir si se cumplen dos condiciones, o una u otra. *not* invierte un Boolean. Por ejemplo:"
      ]
    },
    {
      "cell_type": "code",
      "metadata": {
        "id": "t-JJ7y2llLFs",
        "colab_type": "code",
        "colab": {
          "base_uri": "https://localhost:8080/",
          "height": 86
        },
        "outputId": "1896f4b9-a2bf-4f08-d0ac-9de7e78cb69b"
      },
      "source": [
        "a = 30\n",
        "b = 20\n",
        "\n",
        "if a>b and a>5: print(\"Hola!\") # Se cumplen las dos condiciones, y se deben cumplir las dos para que imprima Hola\n",
        "\n",
        "if a>b or a>50: print(\"Adiós!\") # Si se cumple una de las dos opciones se imprime Adiós\n",
        "\n",
        "print(not False)\n",
        "print(not a<b)"
      ],
      "execution_count": 47,
      "outputs": [
        {
          "output_type": "stream",
          "text": [
            "Hola!\n",
            "Adiós!\n",
            "True\n",
            "True\n"
          ],
          "name": "stdout"
        }
      ]
    },
    {
      "cell_type": "markdown",
      "metadata": {
        "id": "F4FIDmymhQz3",
        "colab_type": "text"
      },
      "source": [
        "## **Nested If**\n",
        "\n",
        "Se pueden tener declaraciones *if* dentro de declaraciones *if*, esto se llama instrucciones *if* anidadas (nested if)."
      ]
    },
    {
      "cell_type": "code",
      "metadata": {
        "id": "cZQCcZ5UhuzT",
        "colab_type": "code",
        "colab": {
          "base_uri": "https://localhost:8080/",
          "height": 52
        },
        "outputId": "ffda66a5-7f89-4aa5-fbf5-c790d14066a2"
      },
      "source": [
        "x = 41\n",
        "\n",
        "if x > 10:\n",
        "  print(\">10...\")\n",
        "  if x > 20:\n",
        "    print(\"también >20!\")\n",
        "  else:\n",
        "    print(\"pero <20!\")"
      ],
      "execution_count": 20,
      "outputs": [
        {
          "output_type": "stream",
          "text": [
            ">10...\n",
            "también >20!\n"
          ],
          "name": "stdout"
        }
      ]
    },
    {
      "cell_type": "markdown",
      "metadata": {
        "id": "LcX5MA0jiLjQ",
        "colab_type": "text"
      },
      "source": [
        "## **pass**\n",
        "\n",
        "Un *if* tiene que ejecutar alguna parte de código, pero a veces nos interesa no hacer nada, esto se consigue con la instrucción *pass*. Por ejemplo:"
      ]
    },
    {
      "cell_type": "code",
      "metadata": {
        "id": "jn7n2bq0iV7Z",
        "colab_type": "code",
        "colab": {
          "base_uri": "https://localhost:8080/",
          "height": 35
        },
        "outputId": "bac6ab6f-4532-4956-ffbe-d5a813c2c8de"
      },
      "source": [
        "a = 10\n",
        "b = 1\n",
        "\n",
        "if a > b: \n",
        "  pass # Entra aquí, pero no hace nada, y continúa\n",
        "\n",
        "print(\"hola\")"
      ],
      "execution_count": 23,
      "outputs": [
        {
          "output_type": "stream",
          "text": [
            "hola\n"
          ],
          "name": "stdout"
        }
      ]
    },
    {
      "cell_type": "markdown",
      "metadata": {
        "id": "9sPSJ6wSijQ3",
        "colab_type": "text"
      },
      "source": [
        "## **Operadores is, in, not in**\n",
        "\n",
        "El operador *is* prueba identidad: ambos lados de la expresión condicional debe ser el mismo objecto. \n",
        "\n",
        "El operador *in*, significa que para cualquier colección del valor del lado izquierdo contenga el valor del lado derecho de la evaluación. \n",
        "\n",
        "El operador *not in*, el contrario que el operador *in*, devuelve *True* cuando un elemento no está en una secuencia. Veamos unos ejemplos:"
      ]
    },
    {
      "cell_type": "code",
      "metadata": {
        "id": "tMo6NrfFjHCh",
        "colab_type": "code",
        "colab": {
          "base_uri": "https://localhost:8080/",
          "height": 207
        },
        "outputId": "717344cb-1d2f-4431-d504-0f752884eef6"
      },
      "source": [
        "# Ejemplos is\n",
        "\n",
        "a = 1\n",
        "b = 1\n",
        "\n",
        "print(a is b) # True, a es igual que b\n",
        "print(type(a), type(b), \"\\n\")\n",
        "\n",
        "a, b = 1, 1\n",
        "print(a is b) # True, a es igual que b (es lo mismo que antes pero más compacto)\n",
        "print(type(a), type(b), \"\\n\")\n",
        "\n",
        "c = 1\n",
        "d = 1.0\n",
        "\n",
        "print(c is d) # False. Porque uno es un entero y el otro un float. No solo mira el contenido, sino el type. \n",
        "print(type(c), type(d), \"\\n\")\n",
        "\n",
        "e = 1\n",
        "f = \"1\"\n",
        "\n",
        "print(e is f) # False. Porque uno es un entero y el otro un string. No solo mira el contenido, sino el type. \n",
        "print(type(e), type(f))"
      ],
      "execution_count": 34,
      "outputs": [
        {
          "output_type": "stream",
          "text": [
            "True\n",
            "<class 'int'> <class 'int'> \n",
            "\n",
            "True\n",
            "<class 'int'> <class 'int'> \n",
            "\n",
            "False\n",
            "<class 'int'> <class 'float'> \n",
            "\n",
            "False\n",
            "<class 'int'> <class 'str'>\n"
          ],
          "name": "stdout"
        }
      ]
    },
    {
      "cell_type": "code",
      "metadata": {
        "id": "q7QjDLORkFB5",
        "colab_type": "code",
        "colab": {
          "base_uri": "https://localhost:8080/",
          "height": 69
        },
        "outputId": "6f513686-c042-49dd-f820-09473e2fc026"
      },
      "source": [
        "# Ejemplos in\n",
        "\n",
        "b = [1, 2, 3] # definimos una lista\n",
        "\n",
        "print(2 in b) # Miramos si 2 está en la lista\n",
        "print(\"2\" in b) # Miramos si \"2\" está en la lista, y no está, porque \"2\" es un str, no un int\n",
        "print(2.0 in b) # Miramos si 2.0 está en la lista, y devuelve true, porque puede comparar 2.0 contra 2. in no mira el tipo si las cosas son 'comparables'"
      ],
      "execution_count": 38,
      "outputs": [
        {
          "output_type": "stream",
          "text": [
            "True\n",
            "False\n",
            "True\n"
          ],
          "name": "stdout"
        }
      ]
    },
    {
      "cell_type": "code",
      "metadata": {
        "id": "CEANpCfDksG0",
        "colab_type": "code",
        "colab": {
          "base_uri": "https://localhost:8080/",
          "height": 69
        },
        "outputId": "183feb87-fe69-40d3-e174-1e15f989d3d7"
      },
      "source": [
        "# Ejemplos not in\n",
        "\n",
        "b = [1, 2, 3] # definimos una lista\n",
        "\n",
        "print(2 not in b) # Miramos si 2 no está en la lista\n",
        "print(\"2\" not in b) # Miramos si \"2\" no está en la lista, y no está, porque \"2\" es un str, no un int\n",
        "print(2.0 not in b) # Miramos si 2.0 no está en la lista, y devuelve False, porque puede comparar 2.0 contra 2. not in no mira el tipo si las cosas son 'comparables'"
      ],
      "execution_count": 39,
      "outputs": [
        {
          "output_type": "stream",
          "text": [
            "False\n",
            "True\n",
            "False\n"
          ],
          "name": "stdout"
        }
      ]
    }
  ]
}