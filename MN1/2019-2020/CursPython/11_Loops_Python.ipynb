{
  "nbformat": 4,
  "nbformat_minor": 0,
  "metadata": {
    "colab": {
      "name": "11_Loops_Python.ipynb",
      "provenance": [],
      "collapsed_sections": [],
      "authorship_tag": "ABX9TyNG2v+nQzNxPS66gwy20Emb",
      "include_colab_link": true
    },
    "kernelspec": {
      "name": "python3",
      "display_name": "Python 3"
    }
  },
  "cells": [
    {
      "cell_type": "markdown",
      "metadata": {
        "id": "view-in-github",
        "colab_type": "text"
      },
      "source": [
        "<a href=\"https://colab.research.google.com/github/joseflix/DocenciaUAB/blob/master/MN1/2019-2020/CursPython/11_Loops_Python.ipynb\" target=\"_parent\"><img src=\"https://colab.research.google.com/assets/colab-badge.svg\" alt=\"Open In Colab\"/></a>"
      ]
    },
    {
      "cell_type": "markdown",
      "metadata": {
        "id": "RUp6QyzDnLaV",
        "colab_type": "text"
      },
      "source": [
        "# **Loops (Bucles)**\n",
        "\n",
        "Python permite secuencias periódicas que nos permiten ejecutar código múltiples veces.\n",
        "\n",
        "Podemos realizar múltiples iteraciones hasta que una expresión lógica tenga un valor de *True* (loop *while*), o bien un número finito de iteraciones a través de un loop tipo *for*. "
      ]
    },
    {
      "cell_type": "markdown",
      "metadata": {
        "id": "iuEtFJxVn8ju",
        "colab_type": "text"
      },
      "source": [
        "## **Bucle while**\n",
        "\n",
        "Veamos un ejemplo de loop iterativo con un *while*. Vamos a hacer una secuencia, donde vamos añadiendo una unidad a un número, lo imprimimos por pantalla, y cuando sea == 10 queremos parar el bucle:"
      ]
    },
    {
      "cell_type": "code",
      "metadata": {
        "id": "Kff7valFmgCl",
        "colab_type": "code",
        "colab": {
          "base_uri": "https://localhost:8080/",
          "height": 207
        },
        "outputId": "449f72f4-208e-481a-82c4-14b3e0a5a053"
      },
      "source": [
        "n = 0\n",
        "\n",
        "while (n <= 10): # el while tiene como argumento la regla condicional, se evalua en cada iteración hasta que es True, y para su ejecución\n",
        "  print(n)\n",
        "  n+=1"
      ],
      "execution_count": 2,
      "outputs": [
        {
          "output_type": "stream",
          "text": [
            "0\n",
            "1\n",
            "2\n",
            "3\n",
            "4\n",
            "5\n",
            "6\n",
            "7\n",
            "8\n",
            "9\n",
            "10\n"
          ],
          "name": "stdout"
        }
      ]
    },
    {
      "cell_type": "markdown",
      "metadata": {
        "id": "NEfU1uXzoqX2",
        "colab_type": "text"
      },
      "source": [
        "Un bucle *while* puede ir seguido de un *else*. No es muy diferente a un if, mientras se cumpla una condición haz algo, cuando llegues al límite realiza lo 'otro' (controlado por el *else*):"
      ]
    },
    {
      "cell_type": "code",
      "metadata": {
        "id": "ZpN2mYZJo45S",
        "colab_type": "code",
        "colab": {
          "base_uri": "https://localhost:8080/",
          "height": 225
        },
        "outputId": "23f5507f-b53a-46cb-8422-2bfaecf65ac3"
      },
      "source": [
        "n = 0\n",
        "\n",
        "while (n <= 10): # el while tiene como argumento la regla condicional, se evalua en cada iteración hasta que es True, y para su ejecución\n",
        "  print(n)\n",
        "  n+=1\n",
        "else:\n",
        "  print(\"podría seguir hasta infinito, pero en 10 tenía que parar!\")"
      ],
      "execution_count": 3,
      "outputs": [
        {
          "output_type": "stream",
          "text": [
            "0\n",
            "1\n",
            "2\n",
            "3\n",
            "4\n",
            "5\n",
            "6\n",
            "7\n",
            "8\n",
            "9\n",
            "10\n",
            "podría seguir hasta infinito, pero en 10 tenía que parar!\n"
          ],
          "name": "stdout"
        }
      ]
    },
    {
      "cell_type": "markdown",
      "metadata": {
        "id": "od8UTLlRpMJg",
        "colab_type": "text"
      },
      "source": [
        "Podemos usar las sentencias *break* y *continue* dentro de un bucle *while* para, o bien romper la iteración, o bien continuar evaluando obviando la parte de código que le sigue debajo. Por ejemplo:"
      ]
    },
    {
      "cell_type": "code",
      "metadata": {
        "id": "k8UH7CJHpdhC",
        "colab_type": "code",
        "colab": {
          "base_uri": "https://localhost:8080/",
          "height": 121
        },
        "outputId": "bd61a71c-b644-4145-8744-90fecc274ea7"
      },
      "source": [
        "n = 0\n",
        "\n",
        "while (n <= 10): # el while tiene como argumento la regla condicional, se evalua en cada iteración hasta que es True, y para su ejecución\n",
        "  print(n)\n",
        "  if ( n == 5): break # Cuando n == 5, sale por completo de la combinación while - else, no sigue ejecutando nada más relacionado con esta combinación\n",
        "  n+=1\n",
        "else:\n",
        "  print(\"podría seguir hasta infinito, pero en 10 tenía que parar!\")"
      ],
      "execution_count": 4,
      "outputs": [
        {
          "output_type": "stream",
          "text": [
            "0\n",
            "1\n",
            "2\n",
            "3\n",
            "4\n",
            "5\n"
          ],
          "name": "stdout"
        }
      ]
    },
    {
      "cell_type": "code",
      "metadata": {
        "id": "LeXg1hMcpzBz",
        "colab_type": "code",
        "colab": {
          "base_uri": "https://localhost:8080/",
          "height": 173
        },
        "outputId": "f9a6a03a-cfd4-49a3-83e0-bf1c998c56b1"
      },
      "source": [
        "n = 10\n",
        "\n",
        "while (n > 0): # el while tiene como argumento la regla condicional, se evalua en cada iteración hasta que es True, y para su ejecución\n",
        "  n-=1\n",
        "  if ( n == 5): continue # fijate que cuando n == 5, entonces hace un continue y sigue el while, pero no ejecuta el print de debajo. Así que no se imprime el 5 por pantalla\n",
        "  print(n)"
      ],
      "execution_count": 12,
      "outputs": [
        {
          "output_type": "stream",
          "text": [
            "9\n",
            "8\n",
            "7\n",
            "6\n",
            "4\n",
            "3\n",
            "2\n",
            "1\n",
            "0\n"
          ],
          "name": "stdout"
        }
      ]
    },
    {
      "cell_type": "markdown",
      "metadata": {
        "id": "VwVgs0w4q3uG",
        "colab_type": "text"
      },
      "source": [
        "## **Bucle for**\n",
        "\n",
        "La sentencia *for* en Python difiere un poco de lo que uno puede estar acostumbrado en lenguajes como C o Pascal. En lugar de siempre iterar sobre una progresión aritmética de números (como en Pascal) o darle al usuario la posibilidad de definir tanto el paso de la iteración como la condición de fin (como en C), la sentencia *for* de Python itera sobre los ítems de cualquier secuencia (una lista o una cadenas de caracteres), en el orden que aparecen en la secuencia.\n",
        "\n",
        "Veamos un ejemplo:"
      ]
    },
    {
      "cell_type": "code",
      "metadata": {
        "id": "qtIF-W_arCaz",
        "colab_type": "code",
        "colab": {
          "base_uri": "https://localhost:8080/",
          "height": 69
        },
        "outputId": "55674e5e-4738-4b4e-fa25-195e4ad879ff"
      },
      "source": [
        "# Bucle ‘for’ con Listas\n",
        "\n",
        "animales = ['gato', 'perro', 'serpiente']\n",
        "for animal in animales: # para cada iteración el valor de la variable \"animal\" va tomando uno de los elementos de \"animales\". Ojo! los items pueden estar, o no, estar ordenados (lists vs Tuples)\n",
        "    print(\"El animal es: {0}, tamaño de palabra es: {1}\".format(animal, len(animal))) # Aquí usamos la opción format para print, de manera que la primera evaluación del format va a {0}, y la segunda a {1}"
      ],
      "execution_count": 17,
      "outputs": [
        {
          "output_type": "stream",
          "text": [
            "El animal es: gato, tamaño de palabra es: 4\n",
            "El animal es: perro, tamaño de palabra es: 5\n",
            "El animal es: serpiente, tamaño de palabra es: 9\n"
          ],
          "name": "stdout"
        }
      ]
    },
    {
      "cell_type": "code",
      "metadata": {
        "id": "HuDZjloor1Sh",
        "colab_type": "code",
        "colab": {
          "base_uri": "https://localhost:8080/",
          "height": 397
        },
        "outputId": "10c8a6f0-e49b-41d3-ed2b-fdb12de32eee"
      },
      "source": [
        "# Bucle 'for' con la función range\n",
        "\n",
        "animales = ['gato', 'perro', 'serpiente']\n",
        "for animal in range(len(animales)): #len(animales) es 3, así que estamos diciendo que haga 3 iteraciones, 3 bucles. Se le asigna un valor de 0, 1, 2 a la variable animal\n",
        "  print(animal)\n",
        "\n",
        "print(\"\\n\")\n",
        "\n",
        "#Si queremos el contenido de la lista, tenemos que usar estos números como indices:\n",
        "for animal in range(len(animales)): #len(animales) es 3, así que estamos diciendo que haga 3 iteraciones, 3 bucles. Se le asigna un valor de 0, 1, 2 a la variable animal\n",
        "  print(animales[animal])\n",
        "\n",
        "print(\"\\n\")\n",
        "\n",
        "for x in range(2, 6): # También se puede usar así, entre un mínimo (incluído), y un máximo (excluído)\n",
        "  print(x)\n",
        "\n",
        "print(\"\\n\")\n",
        "\n",
        "for x in range(0, 60, 10): # También se puede usar así, entre un mínimo (incluído), y un máximo (excluído), definiendo un salto, en este caso de 10:\n",
        "  print(x)\n"
      ],
      "execution_count": 25,
      "outputs": [
        {
          "output_type": "stream",
          "text": [
            "0\n",
            "1\n",
            "2\n",
            "\n",
            "\n",
            "gato\n",
            "perro\n",
            "serpiente\n",
            "\n",
            "\n",
            "2\n",
            "3\n",
            "4\n",
            "5\n",
            "\n",
            "\n",
            "0\n",
            "10\n",
            "20\n",
            "30\n",
            "40\n",
            "50\n"
          ],
          "name": "stdout"
        }
      ]
    },
    {
      "cell_type": "markdown",
      "metadata": {
        "id": "uvEaqfpztZH7",
        "colab_type": "text"
      },
      "source": [
        "Un bucle *for* se puede hacer para Tuples y Diccionarios. Los statements de *break*, *continue*, *pass*, y *else* aplican de la misma forma que para el bucle *while*, y de la misma forma que en el *while* o *if* se pueden hacer nested loops. Veamos: "
      ]
    },
    {
      "cell_type": "code",
      "metadata": {
        "id": "cxBWms7Wtyju",
        "colab_type": "code",
        "colab": {
          "base_uri": "https://localhost:8080/",
          "height": 311
        },
        "outputId": "a4816890-08a9-4fee-8f93-373b720a31fc"
      },
      "source": [
        "# For... else\n",
        "\n",
        "for x in range(6):\n",
        "  print(x)\n",
        "else:\n",
        "  print(\"Finally finished!\")\n",
        "\n",
        "print(\"\\n\")\n",
        "\n",
        "for x in range(2):\n",
        "  for y in range(4):\n",
        "    print(x,y)"
      ],
      "execution_count": 28,
      "outputs": [
        {
          "output_type": "stream",
          "text": [
            "0\n",
            "1\n",
            "2\n",
            "3\n",
            "4\n",
            "5\n",
            "Finally finished!\n",
            "\n",
            "\n",
            "0 0\n",
            "0 1\n",
            "0 2\n",
            "0 3\n",
            "1 0\n",
            "1 1\n",
            "1 2\n",
            "1 3\n"
          ],
          "name": "stdout"
        }
      ]
    },
    {
      "cell_type": "markdown",
      "metadata": {
        "id": "X7YVRIo0uH7X",
        "colab_type": "text"
      },
      "source": [
        "Ver más información en: https://entrenamiento-python-basico.readthedocs.io/es/latest/leccion4/bucle_for.html"
      ]
    }
  ]
}