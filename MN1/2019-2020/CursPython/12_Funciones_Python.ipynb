{
  "nbformat": 4,
  "nbformat_minor": 0,
  "metadata": {
    "colab": {
      "name": "12_Funciones_Python.ipynb",
      "provenance": [],
      "collapsed_sections": [],
      "authorship_tag": "ABX9TyNyP7jY9xqA70zfVIarYGXE",
      "include_colab_link": true
    },
    "kernelspec": {
      "name": "python3",
      "display_name": "Python 3"
    }
  },
  "cells": [
    {
      "cell_type": "markdown",
      "metadata": {
        "id": "view-in-github",
        "colab_type": "text"
      },
      "source": [
        "<a href=\"https://colab.research.google.com/github/joseflix/DocenciaUAB/blob/master/MN1/2019-2020/CursPython/12_Funciones_Python.ipynb\" target=\"_parent\"><img src=\"https://colab.research.google.com/assets/colab-badge.svg\" alt=\"Open In Colab\"/></a>"
      ]
    },
    {
      "cell_type": "markdown",
      "metadata": {
        "id": "dzxeC3sJvT50",
        "colab_type": "text"
      },
      "source": [
        "## **Funciones en Python**\n",
        "\n",
        "Una función es un bloque de código con un nombre asociado, que recibe cero o más argumentos o parámetros como entrada, sigue una secuencia de sentencias, las cuales ejecutan una operación deseada y devuelve un valor o una serie de valores y/o realiza una tarea. Este bloque puede ser llamado cuando se necesite en el código.\n",
        "\n",
        "La **programación estructurada** es un paradigma de programación basado en utilizar funciones o subrutinas, estructuras condicionales o de selección (*if/elif/else*), y bucles o iteraciones (*while* y *for*).\n",
        "\n",
        "* Los programas son más fáciles de entender, pueden ser leídos de forma secuencial y no hay necesidad de tener que rastrear saltos de líneas dentro de los bloques de código para intentar entender la lógica interna.\n",
        "* La estructura de los programas es clara, puesto que las sentencias están más ligadas o relacionadas entre sí. \n",
        "* Se optimiza el esfuerzo en las fases de pruebas y depuración. El seguimiento de los fallos o errores del programa (debugging), y con él su detección y corrección, se facilita enormemente.\n",
        "* Se reducen los costos de mantenimiento. Análogamente a la depuración, durante la fase de mantenimiento, modificar o extender los programas resulta más fácil.\n",
        "* Los programas son más sencillos y más rápidos de confeccionar.\n",
        "* Se incrementa el rendimiento de los programadores."
      ]
    },
    {
      "cell_type": "markdown",
      "metadata": {
        "id": "sP2FLZBIxL77",
        "colab_type": "text"
      },
      "source": [
        "## **Creando una función**\n",
        "\n",
        "En Python una función es definida usando la sentencia *def*."
      ]
    },
    {
      "cell_type": "code",
      "metadata": {
        "id": "4BjcaY1dvTTZ",
        "colab_type": "code",
        "colab": {}
      },
      "source": [
        "def my_function():\n",
        "  print(\"Hola, desde una función!\") # Esto si se ejecuta no hace nada, simplemente define la función"
      ],
      "execution_count": 0,
      "outputs": []
    },
    {
      "cell_type": "code",
      "metadata": {
        "id": "DFreierwxL0w",
        "colab_type": "code",
        "outputId": "3876c22d-2494-4c26-f2c7-591ac74c8c78",
        "colab": {
          "base_uri": "https://localhost:8080/",
          "height": 35
        }
      },
      "source": [
        "# Para ejecutar una función se tiene que llamar, invocar durante la ejecución del código. Por ejemplo:\n",
        "\n",
        "my_function()"
      ],
      "execution_count": 2,
      "outputs": [
        {
          "output_type": "stream",
          "text": [
            "Hola, desde una función!\n"
          ],
          "name": "stdout"
        }
      ]
    },
    {
      "cell_type": "code",
      "metadata": {
        "id": "T5-Fjl-MyjIC",
        "colab_type": "code",
        "outputId": "b66530ef-c9e6-4519-c022-ec47b0aec3b8",
        "colab": {
          "base_uri": "https://localhost:8080/",
          "height": 86
        }
      },
      "source": [
        "# una función es re-utilizable, la puedes invocar n-veces:\n",
        "\n",
        "my_function()\n",
        "print(\"Hola, desde aquí!!\")\n",
        "my_function()\n",
        "my_function()\n"
      ],
      "execution_count": 3,
      "outputs": [
        {
          "output_type": "stream",
          "text": [
            "Hola, desde una función!\n",
            "Hola, desde aquí!!\n",
            "Hola, desde una función!\n",
            "Hola, desde una función!\n"
          ],
          "name": "stdout"
        }
      ]
    },
    {
      "cell_type": "markdown",
      "metadata": {
        "id": "HyWTPVRHy2rP",
        "colab_type": "text"
      },
      "source": [
        "# **Argumentos en una función**\n",
        "\n",
        "Podemos pasar parámetros/valores a una función, y podemos manipular estos valores dentro de la función, por ejemplo:"
      ]
    },
    {
      "cell_type": "code",
      "metadata": {
        "id": "__tQwzFIy_P3",
        "colab_type": "code",
        "colab": {}
      },
      "source": [
        "def function2(a, b):\n",
        "  print(a+b) # esto en si define la estructura de la función, ni a ni b tienen ningún valor asignado, por ahora, se le asigna cuando se llama a la función."
      ],
      "execution_count": 0,
      "outputs": []
    },
    {
      "cell_type": "code",
      "metadata": {
        "id": "HhEHJmUuzPg4",
        "colab_type": "code",
        "outputId": "d8a175f3-1e19-4614-854b-2ed3f3ef4a4f",
        "colab": {
          "base_uri": "https://localhost:8080/",
          "height": 35
        }
      },
      "source": [
        "function2(1,2)"
      ],
      "execution_count": 5,
      "outputs": [
        {
          "output_type": "stream",
          "text": [
            "3\n"
          ],
          "name": "stdout"
        }
      ]
    },
    {
      "cell_type": "markdown",
      "metadata": {
        "id": "bOJzBmBRzSbZ",
        "colab_type": "text"
      },
      "source": [
        "Justo hemos hecho una función que suma dos variables. Si las variables tienen el mismo tipo, es posible que funcione bien, no?"
      ]
    },
    {
      "cell_type": "code",
      "metadata": {
        "id": "aNd21jSIze48",
        "colab_type": "code",
        "outputId": "e37c1c37-8e1f-4db0-c375-4b263acac570",
        "colab": {
          "base_uri": "https://localhost:8080/",
          "height": 69
        }
      },
      "source": [
        "function2(1, 2)\n",
        "function2(1.0, 3.0)\n",
        "function2(\"hola\",\"adios\") # pues resulta que si, que dos str se pueden sumar, de hecho es una concatenación..."
      ],
      "execution_count": 6,
      "outputs": [
        {
          "output_type": "stream",
          "text": [
            "3\n",
            "4.0\n",
            "holaadios\n"
          ],
          "name": "stdout"
        }
      ]
    },
    {
      "cell_type": "code",
      "metadata": {
        "id": "VipMO8GJztcd",
        "colab_type": "code",
        "outputId": "ba44fcb6-df1b-4860-dffb-f598ac009a0d",
        "colab": {
          "base_uri": "https://localhost:8080/",
          "height": 235
        }
      },
      "source": [
        "function2(1,\"hola\") # Pero claro, no podemos sumar un entero y un string, son de diferente tipo... "
      ],
      "execution_count": 7,
      "outputs": [
        {
          "output_type": "error",
          "ename": "TypeError",
          "evalue": "ignored",
          "traceback": [
            "\u001b[0;31m---------------------------------------------------------------------------\u001b[0m",
            "\u001b[0;31mTypeError\u001b[0m                                 Traceback (most recent call last)",
            "\u001b[0;32m<ipython-input-7-e96516669614>\u001b[0m in \u001b[0;36m<module>\u001b[0;34m()\u001b[0m\n\u001b[0;32m----> 1\u001b[0;31m \u001b[0mfunction2\u001b[0m\u001b[0;34m(\u001b[0m\u001b[0;36m1\u001b[0m\u001b[0;34m,\u001b[0m\u001b[0;34m\"hola\"\u001b[0m\u001b[0;34m)\u001b[0m \u001b[0;31m# Pero claro, no podemos sumar un entero y un string, son de diferente tipo...\u001b[0m\u001b[0;34m\u001b[0m\u001b[0;34m\u001b[0m\u001b[0m\n\u001b[0m",
            "\u001b[0;32m<ipython-input-4-ac5f86a2f3c2>\u001b[0m in \u001b[0;36mfunction2\u001b[0;34m(a, b)\u001b[0m\n\u001b[1;32m      1\u001b[0m \u001b[0;32mdef\u001b[0m \u001b[0mfunction2\u001b[0m\u001b[0;34m(\u001b[0m\u001b[0ma\u001b[0m\u001b[0;34m,\u001b[0m \u001b[0mb\u001b[0m\u001b[0;34m)\u001b[0m\u001b[0;34m:\u001b[0m\u001b[0;34m\u001b[0m\u001b[0;34m\u001b[0m\u001b[0m\n\u001b[0;32m----> 2\u001b[0;31m   \u001b[0mprint\u001b[0m\u001b[0;34m(\u001b[0m\u001b[0ma\u001b[0m\u001b[0;34m+\u001b[0m\u001b[0mb\u001b[0m\u001b[0;34m)\u001b[0m \u001b[0;31m# esto en si define la estructura de la función, ni a ni b tienen ningún valor asignado, por ahora, se le asigna cuando se llama a la función.\u001b[0m\u001b[0;34m\u001b[0m\u001b[0;34m\u001b[0m\u001b[0m\n\u001b[0m",
            "\u001b[0;31mTypeError\u001b[0m: unsupported operand type(s) for +: 'int' and 'str'"
          ]
        }
      ]
    },
    {
      "cell_type": "code",
      "metadata": {
        "id": "cwkV7AdMz2x9",
        "colab_type": "code",
        "colab": {
          "base_uri": "https://localhost:8080/",
          "height": 35
        },
        "outputId": "d8b115cf-6751-441d-9021-3576c5fdd306"
      },
      "source": [
        "# Esto se puede solventar cambiando el tipo de la variable, se llama 'casting' en programación\n",
        "function2(str(1),\"hola\") # str() nos convierte el 1 en el string \"1\", y entonces se puede sumar con \"hola\""
      ],
      "execution_count": 8,
      "outputs": [
        {
          "output_type": "stream",
          "text": [
            "1hola\n"
          ],
          "name": "stdout"
        }
      ]
    },
    {
      "cell_type": "markdown",
      "metadata": {
        "id": "qH7KsR2vzdIj",
        "colab_type": "text"
      },
      "source": [
        "Sigamos con las funciones. La primera que hemos creado, no tenía argumentos, y la segunda tiene dos. Es posible definir una función, que si se llama sin pasar argumentos, coja valores por defecto. Por ejemplo:"
      ]
    },
    {
      "cell_type": "code",
      "metadata": {
        "id": "LqEx8_ec0cG9",
        "colab_type": "code",
        "colab": {
          "base_uri": "https://localhost:8080/",
          "height": 52
        },
        "outputId": "31f13c70-ac37-44f9-f7b3-e0a6401bb153"
      },
      "source": [
        "def function3(a = 0, b = 0):\n",
        "  print(a+b)\n",
        "\n",
        "function3() # Si no le pasamos argumentos, coge los que le hemos pasado por defecto (0,0)\n",
        "function3(1,1) # Si pasamos argumentos, entonces sobre-escribe los defectos"
      ],
      "execution_count": 9,
      "outputs": [
        {
          "output_type": "stream",
          "text": [
            "0\n",
            "2\n"
          ],
          "name": "stdout"
        }
      ]
    },
    {
      "cell_type": "markdown",
      "metadata": {
        "id": "q9xcVTjc0-xY",
        "colab_type": "text"
      },
      "source": [
        "# **Argumentos indeterminados**\n",
        "\n",
        "Si tenemos una lista dinámica de argumentos, es decir, un tipo Tuple, para recibir los parámetros indeterminados por **posición** se usa: "
      ]
    },
    {
      "cell_type": "code",
      "metadata": {
        "id": "hrXs9QOR1ff3",
        "colab_type": "code",
        "colab": {
          "base_uri": "https://localhost:8080/",
          "height": 138
        },
        "outputId": "c0e3ad0a-64e2-435e-e8f5-87cafb3ac160"
      },
      "source": [
        "def indeterminados_posicion(*args):\n",
        "  i = 0\n",
        "  for arg in args:\n",
        "    print('Argumento',i, \":\", arg)\n",
        "    i+=1\n",
        "    \n",
        "indeterminados_posicion(5,\"Hola Plone\",[1,2,3,4,5])\n",
        "\n",
        "print(\"####################\")\n",
        "\n",
        "indeterminados_posicion(\"Hola Plone\",[1,2,3,4,5], 5)"
      ],
      "execution_count": 15,
      "outputs": [
        {
          "output_type": "stream",
          "text": [
            "Argumento 0 : 5\n",
            "Argumento 1 : Hola Plone\n",
            "Argumento 2 : [1, 2, 3, 4, 5]\n",
            "####################\n",
            "Argumento 0 : Hola Plone\n",
            "Argumento 1 : [1, 2, 3, 4, 5]\n",
            "Argumento 2 : 5\n"
          ],
          "name": "stdout"
        }
      ]
    },
    {
      "cell_type": "markdown",
      "metadata": {
        "id": "03C1nJ1g1vAv",
        "colab_type": "text"
      },
      "source": [
        "Fijaros que es una lista de argumentos, y tienen que estar ordenados...\n",
        "\n",
        "Para recibir un número indeterminado de parámetros por **nombre** (clave-valor o en inglés keyword args), se debe crear un diccionario dinámico de argumentos definiendo el parámetro con dos asteriscos:"
      ]
    },
    {
      "cell_type": "code",
      "metadata": {
        "id": "IaZ6SdSU1yXB",
        "colab_type": "code",
        "colab": {
          "base_uri": "https://localhost:8080/",
          "height": 35
        },
        "outputId": "4095504a-9fcc-4e29-da88-8f939eccd15a"
      },
      "source": [
        "def indeterminados_nombre(**kwargs):\n",
        "  print(kwargs)\n",
        "\n",
        "indeterminados_nombre(n=5, c=\"Hola Plone\", l=[1,2,3,4,5])"
      ],
      "execution_count": 11,
      "outputs": [
        {
          "output_type": "stream",
          "text": [
            "{'n': 5, 'c': 'Hola Plone', 'l': [1, 2, 3, 4, 5]}\n"
          ],
          "name": "stdout"
        }
      ]
    },
    {
      "cell_type": "markdown",
      "metadata": {
        "id": "TAlEU0hxG8VW",
        "colab_type": "text"
      },
      "source": [
        "En este caso les damos un nombre a las variables, y las podemos enviar a la función de forma desordenada, porque en la función podremos buscar estos nombres/variables y usarlos a nuestro antojo:"
      ]
    },
    {
      "cell_type": "code",
      "metadata": {
        "id": "B-ebcX1sHIOI",
        "colab_type": "code",
        "colab": {
          "base_uri": "https://localhost:8080/",
          "height": 69
        },
        "outputId": "263cc224-85a3-4d44-aec2-1ad0eadd7643"
      },
      "source": [
        "def indeterminados_nombre(**kwargs):\n",
        "  if not 'n' in kwargs:\n",
        "    n = 2\n",
        "  else: \n",
        "    n = kwargs['n']\n",
        "  if not 'c' in kwargs: \n",
        "    c = \"Hola Paco\"\n",
        "  else: \n",
        "    c = kwargs['c']\n",
        "  if not 'l' in kwargs: \n",
        "    l = [1,2,4]\n",
        "  else: \n",
        "    l = kwargs['l']\n",
        "  print(n,c,l)\n",
        "\n",
        "indeterminados_nombre(n=5, c=\"Hola Plone\", l=[1,2,3,4,5])\n",
        "\n",
        "print(\"####################\")\n",
        "\n",
        "indeterminados_nombre(n=10)"
      ],
      "execution_count": 25,
      "outputs": [
        {
          "output_type": "stream",
          "text": [
            "5 Hola Plone [1, 2, 3, 4, 5]\n",
            "####################\n",
            "10 Hola Paco [1, 2, 4]\n"
          ],
          "name": "stdout"
        }
      ]
    },
    {
      "cell_type": "markdown",
      "metadata": {
        "id": "m7dW0s5G1-9t",
        "colab_type": "text"
      },
      "source": [
        "Para recibir un número indeterminado de argumentos por **nombre** y **posición** se requiere aceptar ambos tipos de parámetros simultáneamente en la función. Se deben crear ambas colecciones dinámicas. Primero los argumentos indeterminados por valor y luego los cuales son por clave y valor:"
      ]
    },
    {
      "cell_type": "code",
      "metadata": {
        "id": "fngR7NZu2GpU",
        "colab_type": "code",
        "colab": {}
      },
      "source": [
        "def super_funcion(*args,**kwargs):\n",
        "  total = 0\n",
        "  for arg in args:\n",
        "    total += arg\n",
        "    print(\"sumatorio => \", total)\n",
        "  for kwarg in kwargs:\n",
        "    print(kwarg, \"=>\", kwargs[kwarg])\n",
        "\n",
        "super_funcion(50, -1, 1.56, 10, 20, 300, cms=\"Plone\", edad=38)"
      ],
      "execution_count": 0,
      "outputs": []
    },
    {
      "cell_type": "markdown",
      "metadata": {
        "id": "9wwCUXyK2tvP",
        "colab_type": "text"
      },
      "source": [
        "Los nombres **args** y **kwargs** no son obligatorios, pero se suelen utilizar por convención. Muchos frameworks y librerías en Python los utilizan por lo que es una buena practica llamarlos así."
      ]
    },
    {
      "cell_type": "markdown",
      "metadata": {
        "id": "t-HH51rb2zpX",
        "colab_type": "text"
      },
      "source": [
        "# **Sentencia return**\n",
        "\n",
        "Las funciones pueden comunicarse con el exterior de las mismas, al proceso principal del programa usando la sentencia return. El proceso de comunicación con el exterior se hace devolviendo uno o varios valores. A continuación, un ejemplo de función usando return:"
      ]
    },
    {
      "cell_type": "code",
      "metadata": {
        "id": "29ZbZiq43IzE",
        "colab_type": "code",
        "colab": {}
      },
      "source": [
        "def suma(a,b):\n",
        "  return a+b # Aquí la función retorna 1 valor: la suma de a + b\n",
        "\n",
        "a = suma(1,2) # el valor de retorno lo asignamos a la variable a\n",
        "print(a)"
      ],
      "execution_count": 0,
      "outputs": []
    },
    {
      "cell_type": "code",
      "metadata": {
        "id": "4729NYb23Y2l",
        "colab_type": "code",
        "colab": {}
      },
      "source": [
        "def suma(a,b):\n",
        "  return a, b, a+b # Aquí la función retorna 3 valores: a, b, y la suma\n",
        "\n",
        "a = suma(1,2)\n",
        "print(type(a))\n",
        "print(a)"
      ],
      "execution_count": 0,
      "outputs": []
    },
    {
      "cell_type": "code",
      "metadata": {
        "id": "9oW366br3_PZ",
        "colab_type": "code",
        "colab": {}
      },
      "source": [
        "# Las funciones se pueden re-utilizar:\n",
        "\n",
        "def my_function(x):\n",
        "  return 5 * x\n",
        "\n",
        "print(my_function(3))\n",
        "print(my_function(5))\n",
        "print(my_function(9))"
      ],
      "execution_count": 0,
      "outputs": []
    },
    {
      "cell_type": "markdown",
      "metadata": {
        "id": "J4Mevqpy54zC",
        "colab_type": "text"
      },
      "source": [
        "# **Funciones avanzadas: lambda**\n",
        "\n",
        "Se puede mirar aquí https://entrenamiento-python-basico.readthedocs.io/es/latest/leccion5/funciones_avanzadas.html, para entender más acerca de funciones. Pero una de ellas tiene especial interés, la función *lambda*.\n",
        "\n",
        "Las funciones anónimas se implementan en Python con las funciones o expresiones *lambda*, esta es unas de las funcionalidades más potentes de Python, pero a la vez es la más confusas para los principiantes.\n",
        "\n",
        "Una función en su sentido más trivial significa realizar algo sobre algo. Por tanto se podría decir que, mientras las funciones anónimas lambda sirven para realizar funciones simples, las funciones definidas con def sirven para manejar tareas más extensas.\n",
        "\n",
        "Vamos a ver un ejemplo simple, una función que suma 10 a un número que pasaremos como variable a una función:"
      ]
    },
    {
      "cell_type": "code",
      "metadata": {
        "id": "D7y9N-DB6vAo",
        "colab_type": "code",
        "colab": {}
      },
      "source": [
        "def suma10(n):\n",
        "  suma = n + 10\n",
        "  return suma\n",
        "\n",
        "suma10(100)"
      ],
      "execution_count": 0,
      "outputs": []
    },
    {
      "cell_type": "markdown",
      "metadata": {
        "id": "5BdVsQjS65pk",
        "colab_type": "text"
      },
      "source": [
        "Lo anterior se puede simplificar, hacer más compacto, y más rápido en ejecución, si retornamos directamente la suma sin asignar a ninguna variable:"
      ]
    },
    {
      "cell_type": "code",
      "metadata": {
        "id": "UxgYeoIj7Dd3",
        "colab_type": "code",
        "colab": {}
      },
      "source": [
        "def suma10(n):\n",
        "  return n + 10\n",
        "\n",
        "suma10(100)"
      ],
      "execution_count": 0,
      "outputs": []
    },
    {
      "cell_type": "markdown",
      "metadata": {
        "id": "85Dc5j8V7HwF",
        "colab_type": "text"
      },
      "source": [
        "Al tener una única sentencia/línea a ejecutar, se puede poner aún más compacto:"
      ]
    },
    {
      "cell_type": "code",
      "metadata": {
        "id": "b5nMZQpy7M-p",
        "colab_type": "code",
        "colab": {}
      },
      "source": [
        "def suma10(n): return n + 10\n",
        "\n",
        "suma10(100)"
      ],
      "execution_count": 0,
      "outputs": []
    },
    {
      "cell_type": "markdown",
      "metadata": {
        "id": "0n4csMa77cM_",
        "colab_type": "text"
      },
      "source": [
        "Podemos definir una función anónima con una entrada que recibe un número, y una salida que devuelve número + 10:"
      ]
    },
    {
      "cell_type": "code",
      "metadata": {
        "id": "gQHBFwXR7j6Q",
        "colab_type": "code",
        "colab": {}
      },
      "source": [
        "lambda numero: numero + 10"
      ],
      "execution_count": 0,
      "outputs": []
    },
    {
      "cell_type": "markdown",
      "metadata": {
        "id": "faK1xXvi7jA_",
        "colab_type": "text"
      },
      "source": [
        "Lo único que se necesita hacer para utilizarla es guardarla en una variable y utilizarla tal como se haría con una función normal:\n"
      ]
    },
    {
      "cell_type": "code",
      "metadata": {
        "id": "yD5OI-Iy74oD",
        "colab_type": "code",
        "colab": {}
      },
      "source": [
        "x = lambda numero: numero + 10\n",
        "\n",
        "print((type(x))) # ahora x se ha convertido en una función, ha dejado de ser anónima\n",
        "\n",
        "x(100)"
      ],
      "execution_count": 0,
      "outputs": []
    },
    {
      "cell_type": "markdown",
      "metadata": {
        "id": "H5KkLb1j8Tu6",
        "colab_type": "text"
      },
      "source": [
        "Una función lambda puede tener múltiples argumentos:"
      ]
    },
    {
      "cell_type": "code",
      "metadata": {
        "id": "qitBvR-u8XTe",
        "colab_type": "code",
        "colab": {}
      },
      "source": [
        "x = lambda a, b : a * b\n",
        "print(x(5, 6))"
      ],
      "execution_count": 0,
      "outputs": []
    },
    {
      "cell_type": "markdown",
      "metadata": {
        "id": "EzsZ6vMN8Y9b",
        "colab_type": "text"
      },
      "source": [
        "Se puede ver más acerca de la potencia del uso de lambdas en: https://www.w3schools.com/python/python_lambda.asp"
      ]
    },
    {
      "cell_type": "markdown",
      "metadata": {
        "id": "uJxRRz2e84jg",
        "colab_type": "text"
      },
      "source": [
        "# **Funciones integradas en Python**\n",
        "\n",
        "Python tiene muchas funciones integradas (built-in) que pueden ser usadas. Una lista está disponible en: https://entrenamiento-python-basico.readthedocs.io/es/latest/leccion5/funciones_integradas.html\n",
        "\n",
        "Ejemplos que ya hemos visto len(), range(), str(), ... Existen otras muy útiles, por ejemplo:"
      ]
    },
    {
      "cell_type": "code",
      "metadata": {
        "id": "GZoSqJ429FLr",
        "colab_type": "code",
        "colab": {}
      },
      "source": [
        "m = [1, 2 , 40, 6 , 19, 200]\n",
        "\n",
        "print(min(m))\n",
        "print(max(m))\n",
        "print(len(m))\n",
        "print(sum(m))\n",
        "print(sorted(m))"
      ],
      "execution_count": 0,
      "outputs": []
    }
  ]
}