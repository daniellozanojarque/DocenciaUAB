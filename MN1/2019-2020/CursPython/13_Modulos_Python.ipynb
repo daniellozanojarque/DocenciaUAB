{
  "nbformat": 4,
  "nbformat_minor": 0,
  "metadata": {
    "colab": {
      "name": "13_Modulos_Python.ipynb",
      "provenance": [],
      "collapsed_sections": [],
      "authorship_tag": "ABX9TyPYUrzxGKnBMlOcnvzLsdY2",
      "include_colab_link": true
    },
    "kernelspec": {
      "name": "python3",
      "display_name": "Python 3"
    }
  },
  "cells": [
    {
      "cell_type": "markdown",
      "metadata": {
        "id": "view-in-github",
        "colab_type": "text"
      },
      "source": [
        "<a href=\"https://colab.research.google.com/github/joseflix/DocenciaUAB/blob/master/MN1/2019-2020/CursPython/13_Modulos_Python.ipynb\" target=\"_parent\"><img src=\"https://colab.research.google.com/assets/colab-badge.svg\" alt=\"Open In Colab\"/></a>"
      ]
    },
    {
      "cell_type": "markdown",
      "metadata": {
        "id": "keLAEEPf5F4H",
        "colab_type": "text"
      },
      "source": [
        "# **Módulos de Python**\n",
        "\n",
        "Muchas de las funcionalidades de Python se encuentran dentro de módulos y paquetes que son incluídos en Python, o se pueden instalar o importar a nuestro código de forma sencilla.\n",
        "\n",
        "Un módulo es un objeto de Python con atributos con nombres arbitrarios que puede enlazar y hacer referencia: una colección de funciones que podemos importar a nuestro código y usar desde otros programas.\n",
        "\n",
        "Crear un módulo es sencillo, usando estos pasos: https://www.w3schools.com/python/python_modules.asp\n"
      ]
    },
    {
      "cell_type": "markdown",
      "metadata": {
        "id": "N9nvUwRZ5mMv",
        "colab_type": "text"
      },
      "source": [
        "## **Crear/usar un módulo**\n",
        "\n",
        "Para crear un módulo simplemente se guarda la parte código en un archivo con la extensión .py. En este curso no vamos a trabajar lectura y/o escritura de ficheros, ya que al trabajar en Google Colab requiere usar el disco de Drive y es un poco complejo (será una actividad avanzada). \n",
        "\n",
        "Explico el concepto de como crear un módulo para que se entienda como funciona, porque usaremos módulos que ya están hechos y que se han convertido en standares en Python. \n",
        "\n",
        "Imagina que guardas el siguiente código en un fichero llamado *mymodule.py*:"
      ]
    },
    {
      "cell_type": "code",
      "metadata": {
        "id": "rTcAyyRx5Din",
        "colab_type": "code",
        "colab": {}
      },
      "source": [
        "def greeting(name):\n",
        "  print(\"Hello, \" + name)"
      ],
      "execution_count": 0,
      "outputs": []
    },
    {
      "cell_type": "markdown",
      "metadata": {
        "id": "4n3pvoqp6jKr",
        "colab_type": "text"
      },
      "source": [
        "Este código define la función *greeting* a la cual se la pasa un nombre como argumento, y nos devuelve una impresión por pantalla.\n",
        "\n",
        "Imagina que ahora estás trabajando en otro código, y quieres usar esta función. No hace falta que la repitas allá... Basta con importar ese código para usar la función:"
      ]
    },
    {
      "cell_type": "code",
      "metadata": {
        "id": "Ovldh6iu62ba",
        "colab_type": "code",
        "colab": {}
      },
      "source": [
        "import mymodule\n",
        "\n",
        "mymodule.greeting(\"Jonathan\")"
      ],
      "execution_count": 0,
      "outputs": []
    },
    {
      "cell_type": "markdown",
      "metadata": {
        "id": "kWZDh23d644X",
        "colab_type": "text"
      },
      "source": [
        "se importa *mymodule* y se llama a la función *greeting*. La manera de llamarla es *nombre_modulo.nombre_función()*, ya que es una función referenciada a ese import.\n",
        "\n",
        "\n",
        "Se puede crear un alias cuando se importe un módulo, utilizando la palabra clave *as*. Esto es útil cuando los nombres los módulos son largos, y se quiere primar que el código sea lo más entendible posible:"
      ]
    },
    {
      "cell_type": "code",
      "metadata": {
        "id": "jNGU5KwH7noF",
        "colab_type": "code",
        "colab": {}
      },
      "source": [
        "import mymodule as mym\n",
        "\n",
        "mym.greeting(\"Pep\")"
      ],
      "execution_count": 0,
      "outputs": []
    },
    {
      "cell_type": "markdown",
      "metadata": {
        "id": "MuGIzkYn8fC6",
        "colab_type": "text"
      },
      "source": [
        "## **Módulos integrados en Python**\n",
        "\n",
        "Hay varios módulos integrados en Python, que se pueden importar cuando se quieran usar. La lista completa se puede ver aquí: https://docs.python.org/2/library/index.html. No confundir con la lista de funciones integradas en Python: https://entrenamiento-python-basico.readthedocs.io/es/latest/leccion10/libreria_estandar.html\n",
        "\n",
        "Vamos a ver un ejemplo concreto, importando el módulo *platform*: https://docs.python.org/2/library/platform.html\n",
        "\n",
        "Esta librería nos permite obtener información del ordenador/entorno en el que nuestro código está siendo ejecutado:"
      ]
    },
    {
      "cell_type": "code",
      "metadata": {
        "id": "VFWDdOCE72fJ",
        "colab_type": "code",
        "colab": {
          "base_uri": "https://localhost:8080/",
          "height": 51
        },
        "outputId": "33e6c2a7-ae2e-4548-a42f-24a168ed11e8"
      },
      "source": [
        "import platform\n",
        "\n",
        "x = platform.uname()\n",
        "print(x) # Esto nos dice que la máquina virtual de Google es Linux, con un procesador x86, 64-bits, el nombre de la máquina (nombre aleatorio para la máquina virtual), versión de kernel de Linux, ...\n",
        "\n",
        "y = platform.python_version()\n",
        "print(y) # En efecto estamos ejecutando una versión de Python 3 en nuestro entorno. "
      ],
      "execution_count": 15,
      "outputs": [
        {
          "output_type": "stream",
          "text": [
            "uname_result(system='Linux', node='f888eb8d4598', release='4.14.137+', version='#1 SMP Thu Aug 8 02:47:02 PDT 2019', machine='x86_64', processor='x86_64')\n",
            "3.6.9\n"
          ],
          "name": "stdout"
        }
      ]
    },
    {
      "cell_type": "markdown",
      "metadata": {
        "id": "OkjMl2rY7sKN",
        "colab_type": "text"
      },
      "source": [
        "\n",
        "Podemos ver, para cualquier módulo, las funciones contenidas llamando a la función dir() (o también mirando en la documentación web de Python):"
      ]
    },
    {
      "cell_type": "code",
      "metadata": {
        "id": "YiKeI4Hx_BdG",
        "colab_type": "code",
        "colab": {
          "base_uri": "https://localhost:8080/",
          "height": 54
        },
        "outputId": "fa837bfe-27b1-4c6b-e2b2-404a06d74687"
      },
      "source": [
        "import platform\n",
        "\n",
        "x = dir(platform) # dir() es una función integrada en Python base, no está dentro de un módulo\n",
        "print(x)"
      ],
      "execution_count": 1,
      "outputs": [
        {
          "output_type": "stream",
          "text": [
            "['DEV_NULL', '_UNIXCONFDIR', '_WIN32_CLIENT_RELEASES', '_WIN32_SERVER_RELEASES', '__builtins__', '__cached__', '__copyright__', '__doc__', '__file__', '__loader__', '__name__', '__package__', '__spec__', '__version__', '_codename_file_re', '_comparable_version', '_component_re', '_default_architecture', '_dist_try_harder', '_distributor_id_file_re', '_follow_symlinks', '_ironpython26_sys_version_parser', '_ironpython_sys_version_parser', '_java_getprop', '_libc_search', '_linux_distribution', '_lsb_release_version', '_mac_ver_xml', '_node', '_norm_version', '_parse_release_file', '_platform', '_platform_cache', '_pypy_sys_version_parser', '_release_file_re', '_release_filename', '_release_version', '_supported_dists', '_sys_version', '_sys_version_cache', '_sys_version_parser', '_syscmd_file', '_syscmd_uname', '_syscmd_ver', '_uname_cache', '_ver_output', '_ver_stages', 'architecture', 'collections', 'dist', 'java_ver', 'libc_ver', 'linux_distribution', 'mac_ver', 'machine', 'node', 'os', 'platform', 'popen', 'processor', 'python_branch', 'python_build', 'python_compiler', 'python_implementation', 'python_revision', 'python_version', 'python_version_tuple', 're', 'release', 'subprocess', 'sys', 'system', 'system_alias', 'uname', 'uname_result', 'version', 'warnings', 'win32_ver']\n"
          ],
          "name": "stdout"
        }
      ]
    },
    {
      "cell_type": "markdown",
      "metadata": {
        "id": "BW4ZNccb_Q5o",
        "colab_type": "text"
      },
      "source": [
        "Como nota a recordar, es recomendable **no usar** nombres para tus funciones que ya estén creados/usados para funciones de Python. Generalmente si intentas hacerlo, te va a dar problemas... por ejemplo:"
      ]
    },
    {
      "cell_type": "code",
      "metadata": {
        "id": "1l9Q6h7u_gLt",
        "colab_type": "code",
        "colab": {
          "base_uri": "https://localhost:8080/",
          "height": 68
        },
        "outputId": "fb775005-085b-4537-c966-9cecba9f4e1f"
      },
      "source": [
        "def dir(name):\n",
        "  print(name)\n",
        "\n",
        "dir(\"hola\")\n",
        "\n",
        "x = dir(platform)\n",
        "print(x)"
      ],
      "execution_count": 2,
      "outputs": [
        {
          "output_type": "stream",
          "text": [
            "hola\n",
            "<module 'platform' from '/usr/lib/python3.6/platform.py'>\n",
            "None\n"
          ],
          "name": "stdout"
        }
      ]
    },
    {
      "cell_type": "markdown",
      "metadata": {
        "id": "pBGyQ62d_zAr",
        "colab_type": "text"
      },
      "source": [
        "Nos acabamos de 'cargar' la función dir... **hay que ir con cuidado!**"
      ]
    },
    {
      "cell_type": "markdown",
      "metadata": {
        "id": "YeidptfrGirj",
        "colab_type": "text"
      },
      "source": [
        "## **Usando *from***\n",
        "\n",
        "Los módulos pueden importar otros módulos. Es costumbre pero no obligatorio el ubicar todas las declaraciones import al principio del módulo (o script, para el caso). \n",
        "\n",
        "Hay una variante de la declaración import que importa los nombres de un módulo directamente al espacio de nombres del módulo que hace la importación. Por ejemplo, imagina un módulo que se llama *fibo.py* que tiene varias funciones declaradas dentro. Lo siguiente importa las funciones *fib*, y *fib2* que están en el módulo *fibo*:\n",
        "\n",
        "```\n",
        ">>> from fibo import fib, fib2\n",
        ">>> fib(500)\n",
        "1 1 2 3 5 8 13 21 34 55 89 144 233 377\n",
        "```\n",
        "\n",
        "Fíjate que ahora no hace falta explicitar el módulo a la hora de llamar a la función, es decir no hace falta llamar a las funciones como *nombre_módulo.nombre_función()*.\n",
        "\n",
        "Se pueden importar de esta forma todas las funciones de un módulo, como:\n",
        "\n",
        "```\n",
        ">>> from fibo import *\n",
        "```\n",
        "\n",
        "Si un módulo o paquete tiene sub-módulos dentro de directorios, se pueden incluir de la siguiente manera:\n",
        "\n",
        "```\n",
        ">>> import tostadas_pipo.utilidades\n",
        ">>> from tostadas_pipo import utilidades\n",
        ">>> from tostadas_pipo.utilidades import *\n",
        "```\n"
      ]
    }
  ]
}