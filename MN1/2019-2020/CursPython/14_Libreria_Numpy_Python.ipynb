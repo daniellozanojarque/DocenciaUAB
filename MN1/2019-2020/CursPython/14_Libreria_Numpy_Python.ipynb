{
  "nbformat": 4,
  "nbformat_minor": 0,
  "metadata": {
    "colab": {
      "name": "14_Libreria_Numpy_Python.ipynb",
      "provenance": [],
      "collapsed_sections": [],
      "authorship_tag": "ABX9TyNcKrQM0SaYtC2IvjIYuZdE",
      "include_colab_link": true
    },
    "kernelspec": {
      "name": "python3",
      "display_name": "Python 3"
    }
  },
  "cells": [
    {
      "cell_type": "markdown",
      "metadata": {
        "id": "view-in-github",
        "colab_type": "text"
      },
      "source": [
        "<a href=\"https://colab.research.google.com/github/joseflix/DocenciaUAB/blob/master/MN1/2019-2020/CursPython/14_Libreria_Numpy_Python.ipynb\" target=\"_parent\"><img src=\"https://colab.research.google.com/assets/colab-badge.svg\" alt=\"Open In Colab\"/></a>"
      ]
    },
    {
      "cell_type": "markdown",
      "metadata": {
        "id": "y2KqnaY72zAk",
        "colab_type": "text"
      },
      "source": [
        "# **Librería Numpy**\n",
        "\n",
        "*NumPy* es una librería de Python (“Numerical Python”), de suma importancia para la computación científica, ya que nos permite generar estructuras de datos, en forma de matrices y matrices multidimensionales, que garantizan cálculos eficientes cuando manipulamos grandes cantidades de datos.\n",
        "\n",
        "NumPy proporciona objetos de matriz que son hasta 50 veces más rápidos que las listas tradicionales de Python, cuando son manipulados. El objeto de matriz en NumPy se llama *ndarray*. La librería proporciona muchas funciones de soporte que hacen que trabajar con ndarray sea realmente muy fácil.\n"
      ]
    },
    {
      "cell_type": "markdown",
      "metadata": {
        "id": "QVxQfKl_4TRV",
        "colab_type": "text"
      },
      "source": [
        "## **Primera toma de contacto con Numpy**\n",
        "\n",
        "Vamos a importar numpy y vamos a crear nuestro primer objeto *ndarray*:"
      ]
    },
    {
      "cell_type": "code",
      "metadata": {
        "id": "RQP6GMc_2Ta1",
        "colab_type": "code",
        "outputId": "fbcc8408-1f96-4ffc-ed51-418490ed05ce",
        "colab": {
          "base_uri": "https://localhost:8080/",
          "height": 50
        }
      },
      "source": [
        "import numpy as np\n",
        "\n",
        "arr = np.array([1, 2, 3, 4, 5])\n",
        "\n",
        "print(arr)\n",
        "print(type(arr)) # vemos que hemos creado un objeto de tipo ndarray"
      ],
      "execution_count": 1,
      "outputs": [
        {
          "output_type": "stream",
          "text": [
            "[1 2 3 4 5]\n",
            "<class 'numpy.ndarray'>\n"
          ],
          "name": "stdout"
        }
      ]
    },
    {
      "cell_type": "markdown",
      "metadata": {
        "id": "vrZJhfjm5GvX",
        "colab_type": "text"
      },
      "source": [
        "Para crear un $ndarray$, podemos pasar una Kista, un Tuple o cualquier objeto tipo matriz al método array(), y se convertirá en un *ndarray*:"
      ]
    },
    {
      "cell_type": "code",
      "metadata": {
        "id": "H3CKDALm5NM9",
        "colab_type": "code",
        "outputId": "167c3448-e4f5-4957-f781-46eab9af555f",
        "colab": {
          "base_uri": "https://localhost:8080/",
          "height": 50
        }
      },
      "source": [
        "arr = np.array((1, 2, 3, 4, 5))\n",
        "\n",
        "print(arr)\n",
        "print(type(arr)) # vemos que hemos creado un objeto de tipo ndarray"
      ],
      "execution_count": 2,
      "outputs": [
        {
          "output_type": "stream",
          "text": [
            "[1 2 3 4 5]\n",
            "<class 'numpy.ndarray'>\n"
          ],
          "name": "stdout"
        }
      ]
    },
    {
      "cell_type": "markdown",
      "metadata": {
        "id": "rNhp70P05XRB",
        "colab_type": "text"
      },
      "source": [
        "Podemos crear arrays de N-dimensiones de forma muy fácil. Veamos:"
      ]
    },
    {
      "cell_type": "code",
      "metadata": {
        "id": "kSqL3y7x5cfC",
        "colab_type": "code",
        "outputId": "b48d2aba-f914-4a6c-912e-298a49ce83b0",
        "colab": {
          "base_uri": "https://localhost:8080/",
          "height": 84
        }
      },
      "source": [
        "# 0-D array:\n",
        "arr0D = np.array(42)\n",
        "print(\"0-D:\", arr0D)\n",
        "\n",
        "# 1-D array:\n",
        "arr1D = np.array([1, 2, 3, 4, 5])\n",
        "print(\"1-D:\", arr1D)\n",
        "\n",
        "# 2-D array:\n",
        "arr2D = np.array([[1, 2, 3], [4, 5, 6]])\n",
        "print(\"2-D:\", arr2D)\n",
        "# Los arrays 2-D pueden ser de NxM dimensiones. "
      ],
      "execution_count": 3,
      "outputs": [
        {
          "output_type": "stream",
          "text": [
            "0-D: 42\n",
            "1-D: [1 2 3 4 5]\n",
            "2-D: [[1 2 3]\n",
            " [4 5 6]]\n"
          ],
          "name": "stdout"
        }
      ]
    },
    {
      "cell_type": "markdown",
      "metadata": {
        "id": "NRQ_CkwGNC05",
        "colab_type": "text"
      },
      "source": [
        "Podemos ver la 'forma' (*shape*) de un array:"
      ]
    },
    {
      "cell_type": "code",
      "metadata": {
        "id": "RQcG_wCsM-zk",
        "colab_type": "code",
        "outputId": "66fab5ac-b5e2-4e61-9582-b58800d6fbf6",
        "colab": {
          "base_uri": "https://localhost:8080/",
          "height": 34
        }
      },
      "source": [
        "b = np.array([[1,2,3],[4,5,6]])    # Crear 2D Numpy Array\n",
        "print(b.shape)                     # Prints \"(2, 3)”, 2D x 3 len "
      ],
      "execution_count": 4,
      "outputs": [
        {
          "output_type": "stream",
          "text": [
            "(2, 3)\n"
          ],
          "name": "stdout"
        }
      ]
    },
    {
      "cell_type": "markdown",
      "metadata": {
        "id": "evj3ALxR6IAN",
        "colab_type": "text"
      },
      "source": [
        "Podemos usar el atributo *ndim* para conocer la dimensión de cada array:"
      ]
    },
    {
      "cell_type": "code",
      "metadata": {
        "id": "5N9dL3JU6PPY",
        "colab_type": "code",
        "outputId": "0fa7f6a1-ef52-40df-d632-897c0b130789",
        "colab": {
          "base_uri": "https://localhost:8080/",
          "height": 118
        }
      },
      "source": [
        "print(arr0D.ndim)\n",
        "print(arr1D.ndim)\n",
        "print(arr2D.ndim)\n",
        "\n",
        "# También podemos fijar las dimensiones al crear un array:\n",
        "arr = np.array([1, 2, 3, 4], ndmin=5)\n",
        "print(arr)\n",
        "print('number of dimensions :', arr.ndim)\n",
        "print('shape:', arr.shape)"
      ],
      "execution_count": 5,
      "outputs": [
        {
          "output_type": "stream",
          "text": [
            "0\n",
            "1\n",
            "2\n",
            "[[[[[1 2 3 4]]]]]\n",
            "number of dimensions : 5\n",
            "shape: (1, 1, 1, 1, 4)\n"
          ],
          "name": "stdout"
        }
      ]
    },
    {
      "cell_type": "markdown",
      "metadata": {
        "id": "umt7If0mSqvQ",
        "colab_type": "text"
      },
      "source": [
        "En esta matriz *arr*, la dimensión más interna (5a dim) tiene 4 elementos, la 4a dim tiene 1 elemento que es el vector, la 3a dim tiene 1 elemento que es la matriz con el vector, la 2a dim tiene 1 elemento que es una matriz 3D y la 1a dim tiene 1 elemento que es una matriz 4D."
      ]
    },
    {
      "cell_type": "code",
      "metadata": {
        "id": "76dAeegtPAKi",
        "colab_type": "code",
        "outputId": "33c22ac5-c0d6-4a9d-c203-cb000f412cfd",
        "colab": {
          "base_uri": "https://localhost:8080/",
          "height": 34
        }
      },
      "source": [
        "print(arr[0][0][0][0][1]) # Acceso al elemento 1 de la 5a dim..."
      ],
      "execution_count": 6,
      "outputs": [
        {
          "output_type": "stream",
          "text": [
            "2\n"
          ],
          "name": "stdout"
        }
      ]
    },
    {
      "cell_type": "markdown",
      "metadata": {
        "id": "99tKysO57K9T",
        "colab_type": "text"
      },
      "source": [
        "Como accedemos a los elementos del array? Usando índices. Veamos:"
      ]
    },
    {
      "cell_type": "code",
      "metadata": {
        "id": "cin5bHXz7POn",
        "colab_type": "code",
        "outputId": "6741477d-04ed-4705-c043-0443c2f4c5d1",
        "colab": {
          "base_uri": "https://localhost:8080/",
          "height": 101
        }
      },
      "source": [
        "# 1-D array:\n",
        "arr1D = np.array([10, 9, 8, 7, 6])\n",
        "print(\"1-D:\", arr1D)\n",
        "\n",
        "print(\"Primer elemento:\", arr1D[0])\n",
        "print(\"Segundo elemento:\", arr1D[1])\n",
        "print(\"Último elemento:\", arr1D[-1])\n",
        "print(\"Elemento 1 + 2:\", arr1D[0]+arr1D[1])"
      ],
      "execution_count": 7,
      "outputs": [
        {
          "output_type": "stream",
          "text": [
            "1-D: [10  9  8  7  6]\n",
            "Primer elemento: 10\n",
            "Segundo elemento: 9\n",
            "Último elemento: 6\n",
            "Elemento 1 + 2: 19\n"
          ],
          "name": "stdout"
        }
      ]
    },
    {
      "cell_type": "code",
      "metadata": {
        "id": "K5yQWZoDNoiG",
        "colab_type": "code",
        "outputId": "0c53506f-4037-4a04-d2b7-a6118ac7a3ed",
        "colab": {
          "base_uri": "https://localhost:8080/",
          "height": 50
        }
      },
      "source": [
        "b = np.array([[1,2,3],[4,5,6]])    # Crear 2D Numpy Array\n",
        "print(b.shape)                     # Prints \"(2, 3)”, 2D x 3 len \n",
        "print(b[0, 0], b[0, 1], b[1, 0])   # acceso a los elementos de un 2D array"
      ],
      "execution_count": 8,
      "outputs": [
        {
          "output_type": "stream",
          "text": [
            "(2, 3)\n",
            "1 2 4\n"
          ],
          "name": "stdout"
        }
      ]
    },
    {
      "cell_type": "markdown",
      "metadata": {
        "id": "S4gJYjQK7xiu",
        "colab_type": "text"
      },
      "source": [
        "Para acceder a elementos de matrices 2-D podemos usar enteros separados por comas que representan la dimensión y el índice del elemento:"
      ]
    },
    {
      "cell_type": "code",
      "metadata": {
        "id": "0vNKkIaD7zaF",
        "colab_type": "code",
        "outputId": "9ae5e28d-7ca3-40c1-b6e2-f701df66700a",
        "colab": {
          "base_uri": "https://localhost:8080/",
          "height": 50
        }
      },
      "source": [
        "arr = np.array([[1,2,3,4,5], [6,7,8,9,10]])\n",
        "\n",
        "print('Segundo elemento de la primera dimensión: ', arr[0, 1])\n",
        "print('Tercer elemento de la primera dimensión: ', arr[0, 2]) # el ndim no empieza en 0!"
      ],
      "execution_count": 9,
      "outputs": [
        {
          "output_type": "stream",
          "text": [
            "Segundo elemento de la primera dimensión:  2\n",
            "Tercer elemento de la primera dimensión:  3\n"
          ],
          "name": "stdout"
        }
      ]
    },
    {
      "cell_type": "markdown",
      "metadata": {
        "id": "nY0ZVj8F8IPO",
        "colab_type": "text"
      },
      "source": [
        "También podemos acceder a un rango determinado de elementos, o bien alternando elementos. Por ejemplo:"
      ]
    },
    {
      "cell_type": "code",
      "metadata": {
        "id": "Beku4HTF8SSx",
        "colab_type": "code",
        "outputId": "9c2d6650-f88c-4181-d704-7707e6c3d6b8",
        "colab": {
          "base_uri": "https://localhost:8080/",
          "height": 118
        }
      },
      "source": [
        "arr = np.array([1, 2, 3, 4, 5, 6, 7, 8, 9 , 10])\n",
        "\n",
        "print(arr[0:5])\n",
        "print(arr[:5])\n",
        "print(arr[5:])\n",
        "\n",
        "print(arr[0:5:2]) # Esto nos imprime por pantalla los elementos de 0 a 5, en pasos de 2 (steps)\n",
        "print(arr[::2]) # Esto nos imprime por pantalla todos los elementos de arr, en pasos de 2 (steps) - impares\n",
        "print(arr[1::2]) # Esto nos imprime por pantalla todos los elementos de arr, en pasos de 2 (steps) - pares\n",
        "\n",
        "# De una forma similar se pueden acceder a los elementos de arrays multi-dimensionales"
      ],
      "execution_count": 10,
      "outputs": [
        {
          "output_type": "stream",
          "text": [
            "[1 2 3 4 5]\n",
            "[1 2 3 4 5]\n",
            "[ 6  7  8  9 10]\n",
            "[1 3 5]\n",
            "[1 3 5 7 9]\n",
            "[ 2  4  6  8 10]\n"
          ],
          "name": "stdout"
        }
      ]
    },
    {
      "cell_type": "markdown",
      "metadata": {
        "id": "uEJTwN1T9yDK",
        "colab_type": "text"
      },
      "source": [
        "## **Tipos de datos en Numpy**\n",
        "\n",
        "Existen varios tipos de datos en *Numpy*. Se puede ver la lista completa aquí: https://www.w3schools.com/python/numpy_data_types.asp\n",
        "\n",
        "El objeto de matriz de *NumPy* tienen una propiedad llamada *dtype* que devuelve el tipo de datos de la matriz. Veamos un ejemplo:"
      ]
    },
    {
      "cell_type": "code",
      "metadata": {
        "id": "f-By_JsQ_x_P",
        "colab_type": "code",
        "outputId": "266183ef-dfb3-44a3-e508-e92f1ed6dcd2",
        "colab": {
          "base_uri": "https://localhost:8080/",
          "height": 67
        }
      },
      "source": [
        "arr1 = np.array([1, 2, 3, 4])\n",
        "print(arr1.dtype) # Nos devuelve que son enteros (int) con una precisión 64-bits\n",
        "\n",
        "arr2 = np.array([1., 2., 3., 4.])\n",
        "print(arr2.dtype) # Nos devuelve que son de coma flotante (float) con una precisión 64-bits\n",
        "\n",
        "arr3 = np.array(['apple', 'banana', 'cherry'])\n",
        "print(arr3.dtype) # Nos devuelve que son de tipo unicode string"
      ],
      "execution_count": 11,
      "outputs": [
        {
          "output_type": "stream",
          "text": [
            "int64\n",
            "float64\n",
            "<U6\n"
          ],
          "name": "stdout"
        }
      ]
    },
    {
      "cell_type": "markdown",
      "metadata": {
        "id": "UG42iJYhAhnk",
        "colab_type": "text"
      },
      "source": [
        "Podemos generar arrays con un cierto tipo, usando el argumento adicional *dtype*:"
      ]
    },
    {
      "cell_type": "code",
      "metadata": {
        "id": "QYIEMCdsAp_H",
        "colab_type": "code",
        "outputId": "fabdd173-22bf-42b1-d03e-09626509bb90",
        "colab": {
          "base_uri": "https://localhost:8080/",
          "height": 84
        }
      },
      "source": [
        "arr = np.array([\"12c\", 2, 3, 4], dtype='S')\n",
        "print(arr)\n",
        "print(arr.astype('U13')) # Se puede decodificar para evitar obtener la b de byte al hacer print\n",
        "print(np.char.decode(arr)) # idem\n",
        "print(arr[0].dtype)\n",
        "\n",
        "#arr = np.array([1, 2, 3, 4]) # como enteros 4 bytes\n",
        "#print(arr)\n",
        "#print(arr.dtype)"
      ],
      "execution_count": 12,
      "outputs": [
        {
          "output_type": "stream",
          "text": [
            "[b'12c' b'2' b'3' b'4']\n",
            "['12c' '2' '3' '4']\n",
            "['12c' '2' '3' '4']\n",
            "|S3\n"
          ],
          "name": "stdout"
        }
      ]
    },
    {
      "cell_type": "markdown",
      "metadata": {
        "id": "rs67fWI0BI00",
        "colab_type": "text"
      },
      "source": [
        "Hay valores que no pueden ser convertidos, por ejemplo:"
      ]
    },
    {
      "cell_type": "code",
      "metadata": {
        "id": "TKumTXhvBMA7",
        "colab_type": "code",
        "outputId": "43f94d2e-8ed3-4cee-9233-777467a0a45a",
        "colab": {
          "base_uri": "https://localhost:8080/",
          "height": 162
        }
      },
      "source": [
        "arr = np.array(['a', '2', '3'], dtype='i')"
      ],
      "execution_count": 13,
      "outputs": [
        {
          "output_type": "error",
          "ename": "ValueError",
          "evalue": "ignored",
          "traceback": [
            "\u001b[0;31m---------------------------------------------------------------------------\u001b[0m",
            "\u001b[0;31mValueError\u001b[0m                                Traceback (most recent call last)",
            "\u001b[0;32m<ipython-input-13-4101754d9810>\u001b[0m in \u001b[0;36m<module>\u001b[0;34m()\u001b[0m\n\u001b[0;32m----> 1\u001b[0;31m \u001b[0marr\u001b[0m \u001b[0;34m=\u001b[0m \u001b[0mnp\u001b[0m\u001b[0;34m.\u001b[0m\u001b[0marray\u001b[0m\u001b[0;34m(\u001b[0m\u001b[0;34m[\u001b[0m\u001b[0;34m'a'\u001b[0m\u001b[0;34m,\u001b[0m \u001b[0;34m'2'\u001b[0m\u001b[0;34m,\u001b[0m \u001b[0;34m'3'\u001b[0m\u001b[0;34m]\u001b[0m\u001b[0;34m,\u001b[0m \u001b[0mdtype\u001b[0m\u001b[0;34m=\u001b[0m\u001b[0;34m'i'\u001b[0m\u001b[0;34m)\u001b[0m\u001b[0;34m\u001b[0m\u001b[0;34m\u001b[0m\u001b[0m\n\u001b[0m",
            "\u001b[0;31mValueError\u001b[0m: invalid literal for int() with base 10: 'a'"
          ]
        }
      ]
    },
    {
      "cell_type": "markdown",
      "metadata": {
        "id": "yR9dsYwuBaP3",
        "colab_type": "text"
      },
      "source": [
        "También podemos convertir el tipo de datos de un array existente, usando la función *astype()*:"
      ]
    },
    {
      "cell_type": "code",
      "metadata": {
        "id": "s_Wr3mHtBiaQ",
        "colab_type": "code",
        "outputId": "e741dbdd-abd5-4f5d-8fd4-005f237ba1f5",
        "colab": {
          "base_uri": "https://localhost:8080/",
          "height": 202
        }
      },
      "source": [
        "arr = np.array([1.1, 2.1, 3.1])\n",
        "print(arr)\n",
        "print(arr.dtype)\n",
        "\n",
        "newarr = arr.astype('i8')\n",
        "\n",
        "print(newarr)\n",
        "print(newarr.dtype)\n",
        "\n",
        "newarr2 = arr.astype(int)\n",
        "\n",
        "print(newarr2)\n",
        "print(newarr2.dtype)\n",
        "\n",
        "print(\"****************\")\n",
        "\n",
        "arr = np.array([1, 0, 3])\n",
        "print(arr)\n",
        "print(arr.dtype)\n",
        "\n",
        "newarr = arr.astype(bool)\n",
        "\n",
        "print(newarr)\n",
        "print(newarr.dtype)\n"
      ],
      "execution_count": 14,
      "outputs": [
        {
          "output_type": "stream",
          "text": [
            "[1.1 2.1 3.1]\n",
            "float64\n",
            "[1 2 3]\n",
            "int64\n",
            "[1 2 3]\n",
            "int64\n",
            "****************\n",
            "[1 0 3]\n",
            "int64\n",
            "[ True False  True]\n",
            "bool\n"
          ],
          "name": "stdout"
        }
      ]
    },
    {
      "cell_type": "markdown",
      "metadata": {
        "id": "hUtTS099g47E",
        "colab_type": "text"
      },
      "source": [
        "Numpy permite crear arrays con una dimensión concreta, valores por defecto, etc... se puede consultar la documentación: https://docs.scipy.org/doc/numpy/reference/routines.array-creation.html"
      ]
    },
    {
      "cell_type": "markdown",
      "metadata": {
        "id": "grKuHgRuESAw",
        "colab_type": "text"
      },
      "source": [
        "## **Iteración sobre arrays de Numpy**\n",
        "\n",
        "Podemos iterar sobre arrays de Numpy. Veamos algunos ejemplos:"
      ]
    },
    {
      "cell_type": "code",
      "metadata": {
        "id": "kyZDFcfIEjeU",
        "colab_type": "code",
        "outputId": "1a69957d-47f6-4489-807b-f3eefd30be27",
        "colab": {
          "base_uri": "https://localhost:8080/",
          "height": 235
        }
      },
      "source": [
        "# 1-D array\n",
        "\n",
        "arr = np.array([1, 2, 3])\n",
        "\n",
        "for x in arr:\n",
        "  print(x)\n",
        "\n",
        "print(\"****************\")\n",
        "\n",
        "# 2-D array\n",
        "arr2 = np.array([[1, 2, 3], [4, 5, 6]])\n",
        "\n",
        "for x in arr2:\n",
        "  print(x) # Esto lo que hace es imprimir los dos arrays, uno para cada dimensión\n",
        "\n",
        "print(\"****************\")\n",
        "\n",
        "#Ahora bien, y si queremos acceder a los elementos? Se hace así:\n",
        "for x in arr2: # Van a ser 2 iteraciones, que nos da 2 arrays de las dos dimensiones\n",
        "  for y in x: # aquí accedemos a cada elemento de cada array\n",
        "    print(y)"
      ],
      "execution_count": 15,
      "outputs": [
        {
          "output_type": "stream",
          "text": [
            "1\n",
            "2\n",
            "3\n",
            "****************\n",
            "[1 2 3]\n",
            "[4 5 6]\n",
            "****************\n",
            "1\n",
            "2\n",
            "3\n",
            "4\n",
            "5\n",
            "6\n"
          ],
          "name": "stdout"
        }
      ]
    },
    {
      "cell_type": "markdown",
      "metadata": {
        "id": "w9u0crKIFbWh",
        "colab_type": "text"
      },
      "source": [
        "También se puede usar las funciones *nditer()* o *ndenumerate()*, se puede ver como se usan aquí: https://www.w3schools.com/python/numpy_array_iterating.asp"
      ]
    },
    {
      "cell_type": "markdown",
      "metadata": {
        "id": "tbNHcspjF0YE",
        "colab_type": "text"
      },
      "source": [
        "## **Ordenando elementos en el array**\n",
        "\n",
        "A veces es útil ordenar los elementos de un array Numpy, por ejemplo si queremos hacer una iteración en orden creciente sobre los elementos... Se puede usar la función *sort()*:"
      ]
    },
    {
      "cell_type": "code",
      "metadata": {
        "id": "B_Fue7AoGClD",
        "colab_type": "code",
        "outputId": "ef7fcc67-f9c9-4a82-88d8-f042ee508d71",
        "colab": {
          "base_uri": "https://localhost:8080/",
          "height": 101
        }
      },
      "source": [
        "arr = np.array([3, 2, 0, 1])\n",
        "print(np.sort(arr))\n",
        "\n",
        "print(\"****************\")\n",
        "\n",
        "arr = np.array(['banana', 'cherry', 'apple'])\n",
        "print(np.sort(arr))\n",
        "\n",
        "print(\"****************\")\n",
        "\n",
        "arr = np.array([True, False, True])\n",
        "print(np.sort(arr))"
      ],
      "execution_count": 16,
      "outputs": [
        {
          "output_type": "stream",
          "text": [
            "[0 1 2 3]\n",
            "****************\n",
            "['apple' 'banana' 'cherry']\n",
            "****************\n",
            "[False  True  True]\n"
          ],
          "name": "stdout"
        }
      ]
    },
    {
      "cell_type": "markdown",
      "metadata": {
        "id": "uTOOCnurGTAm",
        "colab_type": "text"
      },
      "source": [
        "## **Filtrar en arrays**\n",
        "\n",
        "A veces es interesante filtrar y quedarse con algunos de los elementos de un array de Numpy que satisfacen una condición. Esto se puede hacer de forma fácil usando un array de Booleans que nos va a filtrar los elementos: solo aquellos que sean True van a ser devueltos. Veamos:"
      ]
    },
    {
      "cell_type": "code",
      "metadata": {
        "id": "O2TXyBdPGeZD",
        "colab_type": "code",
        "outputId": "09741ad0-3b98-43c2-bbb9-114944ce3a69",
        "colab": {
          "base_uri": "https://localhost:8080/",
          "height": 118
        }
      },
      "source": [
        "arr = np.array([41, 42, 43, 44])\n",
        "print(len(arr)) # Tiene 4 elementos\n",
        "\n",
        "print(\"****************\")\n",
        "\n",
        "x = [True, False, True, False] # Creamos una lista Boolean que tenga el mismo número de elementos que el array que queremos filtrar\n",
        "print(len(arr)) # Tiene 4 elementos\n",
        "\n",
        "print(\"****************\")\n",
        "\n",
        "newarr = arr[x]\n",
        "print(newarr)\n",
        "print(len(newarr)) # Tiene 2 elementos, los que satisfacen la condición"
      ],
      "execution_count": 17,
      "outputs": [
        {
          "output_type": "stream",
          "text": [
            "4\n",
            "****************\n",
            "4\n",
            "****************\n",
            "[41 43]\n",
            "2\n"
          ],
          "name": "stdout"
        }
      ]
    },
    {
      "cell_type": "markdown",
      "metadata": {
        "id": "LD5o-GzxHTYr",
        "colab_type": "text"
      },
      "source": [
        "También podemos crear nuestro filtro personalizado, por ejemplo filtrar todos los elementos que sean $>42$. Esto lo podemos hacer un poco a 'lo bruto' de esta manera:"
      ]
    },
    {
      "cell_type": "code",
      "metadata": {
        "id": "IcIThyOGHr2v",
        "colab_type": "code",
        "outputId": "915d5099-ea8b-4a22-83ba-90e871a01b1e",
        "colab": {
          "base_uri": "https://localhost:8080/",
          "height": 50
        }
      },
      "source": [
        "arr = np.array([41, 42, 43, 44])\n",
        "\n",
        "# Creamos una lista vacía que la iremos llenando de Booleans\n",
        "filter_arr = []\n",
        "\n",
        "# iteramos sobre los elementos del array\n",
        "for element in arr:\n",
        "  # Si el elemento es mayor que 42, fijamos el valor del filtro a True, si no se fija a False:\n",
        "  if element > 42:\n",
        "    filter_arr.append(True)\n",
        "  else:\n",
        "    filter_arr.append(False)\n",
        "\n",
        "newarr = arr[filter_arr]\n",
        "\n",
        "print(filter_arr)\n",
        "print(newarr)"
      ],
      "execution_count": 18,
      "outputs": [
        {
          "output_type": "stream",
          "text": [
            "[False, False, True, True]\n",
            "[43 44]\n"
          ],
          "name": "stdout"
        }
      ]
    },
    {
      "cell_type": "markdown",
      "metadata": {
        "id": "I4VYWSsUICbV",
        "colab_type": "text"
      },
      "source": [
        "Pero una cosa muy interesante y que se usa mucho, es hacerlo de la forma **más compacta**:"
      ]
    },
    {
      "cell_type": "code",
      "metadata": {
        "id": "_-hhIsSZIGs1",
        "colab_type": "code",
        "outputId": "60243a39-b47d-4fba-dbf6-7495d040075c",
        "colab": {
          "base_uri": "https://localhost:8080/",
          "height": 50
        }
      },
      "source": [
        "arr = np.array([41, 42, 43, 44])\n",
        "\n",
        "filter_arr = arr > 42 # Esta es la forma compacta. Preguntamos directamente al array sobre una condición, y nos devuelve una lista de Booleans, que es nuestro filtro\n",
        "\n",
        "newarr = arr[filter_arr]\n",
        "\n",
        "print(filter_arr)\n",
        "print(newarr)"
      ],
      "execution_count": 19,
      "outputs": [
        {
          "output_type": "stream",
          "text": [
            "[False False  True  True]\n",
            "[43 44]\n"
          ],
          "name": "stdout"
        }
      ]
    },
    {
      "cell_type": "markdown",
      "metadata": {
        "id": "Mmqr6RY0MUKy",
        "colab_type": "text"
      },
      "source": [
        "## **Funciones de interés en Numpy**\n",
        "\n",
        "Toda la documentación de Numpy se encuentra en https://numpy.org/. Evidentemente, definir arrays multidimensionales quiere decir crear matrices, y Numpy permite manipular estos objetos y proveer de todas las operaciones que se realizan con matrices. \n",
        "\n",
        "Pero, además, tiene una colección de funciones implementadas que son muy útiles y que usaremos en el curso. Por ejemplo, podemos calcular algunos valores estadísticos de un conjunto de datos:"
      ]
    },
    {
      "cell_type": "code",
      "metadata": {
        "id": "-13NNPVWQ9Ry",
        "colab_type": "code",
        "outputId": "9446c194-a5c8-4296-8a25-76822c9cf89a",
        "colab": {
          "base_uri": "https://localhost:8080/",
          "height": 134
        }
      },
      "source": [
        "x = np.array([1, 2, 3, 1])\n",
        "print(x.mean())\n",
        "print(x.std())\n",
        "print(x.std(ddof=1)) # usa N-1 como denominador\n",
        "print(np.median(x))\n",
        "\n",
        "# También podemos ver longitud, máx, min, de un array:\n",
        "\n",
        "print(len(x))\n",
        "print(min(x),x.min())\n",
        "print(max(x),x.max())"
      ],
      "execution_count": 20,
      "outputs": [
        {
          "output_type": "stream",
          "text": [
            "1.75\n",
            "0.82915619758885\n",
            "0.9574271077563381\n",
            "1.5\n",
            "4\n",
            "1 1\n",
            "3 3\n"
          ],
          "name": "stdout"
        }
      ]
    },
    {
      "cell_type": "markdown",
      "metadata": {
        "id": "_spwTHBTd1up",
        "colab_type": "text"
      },
      "source": [
        "También tenemos algunas funciones para crear arrays de forma concreta, por ejemplo, datos distribuidos de forma uniforme en un intervalo, etc... \n",
        "\n",
        "Vamos a ver como crear valores de x distribuidos de forma uniforme entre -$\\pi$  i $\\pi$:"
      ]
    },
    {
      "cell_type": "code",
      "metadata": {
        "id": "s7qnGBWoePvr",
        "colab_type": "code",
        "outputId": "dbfc9065-cc97-489d-fdd0-80ee4cefb0ca",
        "colab": {
          "base_uri": "https://localhost:8080/",
          "height": 403
        }
      },
      "source": [
        "# Por una parte, Numpy tiene el número pi de forma integrada:\n",
        "\n",
        "print(np.pi)\n",
        "\n",
        "# La función arange devuelve un array entre dos valores, usando un paso concreto. En este caso de 0.1:\n",
        "print(np.arange(-np.pi,np.pi,0.1))\n",
        "\n",
        "print(\"****************\")\n",
        "\n",
        "# Si nos fijamos bien, el último punto no tiene porque coincidir con pi... ya que si el salto de 0.1 hace que no lleguemos a ese número... \n",
        "# ... si queremos que los límites estén incluidos es mejor usar la función linspace\n",
        "\n",
        "print(np.linspace(-np.pi,np.pi,50))\n",
        "print(len(np.linspace(-np.pi,np.pi,50)))\n",
        "\n",
        "# linspace nos genera 50 puntos entre [-pi,pi]"
      ],
      "execution_count": 21,
      "outputs": [
        {
          "output_type": "stream",
          "text": [
            "3.141592653589793\n",
            "[-3.14159265 -3.04159265 -2.94159265 -2.84159265 -2.74159265 -2.64159265\n",
            " -2.54159265 -2.44159265 -2.34159265 -2.24159265 -2.14159265 -2.04159265\n",
            " -1.94159265 -1.84159265 -1.74159265 -1.64159265 -1.54159265 -1.44159265\n",
            " -1.34159265 -1.24159265 -1.14159265 -1.04159265 -0.94159265 -0.84159265\n",
            " -0.74159265 -0.64159265 -0.54159265 -0.44159265 -0.34159265 -0.24159265\n",
            " -0.14159265 -0.04159265  0.05840735  0.15840735  0.25840735  0.35840735\n",
            "  0.45840735  0.55840735  0.65840735  0.75840735  0.85840735  0.95840735\n",
            "  1.05840735  1.15840735  1.25840735  1.35840735  1.45840735  1.55840735\n",
            "  1.65840735  1.75840735  1.85840735  1.95840735  2.05840735  2.15840735\n",
            "  2.25840735  2.35840735  2.45840735  2.55840735  2.65840735  2.75840735\n",
            "  2.85840735  2.95840735  3.05840735]\n",
            "****************\n",
            "[-3.14159265 -3.01336438 -2.88513611 -2.75690784 -2.62867957 -2.5004513\n",
            " -2.37222302 -2.24399475 -2.11576648 -1.98753821 -1.85930994 -1.73108167\n",
            " -1.60285339 -1.47462512 -1.34639685 -1.21816858 -1.08994031 -0.96171204\n",
            " -0.83348377 -0.70525549 -0.57702722 -0.44879895 -0.32057068 -0.19234241\n",
            " -0.06411414  0.06411414  0.19234241  0.32057068  0.44879895  0.57702722\n",
            "  0.70525549  0.83348377  0.96171204  1.08994031  1.21816858  1.34639685\n",
            "  1.47462512  1.60285339  1.73108167  1.85930994  1.98753821  2.11576648\n",
            "  2.24399475  2.37222302  2.5004513   2.62867957  2.75690784  2.88513611\n",
            "  3.01336438  3.14159265]\n",
            "50\n"
          ],
          "name": "stdout"
        }
      ]
    },
    {
      "cell_type": "markdown",
      "metadata": {
        "id": "uyXksRrDfRBv",
        "colab_type": "text"
      },
      "source": [
        "Numpy también incluye funciones trigonométricas, veamos:"
      ]
    },
    {
      "cell_type": "code",
      "metadata": {
        "id": "1Ys6nBd9fnHW",
        "colab_type": "code",
        "outputId": "0bdec1ce-0003-48eb-b113-4b6c4900d80a",
        "colab": {
          "base_uri": "https://localhost:8080/",
          "height": 420
        }
      },
      "source": [
        "print(np.sin(0))\n",
        "print(np.sin(np.pi/2))\n",
        "\n",
        "# Imagina que quieres hacer una gráfica de puntos sin(x), entre -pi y pi... Generar los puntos x e y es tan fácil como:\n",
        "\n",
        "x = np.linspace(-np.pi,np.pi,50)\n",
        "y = np.sin(x) # Recuerda que una función puede aceptar una lista, y te devuelve una lista evaluada para todos los elementos de la lista\n",
        "\n",
        "print(x)\n",
        "print(y)"
      ],
      "execution_count": 22,
      "outputs": [
        {
          "output_type": "stream",
          "text": [
            "0.0\n",
            "1.0\n",
            "[-3.14159265 -3.01336438 -2.88513611 -2.75690784 -2.62867957 -2.5004513\n",
            " -2.37222302 -2.24399475 -2.11576648 -1.98753821 -1.85930994 -1.73108167\n",
            " -1.60285339 -1.47462512 -1.34639685 -1.21816858 -1.08994031 -0.96171204\n",
            " -0.83348377 -0.70525549 -0.57702722 -0.44879895 -0.32057068 -0.19234241\n",
            " -0.06411414  0.06411414  0.19234241  0.32057068  0.44879895  0.57702722\n",
            "  0.70525549  0.83348377  0.96171204  1.08994031  1.21816858  1.34639685\n",
            "  1.47462512  1.60285339  1.73108167  1.85930994  1.98753821  2.11576648\n",
            "  2.24399475  2.37222302  2.5004513   2.62867957  2.75690784  2.88513611\n",
            "  3.01336438  3.14159265]\n",
            "[-1.22464680e-16 -1.27877162e-01 -2.53654584e-01 -3.75267005e-01\n",
            " -4.90717552e-01 -5.98110530e-01 -6.95682551e-01 -7.81831482e-01\n",
            " -8.55142763e-01 -9.14412623e-01 -9.58667853e-01 -9.87181783e-01\n",
            " -9.99486216e-01 -9.95379113e-01 -9.74927912e-01 -9.38468422e-01\n",
            " -8.86599306e-01 -8.20172255e-01 -7.40277997e-01 -6.48228395e-01\n",
            " -5.45534901e-01 -4.33883739e-01 -3.15108218e-01 -1.91158629e-01\n",
            " -6.40702200e-02  6.40702200e-02  1.91158629e-01  3.15108218e-01\n",
            "  4.33883739e-01  5.45534901e-01  6.48228395e-01  7.40277997e-01\n",
            "  8.20172255e-01  8.86599306e-01  9.38468422e-01  9.74927912e-01\n",
            "  9.95379113e-01  9.99486216e-01  9.87181783e-01  9.58667853e-01\n",
            "  9.14412623e-01  8.55142763e-01  7.81831482e-01  6.95682551e-01\n",
            "  5.98110530e-01  4.90717552e-01  3.75267005e-01  2.53654584e-01\n",
            "  1.27877162e-01  1.22464680e-16]\n"
          ],
          "name": "stdout"
        }
      ]
    },
    {
      "cell_type": "markdown",
      "metadata": {
        "id": "wAYuEkMtgvvF",
        "colab_type": "text"
      },
      "source": [
        "Todas las funciones matemáticas se pueden consultar en: https://docs.scipy.org/doc/numpy/reference/routines.math.html\n"
      ]
    },
    {
      "cell_type": "markdown",
      "metadata": {
        "id": "ndVCoAk1iM2J",
        "colab_type": "text"
      },
      "source": [
        "## **Generación de números aleatorios con Numpy**\n",
        "\n",
        "Numpy tiene la capacidad de generar números aleatorios, de forma uniforme en un rango, que nos va a ser muy útil en el curso, o bien que sigan una distribución determinada. \n",
        "\n",
        "La documentación de lo que se puede hacer está disponible aquí:\n",
        "\n",
        "https://docs.scipy.org/doc/numpy/reference/random/generator.html\n",
        "\n",
        "Veamos un ejemplo sencillo, vamos a generar 10 números aleatorios entre 0 y 1, que sigan una distribución uniforme:"
      ]
    },
    {
      "cell_type": "code",
      "metadata": {
        "id": "hwzJOQdkjQ5O",
        "colab_type": "code",
        "outputId": "5dd68e43-6566-42c0-f5f5-a0f6cadc24ce",
        "colab": {
          "base_uri": "https://localhost:8080/",
          "height": 84
        }
      },
      "source": [
        "print(\"1: \", np.random.uniform(0,1,10))\n",
        "\n",
        "# Si volvemos a llamar a la función, nos va a devolver 10 números aleatorios completamente diferentes:\n",
        "\n",
        "print(\"2: \", np.random.uniform(0,1,10))"
      ],
      "execution_count": 23,
      "outputs": [
        {
          "output_type": "stream",
          "text": [
            "1:  [0.50858804 0.23286336 0.32844351 0.62836737 0.41973458 0.19432904\n",
            " 0.24041486 0.87876199 0.64927478 0.3304836 ]\n",
            "2:  [0.28190982 0.33028283 0.10949891 0.95767079 0.32645915 0.48068503\n",
            " 0.38216114 0.5044388  0.19377325 0.03068054]\n"
          ],
          "name": "stdout"
        }
      ]
    },
    {
      "cell_type": "markdown",
      "metadata": {
        "id": "lCpGxsSdj7cI",
        "colab_type": "text"
      },
      "source": [
        "Nos fijamos que si llamamos dos veces a la misma función, nos devuelve una lista de números diferentes. Esto es porque no hemos fijado la semilla inicial (seed). Podemos fijarla, de manera que la colección de números aleatorios siempre seguirá el mismo orden, esto es importante porque a veces queremos que nuestro programa o cálculo sea reproducible:"
      ]
    },
    {
      "cell_type": "code",
      "metadata": {
        "id": "l8h-f3y8kVqO",
        "colab_type": "code",
        "outputId": "327b0656-263a-4217-fc23-b987dcbd4c72",
        "colab": {
          "base_uri": "https://localhost:8080/",
          "height": 151
        }
      },
      "source": [
        "np.random.seed(1) # cualquier valor que sea un int. Esto fija el seed\n",
        "print(\"1: \", np.random.uniform(0,1,10))\n",
        "\n",
        "# Si volvemos a llamar a la función, nos va a devolver 10 números aleatorios completamente diferentes:\n",
        "\n",
        "np.random.seed(1) # cualquier valor que sea un int. Esto fija el seed\n",
        "print(\"2: \", np.random.uniform(0,1,10))\n",
        "\n",
        "# Si ahora no fijamos el seed y volvemos a llamar a la función random.uniform va a coger un valor aleatorio de seed:\n",
        "\n",
        "print(\"3: \", np.random.uniform(0,1,10))"
      ],
      "execution_count": 24,
      "outputs": [
        {
          "output_type": "stream",
          "text": [
            "1:  [4.17022005e-01 7.20324493e-01 1.14374817e-04 3.02332573e-01\n",
            " 1.46755891e-01 9.23385948e-02 1.86260211e-01 3.45560727e-01\n",
            " 3.96767474e-01 5.38816734e-01]\n",
            "2:  [4.17022005e-01 7.20324493e-01 1.14374817e-04 3.02332573e-01\n",
            " 1.46755891e-01 9.23385948e-02 1.86260211e-01 3.45560727e-01\n",
            " 3.96767474e-01 5.38816734e-01]\n",
            "3:  [0.41919451 0.6852195  0.20445225 0.87811744 0.02738759 0.67046751\n",
            " 0.4173048  0.55868983 0.14038694 0.19810149]\n"
          ],
          "name": "stdout"
        }
      ]
    },
    {
      "cell_type": "markdown",
      "metadata": {
        "id": "phtbCEZNacUw",
        "colab_type": "text"
      },
      "source": [
        "También existe la librería random (https://docs.python.org/3/library/random.html), pero muchas de esas funcionalidades ya están implementadas en Numpy."
      ]
    }
  ]
}