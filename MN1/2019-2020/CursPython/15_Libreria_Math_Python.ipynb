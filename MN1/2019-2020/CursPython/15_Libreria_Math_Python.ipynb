{
  "nbformat": 4,
  "nbformat_minor": 0,
  "metadata": {
    "colab": {
      "name": "15_Libreria_Math_Python.ipynb",
      "provenance": [],
      "collapsed_sections": [],
      "authorship_tag": "ABX9TyNcPQmMvVauGcyqgcncpHKR",
      "include_colab_link": true
    },
    "kernelspec": {
      "name": "python3",
      "display_name": "Python 3"
    }
  },
  "cells": [
    {
      "cell_type": "markdown",
      "metadata": {
        "id": "view-in-github",
        "colab_type": "text"
      },
      "source": [
        "<a href=\"https://colab.research.google.com/github/joseflix/DocenciaUAB/blob/master/MN1/2019-2020/CursPython/15_Libreria_Math_Python.ipynb\" target=\"_parent\"><img src=\"https://colab.research.google.com/assets/colab-badge.svg\" alt=\"Open In Colab\"/></a>"
      ]
    },
    {
      "cell_type": "markdown",
      "metadata": {
        "id": "xcID4J8Rb0mx",
        "colab_type": "text"
      },
      "source": [
        "# **La librería Math**\n",
        "\n",
        "Este módulo o librería proporciona acceso a las funciones matemáticas definidas por el estándar C, es decir, que si las utilizamos van a ser ejecutadas de forma rápida.\n",
        "\n",
        "Podemos ver todas las funciones disponibles aquí: https://docs.python.org/3/library/math.html. Vamos a ver algunos ejemplos. \n",
        "\n",
        "Podemos importar, o bien funciones o bien números (estilo pi, e, etc...) de esta manera:"
      ]
    },
    {
      "cell_type": "code",
      "metadata": {
        "id": "nc5BjE5zbw36",
        "colab_type": "code",
        "colab": {
          "base_uri": "https://localhost:8080/",
          "height": 52
        },
        "outputId": "4d73a3da-4395-4c81-9fae-285fe0ace63c"
      },
      "source": [
        "from math import sqrt, pi\n",
        "\n",
        "print(pi)\n",
        "print(sqrt(5))"
      ],
      "execution_count": 1,
      "outputs": [
        {
          "output_type": "stream",
          "text": [
            "3.141592653589793\n",
            "2.23606797749979\n"
          ],
          "name": "stdout"
        }
      ]
    },
    {
      "cell_type": "markdown",
      "metadata": {
        "id": "MMRPb5pPcY-L",
        "colab_type": "text"
      },
      "source": [
        "Recordad que también tenemos *Numpy* y que esta funcionalidad también se puede obtener de allí, pero si vamos a usar muchas veces alguna variable determinada, o alguna función determinada la librería *math* es de mucha utilidad. En *Numpy* esto se haría de esta manera:"
      ]
    },
    {
      "cell_type": "code",
      "metadata": {
        "id": "upEQgvEgcsaw",
        "colab_type": "code",
        "colab": {
          "base_uri": "https://localhost:8080/",
          "height": 52
        },
        "outputId": "a32a9e1e-0256-45e2-909d-b9b006016087"
      },
      "source": [
        "import numpy as np\n",
        "\n",
        "print(np.pi)\n",
        "print(np.sqrt(5))"
      ],
      "execution_count": 4,
      "outputs": [
        {
          "output_type": "stream",
          "text": [
            "3.141592653589793\n",
            "2.23606797749979\n"
          ],
          "name": "stdout"
        }
      ]
    },
    {
      "cell_type": "markdown",
      "metadata": {
        "id": "O2WHEAOMeM38",
        "colab_type": "text"
      },
      "source": [
        "Vamos a ver algunas de las funciones de math que son útiles:"
      ]
    },
    {
      "cell_type": "code",
      "metadata": {
        "id": "lMebaWOMehmQ",
        "colab_type": "code",
        "colab": {
          "base_uri": "https://localhost:8080/",
          "height": 138
        },
        "outputId": "55070f98-fd4e-4323-d9e3-44449cfd9097"
      },
      "source": [
        "import math as mt\n",
        "\n",
        "print(mt.fabs(-1.5)) # valor absoluto de un valor x, retornado como float\n",
        "print(mt.isnan(1.4)) # retorna un boolean si un valor es un numero o no (NaN = Not A Number)\n",
        "print(mt.isnan(mt.nan)) # retorna un boolean si un valor es un numero o no (NaN = Not A Number)\n",
        "print(mt.exp(2)) # retorna e^2\n",
        "print(mt.log(mt.e)) # retorna ln(x)\n",
        "print(mt.log10(100)) # retorna log_10(x), en base 10\n",
        "print(mt.pow(10, 3)) # retorna x^y"
      ],
      "execution_count": 24,
      "outputs": [
        {
          "output_type": "stream",
          "text": [
            "1.5\n",
            "False\n",
            "True\n",
            "7.38905609893065\n",
            "1.0\n",
            "2.0\n",
            "1000.0\n"
          ],
          "name": "stdout"
        }
      ]
    },
    {
      "cell_type": "markdown",
      "metadata": {
        "id": "CVS_fLKBcrsT",
        "colab_type": "text"
      },
      "source": [
        "Math tiene funciones trigonométricas e hiperbólicas, y funciones especiales como ErrorFunction, la complementária, o la función Gamma, etc...\n",
        "\n",
        "Además, provee de varias constantes, como pi, e, tau, etc... "
      ]
    }
  ]
}