{
  "nbformat": 4,
  "nbformat_minor": 0,
  "metadata": {
    "colab": {
      "name": "18_Libreria_Pandas_Python.ipynb",
      "provenance": [],
      "collapsed_sections": [],
      "authorship_tag": "ABX9TyO6lcIJ+BHR9a6kqetDEsLV",
      "include_colab_link": true
    },
    "kernelspec": {
      "name": "python3",
      "display_name": "Python 3"
    }
  },
  "cells": [
    {
      "cell_type": "markdown",
      "metadata": {
        "id": "view-in-github",
        "colab_type": "text"
      },
      "source": [
        "<a href=\"https://colab.research.google.com/github/joseflix/DocenciaUAB/blob/master/MN1/2019-2020/CursPython/18_Libreria_Pandas_Python.ipynb\" target=\"_parent\"><img src=\"https://colab.research.google.com/assets/colab-badge.svg\" alt=\"Open In Colab\"/></a>"
      ]
    },
    {
      "cell_type": "markdown",
      "metadata": {
        "id": "Bx1krhzyZXPi",
        "colab_type": "text"
      },
      "source": [
        "# **Librería Pandas**\n",
        "\n",
        "*Pandas* es una librería de Python que proporciona estructuras de datos rápidas y flexibles diseñadas para facilitar el trabajo con datos \"relacionales\" o \"etiquetados\", de forma muy intuitiva. Es una de las herramientas de análisis y manipulación de datos de código abierto más potente y flexible disponible en Python.\n",
        "\n",
        "*Pandas* es muy adecuado para muchos tipos diferentes de datos:\n",
        "\n",
        "* Datos tabulares con columnas y files, como una tabla SQL u hoja de cálculo Excel\n",
        "\n",
        "* Datos de series de tiempo ordenados y no ordenados (no necesariamente de frecuencia fija).\n",
        "\n",
        "* Datos de matriz arbitraria (de tipo homogéneo o heterogéneo) con etiquetas de fila y columna\n",
        "\n",
        "* Cualquier otra forma de conjuntos de datos observacionales / estadísticos. En realidad, no es necesario etiquetar los datos para colocarlos en una estructura de datos de pandas\n",
        "\n",
        "Existen dos estructuras de datos primarias en *Pandas*: **Series** (1-dimensional) y **DataFrame** (2-dimensional). *Pandas* está construido sobre la librería de Python *NumPy*, y los cálculos son realmente rápidos.\n",
        "\n",
        "En *Pandas* es muy fácil insertar/eliminar columnas de un *DataFrame*, añadir etiquetas y alinear por etiquetas, ordenar por fila o tipo de dato, transformar datos, hacer selecciones de datos (subconjuntos), exportar/importar datos (formatos csv, por ejemplo, y muchos otros), etc...\n",
        "\n",
        "La documentación de *Pandas* se encuentra en: https://pandas.pydata.org/"
      ]
    },
    {
      "cell_type": "markdown",
      "metadata": {
        "id": "kVx7Ju7Eg8PN",
        "colab_type": "text"
      },
      "source": [
        "# **Series**\n",
        "\n",
        "Vamos a importar *Pandas* y generar una *Serie* para manipularla: "
      ]
    },
    {
      "cell_type": "code",
      "metadata": {
        "id": "MoHA2lFcZT_3",
        "colab_type": "code",
        "outputId": "35fef4d7-bf43-4c1b-a342-722ff4e143a2",
        "colab": {
          "base_uri": "https://localhost:8080/",
          "height": 155
        }
      },
      "source": [
        "import numpy as np\n",
        "import pandas as pd\n",
        "\n",
        "s = pd.Series([1, 3, 5, np.nan, 6, 8])\n",
        "\n",
        "print(s)\n",
        "s.dtypes\n",
        "\n",
        "s.count()\n"
      ],
      "execution_count": 0,
      "outputs": [
        {
          "output_type": "stream",
          "text": [
            "0    1.0\n",
            "1    3.0\n",
            "2    5.0\n",
            "3    NaN\n",
            "4    6.0\n",
            "5    8.0\n",
            "dtype: float64\n"
          ],
          "name": "stdout"
        },
        {
          "output_type": "execute_result",
          "data": {
            "text/plain": [
              "5"
            ]
          },
          "metadata": {
            "tags": []
          },
          "execution_count": 72
        }
      ]
    },
    {
      "cell_type": "markdown",
      "metadata": {
        "id": "tAlgWMeXh5by",
        "colab_type": "text"
      },
      "source": [
        "Hemos creado una *Serie* de números en *Pandas*, que son de tipo float64. Cada número tiene asignado un índice, de 0 a 5.\n",
        "\n",
        "Podemos cambiar los índices y darles un identificador:"
      ]
    },
    {
      "cell_type": "code",
      "metadata": {
        "id": "nNmcKW6_jfOT",
        "colab_type": "code",
        "outputId": "ca01a8fd-ad96-44ac-9c60-5f852ee09d7e",
        "colab": {
          "base_uri": "https://localhost:8080/",
          "height": 104
        }
      },
      "source": [
        "b = pd.Series([1, np.nan, 1, np.nan], index=['a', 'b', 'd', 'e'])\n",
        "print(b)"
      ],
      "execution_count": 0,
      "outputs": [
        {
          "output_type": "stream",
          "text": [
            "a    1.0\n",
            "b    NaN\n",
            "d    1.0\n",
            "e    NaN\n",
            "dtype: float64\n"
          ],
          "name": "stdout"
        }
      ]
    },
    {
      "cell_type": "markdown",
      "metadata": {
        "id": "EJlvM8jukA-O",
        "colab_type": "text"
      },
      "source": [
        "Tenemos diferentes funciones que pueden ser aplicadas a una *Serie*. Veamos *cov* que nos calcula la covariancia entre dos listas de elementos:"
      ]
    },
    {
      "cell_type": "code",
      "metadata": {
        "id": "NvdOVm9tkGMk",
        "colab_type": "code",
        "outputId": "51bc0e8c-3a3a-422a-9802-9b67f9124a53",
        "colab": {
          "base_uri": "https://localhost:8080/",
          "height": 35
        }
      },
      "source": [
        "s1 = pd.Series([0.90010907, 0.13484424, 0.62036035])\n",
        "s2 = pd.Series([0.12528585, 0.26962463, 0.51111198])\n",
        "print(s1.cov(s2))"
      ],
      "execution_count": 0,
      "outputs": [
        {
          "output_type": "stream",
          "text": [
            "-0.01685762652715874\n"
          ],
          "name": "stdout"
        }
      ]
    },
    {
      "cell_type": "markdown",
      "metadata": {
        "id": "q1idcaLekTQ-",
        "colab_type": "text"
      },
      "source": [
        "# **DataFrames**\n",
        "\n",
        "Vamos ahora a crear un *DataFrame* pasando una matriz *NumPy*, con un índice de fecha y hora y columnas etiquetadas:"
      ]
    },
    {
      "cell_type": "code",
      "metadata": {
        "id": "77-Qe_sck1xl",
        "colab_type": "code",
        "outputId": "edfd691a-5146-4908-aebc-81d1a20e1b56",
        "colab": {
          "base_uri": "https://localhost:8080/",
          "height": 242
        }
      },
      "source": [
        "dates = pd.date_range('20130101', periods=6) # Fija la fecha inicial y nos hace un rango creciente de 6 días.\n",
        "print(dates)\n",
        "\n",
        "print(\"\\n**************\\n\")\n",
        "\n",
        "df = pd.DataFrame(np.random.randn(6, 4), index=dates, columns=list('ABCD')) # Creamos un DataFrame\n",
        "# np.random.randn(6, 4) nos genera una matriz 6x4 de números aleatorios que siguen una distribución normal m=0, sigma = 1 (https://docs.scipy.org/doc/numpy-1.15.1/reference/generated/numpy.random.randn.html)\n",
        "# Los índices fijamos que sean las fechas que hemos creado antes\n",
        "# A cada columna le damos un tag \"A, B, C, D\"\n",
        "print(df)"
      ],
      "execution_count": 0,
      "outputs": [
        {
          "output_type": "stream",
          "text": [
            "DatetimeIndex(['2013-01-01', '2013-01-02', '2013-01-03', '2013-01-04',\n",
            "               '2013-01-05', '2013-01-06'],\n",
            "              dtype='datetime64[ns]', freq='D')\n",
            "\n",
            "**************\n",
            "\n",
            "                   A         B         C         D\n",
            "2013-01-01 -0.643726  0.156248 -1.311014  0.772711\n",
            "2013-01-02 -1.493739 -0.040198  0.018233 -0.141422\n",
            "2013-01-03 -0.112212  1.324594  0.496449 -0.556671\n",
            "2013-01-04  1.294945 -0.152485 -1.289036  0.928768\n",
            "2013-01-05  1.689409 -0.734930 -0.206794 -0.024526\n",
            "2013-01-06  0.127879  0.683692  0.777480 -1.841733\n"
          ],
          "name": "stdout"
        }
      ]
    },
    {
      "cell_type": "markdown",
      "metadata": {
        "id": "dk4QgFLumNiB",
        "colab_type": "text"
      },
      "source": [
        "**Visualización**\n",
        "\n",
        "Vamos a ver algunas funciones que podemos aplicar a un *DataFrame* para visualizar sus contenidos. Esto es importante, por ejemplo, cuando importamos valores desde un fichero csv (Excel):"
      ]
    },
    {
      "cell_type": "code",
      "metadata": {
        "id": "DTGwcraBmaUf",
        "colab_type": "code",
        "outputId": "2d343d52-9435-45e6-e706-da94925452c1",
        "colab": {
          "base_uri": "https://localhost:8080/",
          "height": 405
        }
      },
      "source": [
        "print(df.head()) # Nos da las primeras 5 filas\n",
        "print(df.tail()) # Nos da las últimas 5 filas\n",
        "\n",
        "# Sin usar la función print, los DataFrames se pueden visualizar muy bien en el Notebook\n",
        "\n",
        "df.head()"
      ],
      "execution_count": 0,
      "outputs": [
        {
          "output_type": "stream",
          "text": [
            "                   A         B         C         D\n",
            "2013-01-01 -0.643726  0.156248 -1.311014  0.772711\n",
            "2013-01-02 -1.493739 -0.040198  0.018233 -0.141422\n",
            "2013-01-03 -0.112212  1.324594  0.496449 -0.556671\n",
            "2013-01-04  1.294945 -0.152485 -1.289036  0.928768\n",
            "2013-01-05  1.689409 -0.734930 -0.206794 -0.024526\n",
            "                   A         B         C         D\n",
            "2013-01-02 -1.493739 -0.040198  0.018233 -0.141422\n",
            "2013-01-03 -0.112212  1.324594  0.496449 -0.556671\n",
            "2013-01-04  1.294945 -0.152485 -1.289036  0.928768\n",
            "2013-01-05  1.689409 -0.734930 -0.206794 -0.024526\n",
            "2013-01-06  0.127879  0.683692  0.777480 -1.841733\n"
          ],
          "name": "stdout"
        },
        {
          "output_type": "execute_result",
          "data": {
            "text/html": [
              "<div>\n",
              "<style scoped>\n",
              "    .dataframe tbody tr th:only-of-type {\n",
              "        vertical-align: middle;\n",
              "    }\n",
              "\n",
              "    .dataframe tbody tr th {\n",
              "        vertical-align: top;\n",
              "    }\n",
              "\n",
              "    .dataframe thead th {\n",
              "        text-align: right;\n",
              "    }\n",
              "</style>\n",
              "<table border=\"1\" class=\"dataframe\">\n",
              "  <thead>\n",
              "    <tr style=\"text-align: right;\">\n",
              "      <th></th>\n",
              "      <th>A</th>\n",
              "      <th>B</th>\n",
              "      <th>C</th>\n",
              "      <th>D</th>\n",
              "    </tr>\n",
              "  </thead>\n",
              "  <tbody>\n",
              "    <tr>\n",
              "      <th>2013-01-01</th>\n",
              "      <td>-0.643726</td>\n",
              "      <td>0.156248</td>\n",
              "      <td>-1.311014</td>\n",
              "      <td>0.772711</td>\n",
              "    </tr>\n",
              "    <tr>\n",
              "      <th>2013-01-02</th>\n",
              "      <td>-1.493739</td>\n",
              "      <td>-0.040198</td>\n",
              "      <td>0.018233</td>\n",
              "      <td>-0.141422</td>\n",
              "    </tr>\n",
              "    <tr>\n",
              "      <th>2013-01-03</th>\n",
              "      <td>-0.112212</td>\n",
              "      <td>1.324594</td>\n",
              "      <td>0.496449</td>\n",
              "      <td>-0.556671</td>\n",
              "    </tr>\n",
              "    <tr>\n",
              "      <th>2013-01-04</th>\n",
              "      <td>1.294945</td>\n",
              "      <td>-0.152485</td>\n",
              "      <td>-1.289036</td>\n",
              "      <td>0.928768</td>\n",
              "    </tr>\n",
              "    <tr>\n",
              "      <th>2013-01-05</th>\n",
              "      <td>1.689409</td>\n",
              "      <td>-0.734930</td>\n",
              "      <td>-0.206794</td>\n",
              "      <td>-0.024526</td>\n",
              "    </tr>\n",
              "  </tbody>\n",
              "</table>\n",
              "</div>"
            ],
            "text/plain": [
              "                   A         B         C         D\n",
              "2013-01-01 -0.643726  0.156248 -1.311014  0.772711\n",
              "2013-01-02 -1.493739 -0.040198  0.018233 -0.141422\n",
              "2013-01-03 -0.112212  1.324594  0.496449 -0.556671\n",
              "2013-01-04  1.294945 -0.152485 -1.289036  0.928768\n",
              "2013-01-05  1.689409 -0.734930 -0.206794 -0.024526"
            ]
          },
          "metadata": {
            "tags": []
          },
          "execution_count": 76
        }
      ]
    },
    {
      "cell_type": "code",
      "metadata": {
        "id": "q7HOGg50nJ7D",
        "colab_type": "code",
        "outputId": "2503c671-2ffe-4782-b5e4-01f9990cfd83",
        "colab": {
          "base_uri": "https://localhost:8080/",
          "height": 86
        }
      },
      "source": [
        "# También podemos ver cuantas columnas tenemos, y los índices\n",
        "\n",
        "print(df.columns)\n",
        "print(df.index)"
      ],
      "execution_count": 0,
      "outputs": [
        {
          "output_type": "stream",
          "text": [
            "Index(['A', 'B', 'C', 'D'], dtype='object')\n",
            "DatetimeIndex(['2013-01-01', '2013-01-02', '2013-01-03', '2013-01-04',\n",
            "               '2013-01-05', '2013-01-06'],\n",
            "              dtype='datetime64[ns]', freq='D')\n"
          ],
          "name": "stdout"
        }
      ]
    },
    {
      "cell_type": "markdown",
      "metadata": {
        "id": "Ne_cJc-onS8g",
        "colab_type": "text"
      },
      "source": [
        "Podemos también obtener información estadística de un set de datos en un *DataFrame* usando la función *describe* o *mean()*:"
      ]
    },
    {
      "cell_type": "code",
      "metadata": {
        "id": "_-7Lytv0ncuW",
        "colab_type": "code",
        "outputId": "69a2a00f-316f-40f2-dc04-5ca575a4b36f",
        "colab": {
          "base_uri": "https://localhost:8080/",
          "height": 288
        }
      },
      "source": [
        "df.describe()"
      ],
      "execution_count": 0,
      "outputs": [
        {
          "output_type": "execute_result",
          "data": {
            "text/html": [
              "<div>\n",
              "<style scoped>\n",
              "    .dataframe tbody tr th:only-of-type {\n",
              "        vertical-align: middle;\n",
              "    }\n",
              "\n",
              "    .dataframe tbody tr th {\n",
              "        vertical-align: top;\n",
              "    }\n",
              "\n",
              "    .dataframe thead th {\n",
              "        text-align: right;\n",
              "    }\n",
              "</style>\n",
              "<table border=\"1\" class=\"dataframe\">\n",
              "  <thead>\n",
              "    <tr style=\"text-align: right;\">\n",
              "      <th></th>\n",
              "      <th>A</th>\n",
              "      <th>B</th>\n",
              "      <th>C</th>\n",
              "      <th>D</th>\n",
              "    </tr>\n",
              "  </thead>\n",
              "  <tbody>\n",
              "    <tr>\n",
              "      <th>count</th>\n",
              "      <td>6.000000</td>\n",
              "      <td>6.000000</td>\n",
              "      <td>6.000000</td>\n",
              "      <td>6.000000</td>\n",
              "    </tr>\n",
              "    <tr>\n",
              "      <th>mean</th>\n",
              "      <td>0.143759</td>\n",
              "      <td>0.206153</td>\n",
              "      <td>-0.252447</td>\n",
              "      <td>-0.143812</td>\n",
              "    </tr>\n",
              "    <tr>\n",
              "      <th>std</th>\n",
              "      <td>1.190090</td>\n",
              "      <td>0.715037</td>\n",
              "      <td>0.882273</td>\n",
              "      <td>1.005790</td>\n",
              "    </tr>\n",
              "    <tr>\n",
              "      <th>min</th>\n",
              "      <td>-1.493739</td>\n",
              "      <td>-0.734930</td>\n",
              "      <td>-1.311014</td>\n",
              "      <td>-1.841733</td>\n",
              "    </tr>\n",
              "    <tr>\n",
              "      <th>25%</th>\n",
              "      <td>-0.510847</td>\n",
              "      <td>-0.124413</td>\n",
              "      <td>-1.018475</td>\n",
              "      <td>-0.452859</td>\n",
              "    </tr>\n",
              "    <tr>\n",
              "      <th>50%</th>\n",
              "      <td>0.007833</td>\n",
              "      <td>0.058025</td>\n",
              "      <td>-0.094280</td>\n",
              "      <td>-0.082974</td>\n",
              "    </tr>\n",
              "    <tr>\n",
              "      <th>75%</th>\n",
              "      <td>1.003178</td>\n",
              "      <td>0.551831</td>\n",
              "      <td>0.376895</td>\n",
              "      <td>0.573401</td>\n",
              "    </tr>\n",
              "    <tr>\n",
              "      <th>max</th>\n",
              "      <td>1.689409</td>\n",
              "      <td>1.324594</td>\n",
              "      <td>0.777480</td>\n",
              "      <td>0.928768</td>\n",
              "    </tr>\n",
              "  </tbody>\n",
              "</table>\n",
              "</div>"
            ],
            "text/plain": [
              "              A         B         C         D\n",
              "count  6.000000  6.000000  6.000000  6.000000\n",
              "mean   0.143759  0.206153 -0.252447 -0.143812\n",
              "std    1.190090  0.715037  0.882273  1.005790\n",
              "min   -1.493739 -0.734930 -1.311014 -1.841733\n",
              "25%   -0.510847 -0.124413 -1.018475 -0.452859\n",
              "50%    0.007833  0.058025 -0.094280 -0.082974\n",
              "75%    1.003178  0.551831  0.376895  0.573401\n",
              "max    1.689409  1.324594  0.777480  0.928768"
            ]
          },
          "metadata": {
            "tags": []
          },
          "execution_count": 78
        }
      ]
    },
    {
      "cell_type": "code",
      "metadata": {
        "id": "_nNic9Yp0BRr",
        "colab_type": "code",
        "outputId": "1e05db6e-6714-40f1-8eec-ac984dbb3c6b",
        "colab": {
          "base_uri": "https://localhost:8080/",
          "height": 104
        }
      },
      "source": [
        "df.mean()"
      ],
      "execution_count": 0,
      "outputs": [
        {
          "output_type": "execute_result",
          "data": {
            "text/plain": [
              "A    0.143759\n",
              "B    0.206153\n",
              "C   -0.252447\n",
              "D   -0.143812\n",
              "dtype: float64"
            ]
          },
          "metadata": {
            "tags": []
          },
          "execution_count": 79
        }
      ]
    },
    {
      "cell_type": "markdown",
      "metadata": {
        "id": "S4nlMHpInb2n",
        "colab_type": "text"
      },
      "source": [
        "También es muy fácil ordenar por índice o por valor de columna. Veamos:"
      ]
    },
    {
      "cell_type": "code",
      "metadata": {
        "id": "p-syzWoBnqay",
        "colab_type": "code",
        "outputId": "14e237c0-324a-4ef1-c80d-60c997438fff",
        "colab": {
          "base_uri": "https://localhost:8080/",
          "height": 228
        }
      },
      "source": [
        "df.sort_index(axis=1, ascending=False)"
      ],
      "execution_count": 0,
      "outputs": [
        {
          "output_type": "execute_result",
          "data": {
            "text/html": [
              "<div>\n",
              "<style scoped>\n",
              "    .dataframe tbody tr th:only-of-type {\n",
              "        vertical-align: middle;\n",
              "    }\n",
              "\n",
              "    .dataframe tbody tr th {\n",
              "        vertical-align: top;\n",
              "    }\n",
              "\n",
              "    .dataframe thead th {\n",
              "        text-align: right;\n",
              "    }\n",
              "</style>\n",
              "<table border=\"1\" class=\"dataframe\">\n",
              "  <thead>\n",
              "    <tr style=\"text-align: right;\">\n",
              "      <th></th>\n",
              "      <th>D</th>\n",
              "      <th>C</th>\n",
              "      <th>B</th>\n",
              "      <th>A</th>\n",
              "    </tr>\n",
              "  </thead>\n",
              "  <tbody>\n",
              "    <tr>\n",
              "      <th>2013-01-01</th>\n",
              "      <td>0.772711</td>\n",
              "      <td>-1.311014</td>\n",
              "      <td>0.156248</td>\n",
              "      <td>-0.643726</td>\n",
              "    </tr>\n",
              "    <tr>\n",
              "      <th>2013-01-02</th>\n",
              "      <td>-0.141422</td>\n",
              "      <td>0.018233</td>\n",
              "      <td>-0.040198</td>\n",
              "      <td>-1.493739</td>\n",
              "    </tr>\n",
              "    <tr>\n",
              "      <th>2013-01-03</th>\n",
              "      <td>-0.556671</td>\n",
              "      <td>0.496449</td>\n",
              "      <td>1.324594</td>\n",
              "      <td>-0.112212</td>\n",
              "    </tr>\n",
              "    <tr>\n",
              "      <th>2013-01-04</th>\n",
              "      <td>0.928768</td>\n",
              "      <td>-1.289036</td>\n",
              "      <td>-0.152485</td>\n",
              "      <td>1.294945</td>\n",
              "    </tr>\n",
              "    <tr>\n",
              "      <th>2013-01-05</th>\n",
              "      <td>-0.024526</td>\n",
              "      <td>-0.206794</td>\n",
              "      <td>-0.734930</td>\n",
              "      <td>1.689409</td>\n",
              "    </tr>\n",
              "    <tr>\n",
              "      <th>2013-01-06</th>\n",
              "      <td>-1.841733</td>\n",
              "      <td>0.777480</td>\n",
              "      <td>0.683692</td>\n",
              "      <td>0.127879</td>\n",
              "    </tr>\n",
              "  </tbody>\n",
              "</table>\n",
              "</div>"
            ],
            "text/plain": [
              "                   D         C         B         A\n",
              "2013-01-01  0.772711 -1.311014  0.156248 -0.643726\n",
              "2013-01-02 -0.141422  0.018233 -0.040198 -1.493739\n",
              "2013-01-03 -0.556671  0.496449  1.324594 -0.112212\n",
              "2013-01-04  0.928768 -1.289036 -0.152485  1.294945\n",
              "2013-01-05 -0.024526 -0.206794 -0.734930  1.689409\n",
              "2013-01-06 -1.841733  0.777480  0.683692  0.127879"
            ]
          },
          "metadata": {
            "tags": []
          },
          "execution_count": 80
        }
      ]
    },
    {
      "cell_type": "code",
      "metadata": {
        "id": "y_BWK8QnnrBp",
        "colab_type": "code",
        "outputId": "27d65369-f9cf-4307-f897-d3734c0be0b3",
        "colab": {
          "base_uri": "https://localhost:8080/",
          "height": 228
        }
      },
      "source": [
        "df.sort_values(by='B')"
      ],
      "execution_count": 0,
      "outputs": [
        {
          "output_type": "execute_result",
          "data": {
            "text/html": [
              "<div>\n",
              "<style scoped>\n",
              "    .dataframe tbody tr th:only-of-type {\n",
              "        vertical-align: middle;\n",
              "    }\n",
              "\n",
              "    .dataframe tbody tr th {\n",
              "        vertical-align: top;\n",
              "    }\n",
              "\n",
              "    .dataframe thead th {\n",
              "        text-align: right;\n",
              "    }\n",
              "</style>\n",
              "<table border=\"1\" class=\"dataframe\">\n",
              "  <thead>\n",
              "    <tr style=\"text-align: right;\">\n",
              "      <th></th>\n",
              "      <th>A</th>\n",
              "      <th>B</th>\n",
              "      <th>C</th>\n",
              "      <th>D</th>\n",
              "    </tr>\n",
              "  </thead>\n",
              "  <tbody>\n",
              "    <tr>\n",
              "      <th>2013-01-05</th>\n",
              "      <td>1.689409</td>\n",
              "      <td>-0.734930</td>\n",
              "      <td>-0.206794</td>\n",
              "      <td>-0.024526</td>\n",
              "    </tr>\n",
              "    <tr>\n",
              "      <th>2013-01-04</th>\n",
              "      <td>1.294945</td>\n",
              "      <td>-0.152485</td>\n",
              "      <td>-1.289036</td>\n",
              "      <td>0.928768</td>\n",
              "    </tr>\n",
              "    <tr>\n",
              "      <th>2013-01-02</th>\n",
              "      <td>-1.493739</td>\n",
              "      <td>-0.040198</td>\n",
              "      <td>0.018233</td>\n",
              "      <td>-0.141422</td>\n",
              "    </tr>\n",
              "    <tr>\n",
              "      <th>2013-01-01</th>\n",
              "      <td>-0.643726</td>\n",
              "      <td>0.156248</td>\n",
              "      <td>-1.311014</td>\n",
              "      <td>0.772711</td>\n",
              "    </tr>\n",
              "    <tr>\n",
              "      <th>2013-01-06</th>\n",
              "      <td>0.127879</td>\n",
              "      <td>0.683692</td>\n",
              "      <td>0.777480</td>\n",
              "      <td>-1.841733</td>\n",
              "    </tr>\n",
              "    <tr>\n",
              "      <th>2013-01-03</th>\n",
              "      <td>-0.112212</td>\n",
              "      <td>1.324594</td>\n",
              "      <td>0.496449</td>\n",
              "      <td>-0.556671</td>\n",
              "    </tr>\n",
              "  </tbody>\n",
              "</table>\n",
              "</div>"
            ],
            "text/plain": [
              "                   A         B         C         D\n",
              "2013-01-05  1.689409 -0.734930 -0.206794 -0.024526\n",
              "2013-01-04  1.294945 -0.152485 -1.289036  0.928768\n",
              "2013-01-02 -1.493739 -0.040198  0.018233 -0.141422\n",
              "2013-01-01 -0.643726  0.156248 -1.311014  0.772711\n",
              "2013-01-06  0.127879  0.683692  0.777480 -1.841733\n",
              "2013-01-03 -0.112212  1.324594  0.496449 -0.556671"
            ]
          },
          "metadata": {
            "tags": []
          },
          "execution_count": 81
        }
      ]
    },
    {
      "cell_type": "markdown",
      "metadata": {
        "id": "QqM6f2_Bn7-n",
        "colab_type": "text"
      },
      "source": [
        "**Filtrado de valores**\n",
        "\n",
        "Vamos a ver como filtramos un *DataFrame* para seleccionar un cierto tipo de datos.\n",
        "\n",
        "Seleccionamos una columna concreta de esta manera:"
      ]
    },
    {
      "cell_type": "code",
      "metadata": {
        "id": "0OLnP8u7oLAL",
        "colab_type": "code",
        "outputId": "8babb871-766e-45fc-9f4d-2ac257d43621",
        "colab": {
          "base_uri": "https://localhost:8080/",
          "height": 138
        }
      },
      "source": [
        "df['A']"
      ],
      "execution_count": 0,
      "outputs": [
        {
          "output_type": "execute_result",
          "data": {
            "text/plain": [
              "2013-01-01   -0.643726\n",
              "2013-01-02   -1.493739\n",
              "2013-01-03   -0.112212\n",
              "2013-01-04    1.294945\n",
              "2013-01-05    1.689409\n",
              "2013-01-06    0.127879\n",
              "Freq: D, Name: A, dtype: float64"
            ]
          },
          "metadata": {
            "tags": []
          },
          "execution_count": 82
        }
      ]
    },
    {
      "cell_type": "markdown",
      "metadata": {
        "id": "__tb6AzuoSzx",
        "colab_type": "text"
      },
      "source": [
        "Podemos seleccionar un número concreto de filas:\n"
      ]
    },
    {
      "cell_type": "code",
      "metadata": {
        "id": "134xaBNwoSoU",
        "colab_type": "code",
        "outputId": "69f4844e-0571-41a2-bd87-4160ba23cca3",
        "colab": {
          "base_uri": "https://localhost:8080/",
          "height": 138
        }
      },
      "source": [
        "df[0:3]"
      ],
      "execution_count": 0,
      "outputs": [
        {
          "output_type": "execute_result",
          "data": {
            "text/html": [
              "<div>\n",
              "<style scoped>\n",
              "    .dataframe tbody tr th:only-of-type {\n",
              "        vertical-align: middle;\n",
              "    }\n",
              "\n",
              "    .dataframe tbody tr th {\n",
              "        vertical-align: top;\n",
              "    }\n",
              "\n",
              "    .dataframe thead th {\n",
              "        text-align: right;\n",
              "    }\n",
              "</style>\n",
              "<table border=\"1\" class=\"dataframe\">\n",
              "  <thead>\n",
              "    <tr style=\"text-align: right;\">\n",
              "      <th></th>\n",
              "      <th>A</th>\n",
              "      <th>B</th>\n",
              "      <th>C</th>\n",
              "      <th>D</th>\n",
              "    </tr>\n",
              "  </thead>\n",
              "  <tbody>\n",
              "    <tr>\n",
              "      <th>2013-01-01</th>\n",
              "      <td>-0.643726</td>\n",
              "      <td>0.156248</td>\n",
              "      <td>-1.311014</td>\n",
              "      <td>0.772711</td>\n",
              "    </tr>\n",
              "    <tr>\n",
              "      <th>2013-01-02</th>\n",
              "      <td>-1.493739</td>\n",
              "      <td>-0.040198</td>\n",
              "      <td>0.018233</td>\n",
              "      <td>-0.141422</td>\n",
              "    </tr>\n",
              "    <tr>\n",
              "      <th>2013-01-03</th>\n",
              "      <td>-0.112212</td>\n",
              "      <td>1.324594</td>\n",
              "      <td>0.496449</td>\n",
              "      <td>-0.556671</td>\n",
              "    </tr>\n",
              "  </tbody>\n",
              "</table>\n",
              "</div>"
            ],
            "text/plain": [
              "                   A         B         C         D\n",
              "2013-01-01 -0.643726  0.156248 -1.311014  0.772711\n",
              "2013-01-02 -1.493739 -0.040198  0.018233 -0.141422\n",
              "2013-01-03 -0.112212  1.324594  0.496449 -0.556671"
            ]
          },
          "metadata": {
            "tags": []
          },
          "execution_count": 83
        }
      ]
    },
    {
      "cell_type": "markdown",
      "metadata": {
        "id": "pJYVGZ6hohN9",
        "colab_type": "text"
      },
      "source": [
        "También podemos seleccionar datos de un *DataFrame* usando etiquetas. Veamos:"
      ]
    },
    {
      "cell_type": "code",
      "metadata": {
        "id": "vCcUGA3Kom4h",
        "colab_type": "code",
        "outputId": "685a409a-20d0-4c4f-ec7c-792c130d2b50",
        "colab": {
          "base_uri": "https://localhost:8080/",
          "height": 104
        }
      },
      "source": [
        "df.loc[dates[0]] # Nos selecciona los valores de una fecha concreta"
      ],
      "execution_count": 0,
      "outputs": [
        {
          "output_type": "execute_result",
          "data": {
            "text/plain": [
              "A   -0.643726\n",
              "B    0.156248\n",
              "C   -1.311014\n",
              "D    0.772711\n",
              "Name: 2013-01-01 00:00:00, dtype: float64"
            ]
          },
          "metadata": {
            "tags": []
          },
          "execution_count": 84
        }
      ]
    },
    {
      "cell_type": "code",
      "metadata": {
        "id": "9VUyHrxXovQD",
        "colab_type": "code",
        "outputId": "edfb9aca-6620-459a-f412-729f73cd8b21",
        "colab": {
          "base_uri": "https://localhost:8080/",
          "height": 228
        }
      },
      "source": [
        "df.loc[:, ['A', 'B']] # Nos selecciona los valores de 'A' y 'B' para todas las fechas"
      ],
      "execution_count": 0,
      "outputs": [
        {
          "output_type": "execute_result",
          "data": {
            "text/html": [
              "<div>\n",
              "<style scoped>\n",
              "    .dataframe tbody tr th:only-of-type {\n",
              "        vertical-align: middle;\n",
              "    }\n",
              "\n",
              "    .dataframe tbody tr th {\n",
              "        vertical-align: top;\n",
              "    }\n",
              "\n",
              "    .dataframe thead th {\n",
              "        text-align: right;\n",
              "    }\n",
              "</style>\n",
              "<table border=\"1\" class=\"dataframe\">\n",
              "  <thead>\n",
              "    <tr style=\"text-align: right;\">\n",
              "      <th></th>\n",
              "      <th>A</th>\n",
              "      <th>B</th>\n",
              "    </tr>\n",
              "  </thead>\n",
              "  <tbody>\n",
              "    <tr>\n",
              "      <th>2013-01-01</th>\n",
              "      <td>-0.643726</td>\n",
              "      <td>0.156248</td>\n",
              "    </tr>\n",
              "    <tr>\n",
              "      <th>2013-01-02</th>\n",
              "      <td>-1.493739</td>\n",
              "      <td>-0.040198</td>\n",
              "    </tr>\n",
              "    <tr>\n",
              "      <th>2013-01-03</th>\n",
              "      <td>-0.112212</td>\n",
              "      <td>1.324594</td>\n",
              "    </tr>\n",
              "    <tr>\n",
              "      <th>2013-01-04</th>\n",
              "      <td>1.294945</td>\n",
              "      <td>-0.152485</td>\n",
              "    </tr>\n",
              "    <tr>\n",
              "      <th>2013-01-05</th>\n",
              "      <td>1.689409</td>\n",
              "      <td>-0.734930</td>\n",
              "    </tr>\n",
              "    <tr>\n",
              "      <th>2013-01-06</th>\n",
              "      <td>0.127879</td>\n",
              "      <td>0.683692</td>\n",
              "    </tr>\n",
              "  </tbody>\n",
              "</table>\n",
              "</div>"
            ],
            "text/plain": [
              "                   A         B\n",
              "2013-01-01 -0.643726  0.156248\n",
              "2013-01-02 -1.493739 -0.040198\n",
              "2013-01-03 -0.112212  1.324594\n",
              "2013-01-04  1.294945 -0.152485\n",
              "2013-01-05  1.689409 -0.734930\n",
              "2013-01-06  0.127879  0.683692"
            ]
          },
          "metadata": {
            "tags": []
          },
          "execution_count": 85
        }
      ]
    },
    {
      "cell_type": "code",
      "metadata": {
        "id": "AwxY_nZ7o2Jd",
        "colab_type": "code",
        "outputId": "037f99ff-f9ee-46ef-86a2-62126f1e980c",
        "colab": {
          "base_uri": "https://localhost:8080/",
          "height": 138
        }
      },
      "source": [
        "df.loc['20130102':'20130104', ['A', 'B']] # Nos selecciona los valores de 'A' y 'B' para un intervalo de fechas"
      ],
      "execution_count": 0,
      "outputs": [
        {
          "output_type": "execute_result",
          "data": {
            "text/html": [
              "<div>\n",
              "<style scoped>\n",
              "    .dataframe tbody tr th:only-of-type {\n",
              "        vertical-align: middle;\n",
              "    }\n",
              "\n",
              "    .dataframe tbody tr th {\n",
              "        vertical-align: top;\n",
              "    }\n",
              "\n",
              "    .dataframe thead th {\n",
              "        text-align: right;\n",
              "    }\n",
              "</style>\n",
              "<table border=\"1\" class=\"dataframe\">\n",
              "  <thead>\n",
              "    <tr style=\"text-align: right;\">\n",
              "      <th></th>\n",
              "      <th>A</th>\n",
              "      <th>B</th>\n",
              "    </tr>\n",
              "  </thead>\n",
              "  <tbody>\n",
              "    <tr>\n",
              "      <th>2013-01-02</th>\n",
              "      <td>-1.493739</td>\n",
              "      <td>-0.040198</td>\n",
              "    </tr>\n",
              "    <tr>\n",
              "      <th>2013-01-03</th>\n",
              "      <td>-0.112212</td>\n",
              "      <td>1.324594</td>\n",
              "    </tr>\n",
              "    <tr>\n",
              "      <th>2013-01-04</th>\n",
              "      <td>1.294945</td>\n",
              "      <td>-0.152485</td>\n",
              "    </tr>\n",
              "  </tbody>\n",
              "</table>\n",
              "</div>"
            ],
            "text/plain": [
              "                   A         B\n",
              "2013-01-02 -1.493739 -0.040198\n",
              "2013-01-03 -0.112212  1.324594\n",
              "2013-01-04  1.294945 -0.152485"
            ]
          },
          "metadata": {
            "tags": []
          },
          "execution_count": 86
        }
      ]
    },
    {
      "cell_type": "code",
      "metadata": {
        "id": "MLmD6vU9o-11",
        "colab_type": "code",
        "outputId": "3e7a9c8e-65f5-4b68-9786-ff9acc14928d",
        "colab": {
          "base_uri": "https://localhost:8080/",
          "height": 69
        }
      },
      "source": [
        "df.loc['20130102', ['A', 'B']] # Nos selecciona los valores de 'A' y 'B' para una fecha concreta"
      ],
      "execution_count": 0,
      "outputs": [
        {
          "output_type": "execute_result",
          "data": {
            "text/plain": [
              "A   -1.493739\n",
              "B   -0.040198\n",
              "Name: 2013-01-02 00:00:00, dtype: float64"
            ]
          },
          "metadata": {
            "tags": []
          },
          "execution_count": 87
        }
      ]
    },
    {
      "cell_type": "code",
      "metadata": {
        "id": "f-DBELMPpHhK",
        "colab_type": "code",
        "outputId": "be0c4100-2b63-4982-c352-ad50c3884d46",
        "colab": {
          "base_uri": "https://localhost:8080/",
          "height": 52
        }
      },
      "source": [
        "print(df.loc[dates[0], 'A']) # Nos devuelve el valor que corresponde a 'A' y una fecha concreta\n",
        "print(df.at[dates[0], 'A']) # Lo mismo, pero esta función es más rápida, sobretodo cuando se manipulan DataFrames grandes"
      ],
      "execution_count": 0,
      "outputs": [
        {
          "output_type": "stream",
          "text": [
            "-0.6437258904716875\n",
            "-0.6437258904716875\n"
          ],
          "name": "stdout"
        }
      ]
    },
    {
      "cell_type": "markdown",
      "metadata": {
        "id": "gHK-GastpvIY",
        "colab_type": "text"
      },
      "source": [
        "También se puede seleccionar por posición, sin usar los valores o índices, con la función *iloc*. Veamos un par de ejemplos:"
      ]
    },
    {
      "cell_type": "code",
      "metadata": {
        "id": "X6juLCNep6Sn",
        "colab_type": "code",
        "outputId": "94cf474c-c6ea-45b3-aff8-890faef5b15e",
        "colab": {
          "base_uri": "https://localhost:8080/",
          "height": 104
        }
      },
      "source": [
        "df.iloc[3]"
      ],
      "execution_count": 0,
      "outputs": [
        {
          "output_type": "execute_result",
          "data": {
            "text/plain": [
              "A    1.294945\n",
              "B   -0.152485\n",
              "C   -1.289036\n",
              "D    0.928768\n",
              "Name: 2013-01-04 00:00:00, dtype: float64"
            ]
          },
          "metadata": {
            "tags": []
          },
          "execution_count": 89
        }
      ]
    },
    {
      "cell_type": "code",
      "metadata": {
        "id": "qpOrcAH7p78b",
        "colab_type": "code",
        "outputId": "9f832d38-2df8-4b7c-fb41-c037ab0b27b5",
        "colab": {
          "base_uri": "https://localhost:8080/",
          "height": 108
        }
      },
      "source": [
        "df.iloc[3:5, 0:2]"
      ],
      "execution_count": 0,
      "outputs": [
        {
          "output_type": "execute_result",
          "data": {
            "text/html": [
              "<div>\n",
              "<style scoped>\n",
              "    .dataframe tbody tr th:only-of-type {\n",
              "        vertical-align: middle;\n",
              "    }\n",
              "\n",
              "    .dataframe tbody tr th {\n",
              "        vertical-align: top;\n",
              "    }\n",
              "\n",
              "    .dataframe thead th {\n",
              "        text-align: right;\n",
              "    }\n",
              "</style>\n",
              "<table border=\"1\" class=\"dataframe\">\n",
              "  <thead>\n",
              "    <tr style=\"text-align: right;\">\n",
              "      <th></th>\n",
              "      <th>A</th>\n",
              "      <th>B</th>\n",
              "    </tr>\n",
              "  </thead>\n",
              "  <tbody>\n",
              "    <tr>\n",
              "      <th>2013-01-04</th>\n",
              "      <td>1.294945</td>\n",
              "      <td>-0.152485</td>\n",
              "    </tr>\n",
              "    <tr>\n",
              "      <th>2013-01-05</th>\n",
              "      <td>1.689409</td>\n",
              "      <td>-0.734930</td>\n",
              "    </tr>\n",
              "  </tbody>\n",
              "</table>\n",
              "</div>"
            ],
            "text/plain": [
              "                   A         B\n",
              "2013-01-04  1.294945 -0.152485\n",
              "2013-01-05  1.689409 -0.734930"
            ]
          },
          "metadata": {
            "tags": []
          },
          "execution_count": 90
        }
      ]
    },
    {
      "cell_type": "markdown",
      "metadata": {
        "id": "-ncAfAr0qUIz",
        "colab_type": "text"
      },
      "source": [
        "También podemos usar condiciones para filtrar valores. Por ejemplo:"
      ]
    },
    {
      "cell_type": "code",
      "metadata": {
        "id": "Lip32fW0qX-u",
        "colab_type": "code",
        "outputId": "a6f2be4c-b888-40fb-f849-45ad52043e3c",
        "colab": {
          "base_uri": "https://localhost:8080/",
          "height": 138
        }
      },
      "source": [
        "df[df['A'] > 0] # Devuelve todos los días en los que los valores en 'A' son >0"
      ],
      "execution_count": 0,
      "outputs": [
        {
          "output_type": "execute_result",
          "data": {
            "text/html": [
              "<div>\n",
              "<style scoped>\n",
              "    .dataframe tbody tr th:only-of-type {\n",
              "        vertical-align: middle;\n",
              "    }\n",
              "\n",
              "    .dataframe tbody tr th {\n",
              "        vertical-align: top;\n",
              "    }\n",
              "\n",
              "    .dataframe thead th {\n",
              "        text-align: right;\n",
              "    }\n",
              "</style>\n",
              "<table border=\"1\" class=\"dataframe\">\n",
              "  <thead>\n",
              "    <tr style=\"text-align: right;\">\n",
              "      <th></th>\n",
              "      <th>A</th>\n",
              "      <th>B</th>\n",
              "      <th>C</th>\n",
              "      <th>D</th>\n",
              "    </tr>\n",
              "  </thead>\n",
              "  <tbody>\n",
              "    <tr>\n",
              "      <th>2013-01-04</th>\n",
              "      <td>1.294945</td>\n",
              "      <td>-0.152485</td>\n",
              "      <td>-1.289036</td>\n",
              "      <td>0.928768</td>\n",
              "    </tr>\n",
              "    <tr>\n",
              "      <th>2013-01-05</th>\n",
              "      <td>1.689409</td>\n",
              "      <td>-0.734930</td>\n",
              "      <td>-0.206794</td>\n",
              "      <td>-0.024526</td>\n",
              "    </tr>\n",
              "    <tr>\n",
              "      <th>2013-01-06</th>\n",
              "      <td>0.127879</td>\n",
              "      <td>0.683692</td>\n",
              "      <td>0.777480</td>\n",
              "      <td>-1.841733</td>\n",
              "    </tr>\n",
              "  </tbody>\n",
              "</table>\n",
              "</div>"
            ],
            "text/plain": [
              "                   A         B         C         D\n",
              "2013-01-04  1.294945 -0.152485 -1.289036  0.928768\n",
              "2013-01-05  1.689409 -0.734930 -0.206794 -0.024526\n",
              "2013-01-06  0.127879  0.683692  0.777480 -1.841733"
            ]
          },
          "metadata": {
            "tags": []
          },
          "execution_count": 91
        }
      ]
    },
    {
      "cell_type": "markdown",
      "metadata": {
        "id": "gQL6-xqiqqga",
        "colab_type": "text"
      },
      "source": [
        "También podemos usar la función *isin()*, muy poderosa para filtrar sets de datos:"
      ]
    },
    {
      "cell_type": "code",
      "metadata": {
        "id": "UJvYf9QUqyXB",
        "colab_type": "code",
        "outputId": "2715761d-5a9f-4c8f-ce0c-acc72741bf67",
        "colab": {
          "base_uri": "https://localhost:8080/",
          "height": 229
        }
      },
      "source": [
        "df2 = df.copy()\n",
        "df2['E'] = ['one', 'one', 'two', 'three', 'four', 'three']\n",
        "\n",
        "print(df2)\n",
        "\n",
        "df2[df2['E'].isin(['two', 'four'])]"
      ],
      "execution_count": 0,
      "outputs": [
        {
          "output_type": "stream",
          "text": [
            "                   A         B         C         D      E\n",
            "2013-01-01 -0.643726  0.156248 -1.311014  0.772711    one\n",
            "2013-01-02 -1.493739 -0.040198  0.018233 -0.141422    one\n",
            "2013-01-03 -0.112212  1.324594  0.496449 -0.556671    two\n",
            "2013-01-04  1.294945 -0.152485 -1.289036  0.928768  three\n",
            "2013-01-05  1.689409 -0.734930 -0.206794 -0.024526   four\n",
            "2013-01-06  0.127879  0.683692  0.777480 -1.841733  three\n"
          ],
          "name": "stdout"
        },
        {
          "output_type": "execute_result",
          "data": {
            "text/html": [
              "<div>\n",
              "<style scoped>\n",
              "    .dataframe tbody tr th:only-of-type {\n",
              "        vertical-align: middle;\n",
              "    }\n",
              "\n",
              "    .dataframe tbody tr th {\n",
              "        vertical-align: top;\n",
              "    }\n",
              "\n",
              "    .dataframe thead th {\n",
              "        text-align: right;\n",
              "    }\n",
              "</style>\n",
              "<table border=\"1\" class=\"dataframe\">\n",
              "  <thead>\n",
              "    <tr style=\"text-align: right;\">\n",
              "      <th></th>\n",
              "      <th>A</th>\n",
              "      <th>B</th>\n",
              "      <th>C</th>\n",
              "      <th>D</th>\n",
              "      <th>E</th>\n",
              "    </tr>\n",
              "  </thead>\n",
              "  <tbody>\n",
              "    <tr>\n",
              "      <th>2013-01-03</th>\n",
              "      <td>-0.112212</td>\n",
              "      <td>1.324594</td>\n",
              "      <td>0.496449</td>\n",
              "      <td>-0.556671</td>\n",
              "      <td>two</td>\n",
              "    </tr>\n",
              "    <tr>\n",
              "      <th>2013-01-05</th>\n",
              "      <td>1.689409</td>\n",
              "      <td>-0.734930</td>\n",
              "      <td>-0.206794</td>\n",
              "      <td>-0.024526</td>\n",
              "      <td>four</td>\n",
              "    </tr>\n",
              "  </tbody>\n",
              "</table>\n",
              "</div>"
            ],
            "text/plain": [
              "                   A         B         C         D     E\n",
              "2013-01-03 -0.112212  1.324594  0.496449 -0.556671   two\n",
              "2013-01-05  1.689409 -0.734930 -0.206794 -0.024526  four"
            ]
          },
          "metadata": {
            "tags": []
          },
          "execution_count": 92
        }
      ]
    },
    {
      "cell_type": "markdown",
      "metadata": {
        "id": "EkrSe_YaxD4d",
        "colab_type": "text"
      },
      "source": [
        "**Modificación**\n",
        "\n",
        "Podemos también modificar el contenido de alguno de los valores de un *DataFrame*. "
      ]
    },
    {
      "cell_type": "code",
      "metadata": {
        "id": "N05ZjT3DxMHy",
        "colab_type": "code",
        "outputId": "e1adf67f-edc1-46de-870f-67f9450f180c",
        "colab": {
          "base_uri": "https://localhost:8080/",
          "height": 228
        }
      },
      "source": [
        "df.at[dates[0], 'A'] = 0\n",
        "df"
      ],
      "execution_count": 0,
      "outputs": [
        {
          "output_type": "execute_result",
          "data": {
            "text/html": [
              "<div>\n",
              "<style scoped>\n",
              "    .dataframe tbody tr th:only-of-type {\n",
              "        vertical-align: middle;\n",
              "    }\n",
              "\n",
              "    .dataframe tbody tr th {\n",
              "        vertical-align: top;\n",
              "    }\n",
              "\n",
              "    .dataframe thead th {\n",
              "        text-align: right;\n",
              "    }\n",
              "</style>\n",
              "<table border=\"1\" class=\"dataframe\">\n",
              "  <thead>\n",
              "    <tr style=\"text-align: right;\">\n",
              "      <th></th>\n",
              "      <th>A</th>\n",
              "      <th>B</th>\n",
              "      <th>C</th>\n",
              "      <th>D</th>\n",
              "    </tr>\n",
              "  </thead>\n",
              "  <tbody>\n",
              "    <tr>\n",
              "      <th>2013-01-01</th>\n",
              "      <td>0.000000</td>\n",
              "      <td>0.156248</td>\n",
              "      <td>-1.311014</td>\n",
              "      <td>0.772711</td>\n",
              "    </tr>\n",
              "    <tr>\n",
              "      <th>2013-01-02</th>\n",
              "      <td>-1.493739</td>\n",
              "      <td>-0.040198</td>\n",
              "      <td>0.018233</td>\n",
              "      <td>-0.141422</td>\n",
              "    </tr>\n",
              "    <tr>\n",
              "      <th>2013-01-03</th>\n",
              "      <td>-0.112212</td>\n",
              "      <td>1.324594</td>\n",
              "      <td>0.496449</td>\n",
              "      <td>-0.556671</td>\n",
              "    </tr>\n",
              "    <tr>\n",
              "      <th>2013-01-04</th>\n",
              "      <td>1.294945</td>\n",
              "      <td>-0.152485</td>\n",
              "      <td>-1.289036</td>\n",
              "      <td>0.928768</td>\n",
              "    </tr>\n",
              "    <tr>\n",
              "      <th>2013-01-05</th>\n",
              "      <td>1.689409</td>\n",
              "      <td>-0.734930</td>\n",
              "      <td>-0.206794</td>\n",
              "      <td>-0.024526</td>\n",
              "    </tr>\n",
              "    <tr>\n",
              "      <th>2013-01-06</th>\n",
              "      <td>0.127879</td>\n",
              "      <td>0.683692</td>\n",
              "      <td>0.777480</td>\n",
              "      <td>-1.841733</td>\n",
              "    </tr>\n",
              "  </tbody>\n",
              "</table>\n",
              "</div>"
            ],
            "text/plain": [
              "                   A         B         C         D\n",
              "2013-01-01  0.000000  0.156248 -1.311014  0.772711\n",
              "2013-01-02 -1.493739 -0.040198  0.018233 -0.141422\n",
              "2013-01-03 -0.112212  1.324594  0.496449 -0.556671\n",
              "2013-01-04  1.294945 -0.152485 -1.289036  0.928768\n",
              "2013-01-05  1.689409 -0.734930 -0.206794 -0.024526\n",
              "2013-01-06  0.127879  0.683692  0.777480 -1.841733"
            ]
          },
          "metadata": {
            "tags": []
          },
          "execution_count": 93
        }
      ]
    },
    {
      "cell_type": "markdown",
      "metadata": {
        "id": "vVT-9prLxlGk",
        "colab_type": "text"
      },
      "source": [
        "También se puede hacer por posición:"
      ]
    },
    {
      "cell_type": "code",
      "metadata": {
        "id": "t45513aFxoP3",
        "colab_type": "code",
        "outputId": "e62249c9-6eaf-4ae7-f557-5d3c4d9eacd6",
        "colab": {
          "base_uri": "https://localhost:8080/",
          "height": 228
        }
      },
      "source": [
        "df.iat[0, 1] = 0\n",
        "df"
      ],
      "execution_count": 0,
      "outputs": [
        {
          "output_type": "execute_result",
          "data": {
            "text/html": [
              "<div>\n",
              "<style scoped>\n",
              "    .dataframe tbody tr th:only-of-type {\n",
              "        vertical-align: middle;\n",
              "    }\n",
              "\n",
              "    .dataframe tbody tr th {\n",
              "        vertical-align: top;\n",
              "    }\n",
              "\n",
              "    .dataframe thead th {\n",
              "        text-align: right;\n",
              "    }\n",
              "</style>\n",
              "<table border=\"1\" class=\"dataframe\">\n",
              "  <thead>\n",
              "    <tr style=\"text-align: right;\">\n",
              "      <th></th>\n",
              "      <th>A</th>\n",
              "      <th>B</th>\n",
              "      <th>C</th>\n",
              "      <th>D</th>\n",
              "    </tr>\n",
              "  </thead>\n",
              "  <tbody>\n",
              "    <tr>\n",
              "      <th>2013-01-01</th>\n",
              "      <td>0.000000</td>\n",
              "      <td>0.000000</td>\n",
              "      <td>-1.311014</td>\n",
              "      <td>0.772711</td>\n",
              "    </tr>\n",
              "    <tr>\n",
              "      <th>2013-01-02</th>\n",
              "      <td>-1.493739</td>\n",
              "      <td>-0.040198</td>\n",
              "      <td>0.018233</td>\n",
              "      <td>-0.141422</td>\n",
              "    </tr>\n",
              "    <tr>\n",
              "      <th>2013-01-03</th>\n",
              "      <td>-0.112212</td>\n",
              "      <td>1.324594</td>\n",
              "      <td>0.496449</td>\n",
              "      <td>-0.556671</td>\n",
              "    </tr>\n",
              "    <tr>\n",
              "      <th>2013-01-04</th>\n",
              "      <td>1.294945</td>\n",
              "      <td>-0.152485</td>\n",
              "      <td>-1.289036</td>\n",
              "      <td>0.928768</td>\n",
              "    </tr>\n",
              "    <tr>\n",
              "      <th>2013-01-05</th>\n",
              "      <td>1.689409</td>\n",
              "      <td>-0.734930</td>\n",
              "      <td>-0.206794</td>\n",
              "      <td>-0.024526</td>\n",
              "    </tr>\n",
              "    <tr>\n",
              "      <th>2013-01-06</th>\n",
              "      <td>0.127879</td>\n",
              "      <td>0.683692</td>\n",
              "      <td>0.777480</td>\n",
              "      <td>-1.841733</td>\n",
              "    </tr>\n",
              "  </tbody>\n",
              "</table>\n",
              "</div>"
            ],
            "text/plain": [
              "                   A         B         C         D\n",
              "2013-01-01  0.000000  0.000000 -1.311014  0.772711\n",
              "2013-01-02 -1.493739 -0.040198  0.018233 -0.141422\n",
              "2013-01-03 -0.112212  1.324594  0.496449 -0.556671\n",
              "2013-01-04  1.294945 -0.152485 -1.289036  0.928768\n",
              "2013-01-05  1.689409 -0.734930 -0.206794 -0.024526\n",
              "2013-01-06  0.127879  0.683692  0.777480 -1.841733"
            ]
          },
          "metadata": {
            "tags": []
          },
          "execution_count": 94
        }
      ]
    },
    {
      "cell_type": "markdown",
      "metadata": {
        "id": "H0-bFFyB0LoY",
        "colab_type": "text"
      },
      "source": [
        "**Aplicar funciones**\n",
        "\n",
        "Esto es realmente muy útil para aplicar funciones concretas a los valores de un *DataFrame*\n",
        "\n"
      ]
    },
    {
      "cell_type": "code",
      "metadata": {
        "id": "L0__FK2D0v3h",
        "colab_type": "code",
        "outputId": "14b4d5e2-a411-4cdf-9e31-d7f241a241b6",
        "colab": {
          "base_uri": "https://localhost:8080/",
          "height": 349
        }
      },
      "source": [
        "print(df)\n",
        "df.apply(np.cumsum) # Esto va haciendo una función cumulativa de los datos, día a día en este caso..."
      ],
      "execution_count": 0,
      "outputs": [
        {
          "output_type": "stream",
          "text": [
            "                   A         B         C         D\n",
            "2013-01-01  0.000000  0.000000 -1.311014  0.772711\n",
            "2013-01-02 -1.493739 -0.040198  0.018233 -0.141422\n",
            "2013-01-03 -0.112212  1.324594  0.496449 -0.556671\n",
            "2013-01-04  1.294945 -0.152485 -1.289036  0.928768\n",
            "2013-01-05  1.689409 -0.734930 -0.206794 -0.024526\n",
            "2013-01-06  0.127879  0.683692  0.777480 -1.841733\n"
          ],
          "name": "stdout"
        },
        {
          "output_type": "execute_result",
          "data": {
            "text/html": [
              "<div>\n",
              "<style scoped>\n",
              "    .dataframe tbody tr th:only-of-type {\n",
              "        vertical-align: middle;\n",
              "    }\n",
              "\n",
              "    .dataframe tbody tr th {\n",
              "        vertical-align: top;\n",
              "    }\n",
              "\n",
              "    .dataframe thead th {\n",
              "        text-align: right;\n",
              "    }\n",
              "</style>\n",
              "<table border=\"1\" class=\"dataframe\">\n",
              "  <thead>\n",
              "    <tr style=\"text-align: right;\">\n",
              "      <th></th>\n",
              "      <th>A</th>\n",
              "      <th>B</th>\n",
              "      <th>C</th>\n",
              "      <th>D</th>\n",
              "    </tr>\n",
              "  </thead>\n",
              "  <tbody>\n",
              "    <tr>\n",
              "      <th>2013-01-01</th>\n",
              "      <td>0.000000</td>\n",
              "      <td>0.000000</td>\n",
              "      <td>-1.311014</td>\n",
              "      <td>0.772711</td>\n",
              "    </tr>\n",
              "    <tr>\n",
              "      <th>2013-01-02</th>\n",
              "      <td>-1.493739</td>\n",
              "      <td>-0.040198</td>\n",
              "      <td>-1.292781</td>\n",
              "      <td>0.631289</td>\n",
              "    </tr>\n",
              "    <tr>\n",
              "      <th>2013-01-03</th>\n",
              "      <td>-1.605951</td>\n",
              "      <td>1.284395</td>\n",
              "      <td>-0.796332</td>\n",
              "      <td>0.074618</td>\n",
              "    </tr>\n",
              "    <tr>\n",
              "      <th>2013-01-04</th>\n",
              "      <td>-0.311006</td>\n",
              "      <td>1.131910</td>\n",
              "      <td>-2.085368</td>\n",
              "      <td>1.003386</td>\n",
              "    </tr>\n",
              "    <tr>\n",
              "      <th>2013-01-05</th>\n",
              "      <td>1.378403</td>\n",
              "      <td>0.396981</td>\n",
              "      <td>-2.292161</td>\n",
              "      <td>0.978860</td>\n",
              "    </tr>\n",
              "    <tr>\n",
              "      <th>2013-01-06</th>\n",
              "      <td>1.506282</td>\n",
              "      <td>1.080673</td>\n",
              "      <td>-1.514681</td>\n",
              "      <td>-0.862873</td>\n",
              "    </tr>\n",
              "  </tbody>\n",
              "</table>\n",
              "</div>"
            ],
            "text/plain": [
              "                   A         B         C         D\n",
              "2013-01-01  0.000000  0.000000 -1.311014  0.772711\n",
              "2013-01-02 -1.493739 -0.040198 -1.292781  0.631289\n",
              "2013-01-03 -1.605951  1.284395 -0.796332  0.074618\n",
              "2013-01-04 -0.311006  1.131910 -2.085368  1.003386\n",
              "2013-01-05  1.378403  0.396981 -2.292161  0.978860\n",
              "2013-01-06  1.506282  1.080673 -1.514681 -0.862873"
            ]
          },
          "metadata": {
            "tags": []
          },
          "execution_count": 95
        }
      ]
    },
    {
      "cell_type": "markdown",
      "metadata": {
        "id": "Cb5xvp0t0_3e",
        "colab_type": "text"
      },
      "source": [
        "También podemos usar la función lambda para aplicar la función que queramos:"
      ]
    },
    {
      "cell_type": "code",
      "metadata": {
        "id": "ec4rH9Pe0_Cx",
        "colab_type": "code",
        "outputId": "d3b6122b-8334-42be-c0c0-388763bdc53f",
        "colab": {
          "base_uri": "https://localhost:8080/",
          "height": 104
        }
      },
      "source": [
        "df.apply(lambda x: x.max() - x.min())"
      ],
      "execution_count": 0,
      "outputs": [
        {
          "output_type": "execute_result",
          "data": {
            "text/plain": [
              "A    3.183149\n",
              "B    2.059523\n",
              "C    2.088494\n",
              "D    2.770501\n",
              "dtype: float64"
            ]
          },
          "metadata": {
            "tags": []
          },
          "execution_count": 96
        }
      ]
    },
    {
      "cell_type": "code",
      "metadata": {
        "id": "3Y4TYSx31OcM",
        "colab_type": "code",
        "outputId": "fa815bd9-377a-4279-ef8f-ef8005c7ee01",
        "colab": {
          "base_uri": "https://localhost:8080/",
          "height": 228
        }
      },
      "source": [
        "df.apply(lambda x: np.sin(x))"
      ],
      "execution_count": 0,
      "outputs": [
        {
          "output_type": "execute_result",
          "data": {
            "text/html": [
              "<div>\n",
              "<style scoped>\n",
              "    .dataframe tbody tr th:only-of-type {\n",
              "        vertical-align: middle;\n",
              "    }\n",
              "\n",
              "    .dataframe tbody tr th {\n",
              "        vertical-align: top;\n",
              "    }\n",
              "\n",
              "    .dataframe thead th {\n",
              "        text-align: right;\n",
              "    }\n",
              "</style>\n",
              "<table border=\"1\" class=\"dataframe\">\n",
              "  <thead>\n",
              "    <tr style=\"text-align: right;\">\n",
              "      <th></th>\n",
              "      <th>A</th>\n",
              "      <th>B</th>\n",
              "      <th>C</th>\n",
              "      <th>D</th>\n",
              "    </tr>\n",
              "  </thead>\n",
              "  <tbody>\n",
              "    <tr>\n",
              "      <th>2013-01-01</th>\n",
              "      <td>0.000000</td>\n",
              "      <td>0.000000</td>\n",
              "      <td>-0.966446</td>\n",
              "      <td>0.698079</td>\n",
              "    </tr>\n",
              "    <tr>\n",
              "      <th>2013-01-02</th>\n",
              "      <td>-0.997033</td>\n",
              "      <td>-0.040188</td>\n",
              "      <td>0.018232</td>\n",
              "      <td>-0.140951</td>\n",
              "    </tr>\n",
              "    <tr>\n",
              "      <th>2013-01-03</th>\n",
              "      <td>-0.111976</td>\n",
              "      <td>0.969845</td>\n",
              "      <td>0.476306</td>\n",
              "      <td>-0.528363</td>\n",
              "    </tr>\n",
              "    <tr>\n",
              "      <th>2013-01-04</th>\n",
              "      <td>0.962194</td>\n",
              "      <td>-0.151895</td>\n",
              "      <td>-0.960567</td>\n",
              "      <td>0.800883</td>\n",
              "    </tr>\n",
              "    <tr>\n",
              "      <th>2013-01-05</th>\n",
              "      <td>0.992974</td>\n",
              "      <td>-0.670535</td>\n",
              "      <td>-0.205323</td>\n",
              "      <td>-0.024524</td>\n",
              "    </tr>\n",
              "    <tr>\n",
              "      <th>2013-01-06</th>\n",
              "      <td>0.127531</td>\n",
              "      <td>0.631660</td>\n",
              "      <td>0.701486</td>\n",
              "      <td>-0.963521</td>\n",
              "    </tr>\n",
              "  </tbody>\n",
              "</table>\n",
              "</div>"
            ],
            "text/plain": [
              "                   A         B         C         D\n",
              "2013-01-01  0.000000  0.000000 -0.966446  0.698079\n",
              "2013-01-02 -0.997033 -0.040188  0.018232 -0.140951\n",
              "2013-01-03 -0.111976  0.969845  0.476306 -0.528363\n",
              "2013-01-04  0.962194 -0.151895 -0.960567  0.800883\n",
              "2013-01-05  0.992974 -0.670535 -0.205323 -0.024524\n",
              "2013-01-06  0.127531  0.631660  0.701486 -0.963521"
            ]
          },
          "metadata": {
            "tags": []
          },
          "execution_count": 97
        }
      ]
    },
    {
      "cell_type": "code",
      "metadata": {
        "id": "ghyTzhXu1TdI",
        "colab_type": "code",
        "outputId": "92b8c48c-78c6-46f0-f95d-fcc424cfd008",
        "colab": {
          "base_uri": "https://localhost:8080/",
          "height": 228
        }
      },
      "source": [
        "df.apply(lambda x: x+10.)"
      ],
      "execution_count": 0,
      "outputs": [
        {
          "output_type": "execute_result",
          "data": {
            "text/html": [
              "<div>\n",
              "<style scoped>\n",
              "    .dataframe tbody tr th:only-of-type {\n",
              "        vertical-align: middle;\n",
              "    }\n",
              "\n",
              "    .dataframe tbody tr th {\n",
              "        vertical-align: top;\n",
              "    }\n",
              "\n",
              "    .dataframe thead th {\n",
              "        text-align: right;\n",
              "    }\n",
              "</style>\n",
              "<table border=\"1\" class=\"dataframe\">\n",
              "  <thead>\n",
              "    <tr style=\"text-align: right;\">\n",
              "      <th></th>\n",
              "      <th>A</th>\n",
              "      <th>B</th>\n",
              "      <th>C</th>\n",
              "      <th>D</th>\n",
              "    </tr>\n",
              "  </thead>\n",
              "  <tbody>\n",
              "    <tr>\n",
              "      <th>2013-01-01</th>\n",
              "      <td>10.000000</td>\n",
              "      <td>10.000000</td>\n",
              "      <td>8.688986</td>\n",
              "      <td>10.772711</td>\n",
              "    </tr>\n",
              "    <tr>\n",
              "      <th>2013-01-02</th>\n",
              "      <td>8.506261</td>\n",
              "      <td>9.959802</td>\n",
              "      <td>10.018233</td>\n",
              "      <td>9.858578</td>\n",
              "    </tr>\n",
              "    <tr>\n",
              "      <th>2013-01-03</th>\n",
              "      <td>9.887788</td>\n",
              "      <td>11.324594</td>\n",
              "      <td>10.496449</td>\n",
              "      <td>9.443329</td>\n",
              "    </tr>\n",
              "    <tr>\n",
              "      <th>2013-01-04</th>\n",
              "      <td>11.294945</td>\n",
              "      <td>9.847515</td>\n",
              "      <td>8.710964</td>\n",
              "      <td>10.928768</td>\n",
              "    </tr>\n",
              "    <tr>\n",
              "      <th>2013-01-05</th>\n",
              "      <td>11.689409</td>\n",
              "      <td>9.265070</td>\n",
              "      <td>9.793206</td>\n",
              "      <td>9.975474</td>\n",
              "    </tr>\n",
              "    <tr>\n",
              "      <th>2013-01-06</th>\n",
              "      <td>10.127879</td>\n",
              "      <td>10.683692</td>\n",
              "      <td>10.777480</td>\n",
              "      <td>8.158267</td>\n",
              "    </tr>\n",
              "  </tbody>\n",
              "</table>\n",
              "</div>"
            ],
            "text/plain": [
              "                    A          B          C          D\n",
              "2013-01-01  10.000000  10.000000   8.688986  10.772711\n",
              "2013-01-02   8.506261   9.959802  10.018233   9.858578\n",
              "2013-01-03   9.887788  11.324594  10.496449   9.443329\n",
              "2013-01-04  11.294945   9.847515   8.710964  10.928768\n",
              "2013-01-05  11.689409   9.265070   9.793206   9.975474\n",
              "2013-01-06  10.127879  10.683692  10.777480   8.158267"
            ]
          },
          "metadata": {
            "tags": []
          },
          "execution_count": 98
        }
      ]
    },
    {
      "cell_type": "markdown",
      "metadata": {
        "id": "254Rgfo51kaf",
        "colab_type": "text"
      },
      "source": [
        "## **Series temporales**\n",
        "\n",
        "*Pandas* tiene una funcionalidad simple, potente y eficiente para realizar operaciones de remuestreo de datos obtenidos con cierta frecuencia (por ejemplo, convertir datos obtenidos cada segundo en datos en intervalos de 5 minutos)."
      ]
    },
    {
      "cell_type": "code",
      "metadata": {
        "id": "LoPqmQH-Iz_d",
        "colab_type": "code",
        "outputId": "40d0557f-ec5e-415e-97a2-edec3e320d05",
        "colab": {
          "base_uri": "https://localhost:8080/",
          "height": 225
        }
      },
      "source": [
        "rng = pd.date_range('1/1/2012', periods=1000, freq='S')\n",
        "ts = pd.Series(np.random.randint(0, 500, len(rng)), index=rng)\n",
        "ts.head\n",
        "ts.tail"
      ],
      "execution_count": 0,
      "outputs": [
        {
          "output_type": "execute_result",
          "data": {
            "text/plain": [
              "<bound method NDFrame.tail of 2012-01-01 00:00:00    195\n",
              "2012-01-01 00:00:01     94\n",
              "2012-01-01 00:00:02    455\n",
              "2012-01-01 00:00:03    453\n",
              "2012-01-01 00:00:04    208\n",
              "                      ... \n",
              "2012-01-01 00:16:35    449\n",
              "2012-01-01 00:16:36    413\n",
              "2012-01-01 00:16:37    210\n",
              "2012-01-01 00:16:38    113\n",
              "2012-01-01 00:16:39    268\n",
              "Freq: S, Length: 1000, dtype: int64>"
            ]
          },
          "metadata": {
            "tags": []
          },
          "execution_count": 110
        }
      ]
    },
    {
      "cell_type": "code",
      "metadata": {
        "id": "0KGXSxi2JFpM",
        "colab_type": "code",
        "outputId": "db64a15a-83e4-4c61-e09c-8bef6267d4e6",
        "colab": {
          "base_uri": "https://localhost:8080/",
          "height": 190
        }
      },
      "source": [
        "print(ts.resample('5Min').sum())\n",
        "\n",
        "print(ts.resample('5Min').mean())"
      ],
      "execution_count": 0,
      "outputs": [
        {
          "output_type": "stream",
          "text": [
            "2012-01-01 00:00:00    78513\n",
            "2012-01-01 00:05:00    76767\n",
            "2012-01-01 00:10:00    73710\n",
            "2012-01-01 00:15:00    25167\n",
            "Freq: 5T, dtype: int64\n",
            "2012-01-01 00:00:00    261.71\n",
            "2012-01-01 00:05:00    255.89\n",
            "2012-01-01 00:10:00    245.70\n",
            "2012-01-01 00:15:00    251.67\n",
            "Freq: 5T, dtype: float64\n"
          ],
          "name": "stdout"
        }
      ]
    },
    {
      "cell_type": "markdown",
      "metadata": {
        "id": "KM8dcMtTJ1DH",
        "colab_type": "text"
      },
      "source": [
        "A veces es interesante modificar la fecha (timestamp) de una medida, para ponerlas todas a escala. Por ejemplo, imagina que toma una temperatura por mes, no importa qué dia, pero que quieres hacer una gráfica en la que aparezcan los meses, no el día concreto:"
      ]
    },
    {
      "cell_type": "code",
      "metadata": {
        "id": "sQpo7OhaJ0rr",
        "colab_type": "code",
        "outputId": "6b38d641-41aa-47d3-cdb7-99e603f57815",
        "colab": {
          "base_uri": "https://localhost:8080/",
          "height": 121
        }
      },
      "source": [
        "rng = pd.date_range('1/1/2012', periods=5, freq='M')\n",
        "ts = pd.Series(np.random.randn(len(rng)), index=rng)\n",
        "ts"
      ],
      "execution_count": 0,
      "outputs": [
        {
          "output_type": "execute_result",
          "data": {
            "text/plain": [
              "2012-01-31   -0.793652\n",
              "2012-02-29   -0.903128\n",
              "2012-03-31    0.168486\n",
              "2012-04-30   -1.067748\n",
              "2012-05-31    1.027077\n",
              "Freq: M, dtype: float64"
            ]
          },
          "metadata": {
            "tags": []
          },
          "execution_count": 114
        }
      ]
    },
    {
      "cell_type": "code",
      "metadata": {
        "id": "gtQodgovK0h_",
        "colab_type": "code",
        "outputId": "79842ee6-8a5b-4322-ad11-df98feacc204",
        "colab": {
          "base_uri": "https://localhost:8080/",
          "height": 121
        }
      },
      "source": [
        "ps = ts.to_period()\n",
        "ps"
      ],
      "execution_count": 0,
      "outputs": [
        {
          "output_type": "execute_result",
          "data": {
            "text/plain": [
              "2012-01   -0.793652\n",
              "2012-02   -0.903128\n",
              "2012-03    0.168486\n",
              "2012-04   -1.067748\n",
              "2012-05    1.027077\n",
              "Freq: M, dtype: float64"
            ]
          },
          "metadata": {
            "tags": []
          },
          "execution_count": 115
        }
      ]
    },
    {
      "cell_type": "code",
      "metadata": {
        "id": "EQ4EDVElK7iH",
        "colab_type": "code",
        "outputId": "74202a38-7a8b-424e-af22-760a176e0d41",
        "colab": {
          "base_uri": "https://localhost:8080/",
          "height": 121
        }
      },
      "source": [
        "ps.to_timestamp() # Podemos convertirlo al primer día del mes"
      ],
      "execution_count": 0,
      "outputs": [
        {
          "output_type": "execute_result",
          "data": {
            "text/plain": [
              "2012-01-01   -0.793652\n",
              "2012-02-01   -0.903128\n",
              "2012-03-01    0.168486\n",
              "2012-04-01   -1.067748\n",
              "2012-05-01    1.027077\n",
              "Freq: MS, dtype: float64"
            ]
          },
          "metadata": {
            "tags": []
          },
          "execution_count": 116
        }
      ]
    },
    {
      "cell_type": "markdown",
      "metadata": {
        "id": "g11TNyXpLX-q",
        "colab_type": "text"
      },
      "source": [
        "# **Gráficas**\n",
        "\n",
        "De forma análoga, se pueden hacer gráficas con *Pandas*. Pandas, de forma directa tiene implementada la funcionalidad de hacer gráficas. \n",
        "\n",
        "Por ejemplo, vamos a hacer una gráfica de una série temporal:"
      ]
    },
    {
      "cell_type": "code",
      "metadata": {
        "id": "X8SXzwjVLi8r",
        "colab_type": "code",
        "colab": {}
      },
      "source": [
        "import matplotlib.pyplot as plt\n",
        "plt.close('all')"
      ],
      "execution_count": 0,
      "outputs": []
    },
    {
      "cell_type": "code",
      "metadata": {
        "id": "q_TURVBCL9iJ",
        "colab_type": "code",
        "outputId": "fd1aaf05-b013-4021-c0dc-bbeefba2aca3",
        "colab": {
          "base_uri": "https://localhost:8080/",
          "height": 502
        }
      },
      "source": [
        "ts = pd.Series(np.random.randn(1000),index=pd.date_range('1/1/2000', periods=1000))\n",
        "print(ts.head())\n",
        "ts = ts.cumsum()\n",
        "print(ts.head())\n",
        "ts.plot()"
      ],
      "execution_count": 0,
      "outputs": [
        {
          "output_type": "stream",
          "text": [
            "2000-01-01   -0.390454\n",
            "2000-01-02   -0.425650\n",
            "2000-01-03    1.147311\n",
            "2000-01-04   -0.403884\n",
            "2000-01-05   -0.450742\n",
            "Freq: D, dtype: float64\n",
            "2000-01-01   -0.390454\n",
            "2000-01-02   -0.816105\n",
            "2000-01-03    0.331206\n",
            "2000-01-04   -0.072678\n",
            "2000-01-05   -0.523421\n",
            "Freq: D, dtype: float64\n"
          ],
          "name": "stdout"
        },
        {
          "output_type": "execute_result",
          "data": {
            "text/plain": [
              "<matplotlib.axes._subplots.AxesSubplot at 0x7f0a0a19b828>"
            ]
          },
          "metadata": {
            "tags": []
          },
          "execution_count": 127
        },
        {
          "output_type": "display_data",
          "data": {
            "image/png": "[encoded data removed]",
            "text/plain": [
              "<Figure size 432x288 with 1 Axes>"
            ]
          },
          "metadata": {
            "tags": []
          }
        }
      ]
    },
    {
      "cell_type": "markdown",
      "metadata": {
        "id": "Q_vOpUnmP-Qp",
        "colab_type": "text"
      },
      "source": [
        "En un *DataFrame*, la función o métodos *plot()* es muy conveniente para dibujar todas las columnas de un *DataFrame* con sus correspondientes etiquetas:"
      ]
    },
    {
      "cell_type": "code",
      "metadata": {
        "id": "dt1XAWf3RbJi",
        "colab_type": "code",
        "outputId": "c0f40f25-c010-44ec-816b-d9d4cbb2cac7",
        "colab": {
          "base_uri": "https://localhost:8080/",
          "height": 415
        }
      },
      "source": [
        "df = pd.DataFrame(np.random.randn(1000, 4), index=ts.index, columns=['A', 'B', 'C', 'D'])\n",
        "print(df.head())\n",
        "\n",
        "df = df.cumsum()\n",
        "plt.figure()\n",
        "df.plot()\n",
        "plt.legend(loc='best')"
      ],
      "execution_count": 0,
      "outputs": [
        {
          "output_type": "stream",
          "text": [
            "                   A         B         C         D\n",
            "2000-01-01 -1.066012  0.757140 -0.372255  0.250946\n",
            "2000-01-02 -0.675918 -1.464375 -0.905420 -0.888074\n",
            "2000-01-03 -0.741901  1.031200  0.061503  0.050486\n",
            "2000-01-04  0.930638  0.187858 -0.648056  2.179294\n",
            "2000-01-05  1.653167  1.141672  0.477946  0.220536\n"
          ],
          "name": "stdout"
        },
        {
          "output_type": "execute_result",
          "data": {
            "text/plain": [
              "<matplotlib.legend.Legend at 0x7f0a0aadbef0>"
            ]
          },
          "metadata": {
            "tags": []
          },
          "execution_count": 132
        },
        {
          "output_type": "display_data",
          "data": {
            "text/plain": [
              "<Figure size 432x288 with 0 Axes>"
            ]
          },
          "metadata": {
            "tags": []
          }
        },
        {
          "output_type": "display_data",
          "data": {
            "image/png": "[encoded data removed]",
            "text/plain": [
              "<Figure size 432x288 with 1 Axes>"
            ]
          },
          "metadata": {
            "tags": []
          }
        }
      ]
    },
    {
      "cell_type": "markdown",
      "metadata": {
        "id": "WIdwjWuGSO2H",
        "colab_type": "text"
      },
      "source": [
        "# **Leer datos IN/OUT**\n",
        "\n",
        "Podemos leer datos y escribir datos en ficheros. Pensad que estáis ejecutando en la nube, en un entorno de Google Cloud. Es posible acceder a vuestro espacio de disco de Drive, montando el disco.\n",
        "\n",
        "Esto se hace de la siguiente manera:"
      ]
    },
    {
      "cell_type": "code",
      "metadata": {
        "id": "WPH2mLwkSnoI",
        "colab_type": "code",
        "outputId": "5df1f472-aa4d-4c04-a252-92a4af356acb",
        "colab": {
          "base_uri": "https://localhost:8080/",
          "height": 124
        }
      },
      "source": [
        "from google.colab import drive\n",
        "drive.mount('/content/drive')"
      ],
      "execution_count": 0,
      "outputs": [
        {
          "output_type": "stream",
          "text": [
            "Go to this URL in a browser: https://accounts.google.com/o/oauth2/auth?client_id=947318989803-6bn6qk8qdgf4n4g3pfee6491hc0brc4i.apps.googleusercontent.com&redirect_uri=urn%3aietf%3awg%3aoauth%3a2.0%3aoob&response_type=code&scope=email%20https%3a%2f%2fwww.googleapis.com%2fauth%2fdocs.test%20https%3a%2f%2fwww.googleapis.com%2fauth%2fdrive%20https%3a%2f%2fwww.googleapis.com%2fauth%2fdrive.photos.readonly%20https%3a%2f%2fwww.googleapis.com%2fauth%2fpeopleapi.readonly\n",
            "\n",
            "Enter your authorization code:\n",
            "··········\n",
            "Mounted at /content/drive\n"
          ],
          "name": "stdout"
        }
      ]
    },
    {
      "cell_type": "markdown",
      "metadata": {
        "id": "TJkr-x4oSp5a",
        "colab_type": "text"
      },
      "source": [
        "Os dirá que vayáis a un link, copiais el código de autorización y ya tendréis vuestro espacio del Drive montado para ser usado. \n",
        "\n",
        "En la izquierda superior del notebook tenéis una carpeta (debajo de <>), que si clickais, se expande y veis vuestro espacio de Drive, que está en la carpeta /content/drive/My Drive/...)\n",
        "\n",
        "Si creais una carpeta 'data' en vuestro Drive, vamos a grabar un *DataFrame* en formato csv, y luego lo vamos a leer:"
      ]
    },
    {
      "cell_type": "code",
      "metadata": {
        "id": "XdeIJjeRTzVf",
        "colab_type": "code",
        "outputId": "a3bbd2b9-e77e-4eb8-da87-0442cdc14905",
        "colab": {
          "base_uri": "https://localhost:8080/",
          "height": 225
        }
      },
      "source": [
        "print(df.head())\n",
        "print(df.tail())"
      ],
      "execution_count": 0,
      "outputs": [
        {
          "output_type": "stream",
          "text": [
            "                   A         B         C         D\n",
            "2000-01-01 -1.066012  0.757140 -0.372255  0.250946\n",
            "2000-01-02 -1.741930 -0.707234 -1.277674 -0.637128\n",
            "2000-01-03 -2.483831  0.323966 -1.216172 -0.586642\n",
            "2000-01-04 -1.553193  0.511824 -1.864228  1.592652\n",
            "2000-01-05  0.099974  1.653496 -1.386281  1.813188\n",
            "                    A          B          C          D\n",
            "2002-09-22 -60.426559  38.466572  15.286407 -16.634158\n",
            "2002-09-23 -61.024205  39.740376  14.871856 -14.928742\n",
            "2002-09-24 -61.433832  40.802579  14.538642 -12.813334\n",
            "2002-09-25 -61.305953  41.020141  15.453185 -13.122137\n",
            "2002-09-26 -62.281933  41.872041  14.986642 -12.440089\n"
          ],
          "name": "stdout"
        }
      ]
    },
    {
      "cell_type": "code",
      "metadata": {
        "id": "1I6Zs5yJT-5g",
        "colab_type": "code",
        "colab": {}
      },
      "source": [
        "df.to_csv('/content/drive/My Drive/data/test.csv')"
      ],
      "execution_count": 0,
      "outputs": []
    },
    {
      "cell_type": "markdown",
      "metadata": {
        "id": "0tYsgQg7U2zi",
        "colab_type": "text"
      },
      "source": [
        "Ahora si váis a vuestro Drive, veréis que ha aparecido el fichero *test.csv* en la carpeta data/\n",
        "\n",
        "Vamos a leer el fichero y ha asignarlo a otra *DataFrame*, que llamaremos *pd*:"
      ]
    },
    {
      "cell_type": "code",
      "metadata": {
        "id": "U3SjzRI6UscZ",
        "colab_type": "code",
        "outputId": "0c1deb02-2653-4a45-9729-611746c3134e",
        "colab": {
          "base_uri": "https://localhost:8080/",
          "height": 407
        }
      },
      "source": [
        "pd.read_csv('/content/drive/My Drive/data/test.csv')"
      ],
      "execution_count": 0,
      "outputs": [
        {
          "output_type": "execute_result",
          "data": {
            "text/html": [
              "<div>\n",
              "<style scoped>\n",
              "    .dataframe tbody tr th:only-of-type {\n",
              "        vertical-align: middle;\n",
              "    }\n",
              "\n",
              "    .dataframe tbody tr th {\n",
              "        vertical-align: top;\n",
              "    }\n",
              "\n",
              "    .dataframe thead th {\n",
              "        text-align: right;\n",
              "    }\n",
              "</style>\n",
              "<table border=\"1\" class=\"dataframe\">\n",
              "  <thead>\n",
              "    <tr style=\"text-align: right;\">\n",
              "      <th></th>\n",
              "      <th>Unnamed: 0</th>\n",
              "      <th>A</th>\n",
              "      <th>B</th>\n",
              "      <th>C</th>\n",
              "      <th>D</th>\n",
              "    </tr>\n",
              "  </thead>\n",
              "  <tbody>\n",
              "    <tr>\n",
              "      <th>0</th>\n",
              "      <td>2000-01-01</td>\n",
              "      <td>-1.066012</td>\n",
              "      <td>0.757140</td>\n",
              "      <td>-0.372255</td>\n",
              "      <td>0.250946</td>\n",
              "    </tr>\n",
              "    <tr>\n",
              "      <th>1</th>\n",
              "      <td>2000-01-02</td>\n",
              "      <td>-1.741930</td>\n",
              "      <td>-0.707234</td>\n",
              "      <td>-1.277674</td>\n",
              "      <td>-0.637128</td>\n",
              "    </tr>\n",
              "    <tr>\n",
              "      <th>2</th>\n",
              "      <td>2000-01-03</td>\n",
              "      <td>-2.483831</td>\n",
              "      <td>0.323966</td>\n",
              "      <td>-1.216172</td>\n",
              "      <td>-0.586642</td>\n",
              "    </tr>\n",
              "    <tr>\n",
              "      <th>3</th>\n",
              "      <td>2000-01-04</td>\n",
              "      <td>-1.553193</td>\n",
              "      <td>0.511824</td>\n",
              "      <td>-1.864228</td>\n",
              "      <td>1.592652</td>\n",
              "    </tr>\n",
              "    <tr>\n",
              "      <th>4</th>\n",
              "      <td>2000-01-05</td>\n",
              "      <td>0.099974</td>\n",
              "      <td>1.653496</td>\n",
              "      <td>-1.386281</td>\n",
              "      <td>1.813188</td>\n",
              "    </tr>\n",
              "    <tr>\n",
              "      <th>...</th>\n",
              "      <td>...</td>\n",
              "      <td>...</td>\n",
              "      <td>...</td>\n",
              "      <td>...</td>\n",
              "      <td>...</td>\n",
              "    </tr>\n",
              "    <tr>\n",
              "      <th>995</th>\n",
              "      <td>2002-09-22</td>\n",
              "      <td>-60.426559</td>\n",
              "      <td>38.466572</td>\n",
              "      <td>15.286407</td>\n",
              "      <td>-16.634158</td>\n",
              "    </tr>\n",
              "    <tr>\n",
              "      <th>996</th>\n",
              "      <td>2002-09-23</td>\n",
              "      <td>-61.024205</td>\n",
              "      <td>39.740376</td>\n",
              "      <td>14.871856</td>\n",
              "      <td>-14.928742</td>\n",
              "    </tr>\n",
              "    <tr>\n",
              "      <th>997</th>\n",
              "      <td>2002-09-24</td>\n",
              "      <td>-61.433832</td>\n",
              "      <td>40.802579</td>\n",
              "      <td>14.538642</td>\n",
              "      <td>-12.813334</td>\n",
              "    </tr>\n",
              "    <tr>\n",
              "      <th>998</th>\n",
              "      <td>2002-09-25</td>\n",
              "      <td>-61.305953</td>\n",
              "      <td>41.020141</td>\n",
              "      <td>15.453185</td>\n",
              "      <td>-13.122137</td>\n",
              "    </tr>\n",
              "    <tr>\n",
              "      <th>999</th>\n",
              "      <td>2002-09-26</td>\n",
              "      <td>-62.281933</td>\n",
              "      <td>41.872041</td>\n",
              "      <td>14.986642</td>\n",
              "      <td>-12.440089</td>\n",
              "    </tr>\n",
              "  </tbody>\n",
              "</table>\n",
              "<p>1000 rows × 5 columns</p>\n",
              "</div>"
            ],
            "text/plain": [
              "     Unnamed: 0          A          B          C          D\n",
              "0    2000-01-01  -1.066012   0.757140  -0.372255   0.250946\n",
              "1    2000-01-02  -1.741930  -0.707234  -1.277674  -0.637128\n",
              "2    2000-01-03  -2.483831   0.323966  -1.216172  -0.586642\n",
              "3    2000-01-04  -1.553193   0.511824  -1.864228   1.592652\n",
              "4    2000-01-05   0.099974   1.653496  -1.386281   1.813188\n",
              "..          ...        ...        ...        ...        ...\n",
              "995  2002-09-22 -60.426559  38.466572  15.286407 -16.634158\n",
              "996  2002-09-23 -61.024205  39.740376  14.871856 -14.928742\n",
              "997  2002-09-24 -61.433832  40.802579  14.538642 -12.813334\n",
              "998  2002-09-25 -61.305953  41.020141  15.453185 -13.122137\n",
              "999  2002-09-26 -62.281933  41.872041  14.986642 -12.440089\n",
              "\n",
              "[1000 rows x 5 columns]"
            ]
          },
          "metadata": {
            "tags": []
          },
          "execution_count": 143
        }
      ]
    },
    {
      "cell_type": "markdown",
      "metadata": {
        "id": "89BybgTdUC8A",
        "colab_type": "text"
      },
      "source": [
        "Este fichero *test.csv* es un fichero delimitado por comas, que podéis también abrir con excel, por ejemplo...\n",
        "\n",
        "También podéis escribir en binario *xlsx* de Excel:"
      ]
    },
    {
      "cell_type": "code",
      "metadata": {
        "id": "rKytHKMLVe7D",
        "colab_type": "code",
        "colab": {}
      },
      "source": [
        "df.to_excel('/content/drive/My Drive/data/test.xlsx', sheet_name='TestPandas')"
      ],
      "execution_count": 0,
      "outputs": []
    }
  ]
}