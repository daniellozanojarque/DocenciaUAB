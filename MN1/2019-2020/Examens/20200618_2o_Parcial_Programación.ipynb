{
  "nbformat": 4,
  "nbformat_minor": 0,
  "metadata": {
    "colab": {
      "name": "20200618_2o_Parcial_Programación.ipynb",
      "provenance": [],
      "collapsed_sections": [],
      "authorship_tag": "ABX9TyPeriCJhQNE64MWm5ES4SOG",
      "include_colab_link": true
    },
    "kernelspec": {
      "name": "python3",
      "display_name": "Python 3"
    }
  },
  "cells": [
    {
      "cell_type": "markdown",
      "metadata": {
        "id": "view-in-github",
        "colab_type": "text"
      },
      "source": [
        "<a href=\"https://colab.research.google.com/github/joseflix/DocenciaUAB/blob/master/MN1/2019-2020/Examens/20200618_2o_Parcial_Programaci%C3%B3n.ipynb\" target=\"_parent\"><img src=\"https://colab.research.google.com/assets/colab-badge.svg\" alt=\"Open In Colab\"/></a>"
      ]
    },
    {
      "cell_type": "markdown",
      "metadata": {
        "id": "XWLfBMc67uUV",
        "colab_type": "text"
      },
      "source": [
        "# **MN1: 2º parcial (programación) 18/06/2020**\n",
        "\n",
        "<hr>\n",
        "\n",
        "**Nombre:**\n",
        "\n",
        "**NIU:**\n",
        "\n",
        "**mail (gmail):**\n",
        "\n",
        "<hr>\n",
        "\n",
        "**Instrucciones de edición del Notebook y entrega**\n",
        "\n",
        "*   Abre el Notebook desde GitHub (\"Open in Colab\") y genera una copia en tu Drive (\"Guardar una copia en Drive\"). Edita esa copia para el examen. Ve guardando el notebook de vez en cuando!\n",
        "*   Renombra esa copia como usando tu NIU como nombre de archivo: \"NIU.ipynb\" (*por ejemplo, 2055007.ipynb*) \n",
        "*   Rellena tu nombre, NIU i mail (gmail, si quieres recibir los comentarios/feedback acerca de tu examen) en la cabecera de este Notebook.\n",
        "*   Al final del examen, descarga este cuaderno en formato .ipynb y lo tienes que subir al siguiente *drop folder*: [Link](http://cern.ch/go/FQ9X). Asegurate de que el fichero tiene el nombre correcto.\n",
        "*   Podéis volver a subir el fichero si creéis que hay un error pero sólo consideraremos la última versión, y dentro del horario establecido.\n",
        "*   **NOTA** Antes de entregar o dar por finalizado cada ejercicio, es recomendable reiniciar el entorno de ejecución para ver que se ejecuta todo de forma correcta: \"Entorno de ejecución >> Reiniciar entorno de ejecución\",y luego \"Entorno de ejecución >> Ejecutar todas\".\n",
        "\n",
        "<hr>\n",
        "\n",
        "**Instrucciones del examen**\n",
        "\n",
        "*   El examen es de 9h a 12h. No se aceptarán entregas pasada esa hora.\n",
        "*   Podéis consultar apuntes, entregas o usar internet para buscar información, pero no comunicaros entre vosotros/as.\n",
        "*   Es obligatorio conectarse a la sesión de MS Teams durante la realización del examen. [Link](http://cern.ch/go/6mhN)\n",
        "*   Podéis utilizar el chat privado con los profesores para hacer consultas durante el examen y si hay una duda general que afecte a todos, se puede comentar en voz alta utilizando esta herramienta o usando el chat general.\n",
        "*   **NOTA:** Se llamará aleatoriamente a ciertos alumnos para que nos expliquen cómo han hecho el examen, antes de publicar las notas.\n",
        "\n",
        "<hr>"
      ]
    },
    {
      "cell_type": "markdown",
      "metadata": {
        "id": "DPLar6uV_6es",
        "colab_type": "text"
      },
      "source": [
        "## **EXAMEN**"
      ]
    },
    {
      "cell_type": "code",
      "metadata": {
        "id": "2h4400kP7noA",
        "colab_type": "code",
        "colab": {}
      },
      "source": [
        "# Ejecuta esta parte de código para importar las librerías necesarias\n",
        "import numpy as np\n",
        "import matplotlib.pyplot as plt\n",
        "import scipy.stats as ss\n",
        "import random"
      ],
      "execution_count": 1,
      "outputs": []
    },
    {
      "cell_type": "markdown",
      "metadata": {
        "id": "qpyDCbS9Ban8",
        "colab_type": "text"
      },
      "source": [
        "## <font color='green'>**> Ejercicio #1 [3.5 puntos]**</font>\n",
        "\n",
        "Queremos determinar el área comprendida en una superficie delimitada por dos parábolas usando el método Monte Carlo. Compararemos con el cálculo analítico y estimaremos el error cometido como función del número de puntos considerados en el cálculo."
      ]
    },
    {
      "cell_type": "markdown",
      "metadata": {
        "id": "UXPQGQxsByAq",
        "colab_type": "text"
      },
      "source": [
        "**1.1 [1.25 puntos]:** Representa gráficamente las parábolas $y_1=1 - x^2$ y $y_2=x^2$, en el intervalo de x = [-1, 1]. Determina analíticamente el área comprendida entre ellas (intersección), asigna el valor a una variable y muestra el valor de la integral analítica por pantalla (con 3 dígitos). Puedes usar el text box para mostrar el desarrollo de la integral analítica.\n"
      ]
    },
    {
      "cell_type": "code",
      "metadata": {
        "id": "LD4nb7akCszR",
        "colab_type": "code",
        "colab": {}
      },
      "source": [
        "# Ejercicio 1.1\n",
        "\n",
        "# tu código aquí\n"
      ],
      "execution_count": null,
      "outputs": []
    },
    {
      "cell_type": "markdown",
      "metadata": {
        "id": "IzvM2VYSDCVC",
        "colab_type": "text"
      },
      "source": [
        "*Ejercicio 1.1: integral analítica. Desarrollo*\n",
        "\n",
        "Tu texto aquí"
      ]
    },
    {
      "cell_type": "markdown",
      "metadata": {
        "id": "ZjJD00TxKu-4",
        "colab_type": "text"
      },
      "source": [
        "**1.2 [1.25 puntos]:** Determina el área comprendida entre las dos parábolas por el método Monte Carlo usando N=1000 puntos. Representa gráficamente las parábolas, los puntos aceptados en verde, los puntos rechazados en rojo, y muestra por pantalla en valor de la integral MC y el de la integral analítica (las dos con 3 dígitos). \n"
      ]
    },
    {
      "cell_type": "code",
      "metadata": {
        "id": "HIu4ai5iK973",
        "colab_type": "code",
        "colab": {}
      },
      "source": [
        "# Ejercicio 1.2\n",
        "\n",
        "# tu código aquí\n"
      ],
      "execution_count": null,
      "outputs": []
    },
    {
      "cell_type": "markdown",
      "metadata": {
        "id": "C4SavNQeOjso",
        "colab_type": "text"
      },
      "source": [
        "**1.3 [1 punto]:** Determina el error relativo en % cometido en el cálculo de la integral con el método Monte Carlo como función del número de puntos que se usan. Varía N de 100 a 10000 (en pasos de 100) y haz una gráfica del error relativo en % en función de N. El error relativo es:\n",
        "\n",
        "$$\n",
        "Error (\\%) = 100. | \\frac{I_{MC}-I_{analítica}}{I_{analítica}} | \n",
        "$$"
      ]
    },
    {
      "cell_type": "code",
      "metadata": {
        "id": "AIytnX0jO4T3",
        "colab_type": "code",
        "colab": {}
      },
      "source": [
        "# Ejercicio 1.3\n",
        "\n",
        "# tu código aquí\n"
      ],
      "execution_count": null,
      "outputs": []
    },
    {
      "cell_type": "markdown",
      "metadata": {
        "id": "e2T95wlxRoaD",
        "colab_type": "text"
      },
      "source": [
        "## <font color='green'>**> Ejercicio #2 [3 puntos]**</font>\n",
        "\n",
        "En el primer parcial de la asignatura teníamos que resolver un problema de cálculo de probabilidad de forma analítica. En este ejercicio veremos cómo se puede resolver de forma algorítmica. \n",
        "\n",
        "Recordemos primero el enunciado del problema: tenemos una baraja de 52 cartas (4 palos de 13 cartas). Las barajamos y separamos en dos pilas de 26 cartas. Cogemos la primera carta de una de las pilas y vemos que es un rey. Metemos la carta en la otra pila y la volvemos a barajar. Tomamos la primera carta de esta pila. Cuál es la probabilidad de que esta segunda carta sea un rey? El valor de la probabilidad frecuentista vimos que se acerca al valor de $P \\sim 0.0937$. \n",
        "\n",
        "Para calcular una probabilidad de este tipo podemos usar la definición frecuentista, en la que para un número $N$ de realizaciones del experimento se calcula la probabilidad como:\n",
        "\n",
        "$$\n",
        "P(A) = \\frac{\\text{# de veces que ha ocurrido A}}{N}\n",
        "$$\n",
        "\n",
        "que tiende al valor real si $N \\to \\infty$.\n",
        "\n",
        "Implementaremos un algoritmo que simula $N=50000$ realizaciones de este experimento y cuenta cuántas veces ocurre que la segunda carta sea un rey habiendo salido un rey de la primera pila que se ha puesto en la segunda pila. \n",
        "\n",
        ">**Nota** Para modelizar este escenario tendrás que utilizar herramientas de generación y manipulación de arrays. Puedes generar un array de 52 números enteros que se correspondan a cada carta de la baraja. Para barajar un array puedes usar el método ``random.shuffle(a)`` y para dividir un array en subarrays puedes usar la sintaxis ``a[0:10]``.\n",
        "\n",
        "Os ponemos unos ejemplos en código:"
      ]
    },
    {
      "cell_type": "code",
      "metadata": {
        "id": "LPMSsxG0SX5G",
        "colab_type": "code",
        "colab": {}
      },
      "source": [
        "# Ejemplo de barajar una lista:\n",
        "\n",
        "a = [1,2,3,4,5,6]\n",
        "print(\"La lista antes de barajar es:\",a)\n",
        "random.shuffle(a)\n",
        "print(\"La lista después de barajar es:\",a)\n",
        "\n",
        "# Ejemplo dividir una lista en dos:\n",
        "\n",
        "print(\"La primera mitad de la lista es\",a[0:3],\"y la segunda mitad es\",a[3:7])\n",
        "b = a[0:3]\n",
        "c = a[3:7]\n",
        "print(\"La primera mitad de la lista es\",b,\"y la segunda mitad es\",c)"
      ],
      "execution_count": null,
      "outputs": []
    },
    {
      "cell_type": "markdown",
      "metadata": {
        "id": "jhgMSjyiS2bL",
        "colab_type": "text"
      },
      "source": [
        "**2.1 [3 puntos]:** Genera una gráfica mostrando cómo evoluciona la probabilidad P a medida que $N$ aumenta (de 1 a 50000). Puedes ver mejor esta gráfica si haces que el eje x esté en escala logarítmica. Dibuja una recta a $P = 0.0937$, imprime en pantalla la probabilidad correspondiente después de haber realizado las 50000 realizaciones (con 3 dígitos) y muestra también el error relativo en % cometido en el cálculo, comparando con el valor de $ P = 0.0937$ (con 3 dígitos)."
      ]
    },
    {
      "cell_type": "code",
      "metadata": {
        "id": "-ryq-CArT3IH",
        "colab_type": "code",
        "colab": {}
      },
      "source": [
        "# Ejercicio 2.1\n",
        "\n",
        "# tu código aquí\n"
      ],
      "execution_count": null,
      "outputs": []
    },
    {
      "cell_type": "markdown",
      "metadata": {
        "id": "NX8aFYsTWORl",
        "colab_type": "text"
      },
      "source": [
        "## <font color='green'>**> Ejercicio #3 [3.5 puntos]**</font>\n",
        "\n",
        "El método **Multiplicative Linear Congruential Generator** se usa para generar números aleatórios entre 0 y 1. El método consiste en comenzar con un número entero arbitrario, $z_0$ (al que se denomina “semilla”), comprendido entre 0 y un número entero grande, $m$, ambos elegidos y fijados por nosotros.\n",
        "\n",
        "Para generar otro número entero entre 0 y $m$ se procede según:\n",
        "\n",
        "$$\n",
        "z_{n+1} = mod(a·z_n + b, m)\n",
        "$$\n",
        "\n",
        "donde $a$ y $b$ son constantes convenientemente elegidas, y dónde $mod(x, m)$ es el resto de dividir $x$ entre $m$. Para obtener una secuencia de números reales entre 0 y 1 dividimos los anteriores por $m$. \n",
        "\n",
        "Si partimos de la misma \"semilla\", dados $a$, $b$ y $m$, la secuencia de números aleatorios es la misma. \n",
        "\n",
        "Hay varios valores que se pueden usar (https://es.wikipedia.org/wiki/Generador_lineal_congruencial). En este ejercicio usaremos un $z_0 = 10$ y los valores que se usan en *Numerical Recipes*:\n",
        "\n",
        "$a = 1664525$\n",
        "\n",
        "$b = 1013904223$\n",
        "\n",
        "$m = 2·10^{32}$\n"
      ]
    },
    {
      "cell_type": "markdown",
      "metadata": {
        "id": "_OgIzT1VWbnB",
        "colab_type": "text"
      },
      "source": [
        "**3.1 [1.5 puntos]:** Implementa una función que devuelva una lista de N números aleatorios entre 0 y 1, implementado el método propuesto en este ejercicio. Para hacer que la función sea lo más genérica posible, pásale todas las variables como parámetros, es decir:\n",
        "\n",
        "```\n",
        "def MLCG(z0,a,b,m,N):\n",
        "   # tu código ...\n",
        "   # return \"lista de N valores entre 0 y 1\"\n",
        "```"
      ]
    },
    {
      "cell_type": "code",
      "metadata": {
        "id": "vEHijmeEWqHI",
        "colab_type": "code",
        "colab": {}
      },
      "source": [
        "# Ejercicio 3.1\n",
        "\n",
        "# tu código aquí\n"
      ],
      "execution_count": null,
      "outputs": []
    },
    {
      "cell_type": "markdown",
      "metadata": {
        "id": "0HckHSBeWyMo",
        "colab_type": "text"
      },
      "source": [
        "**3.2 [1 punto]:** Genera $10^6$ números aleatorios entre 0 y 1 usando tu función *MLCG()* y dibuja un histograma normalizado de los valores (*usando* 100 bines). Genera también $10^6$ valores aleatorios entre 0 y 1 usando la función integrada en la librería de Python *Numpy* (*np.random.uniform*, fijando un seed *np.random.seed(1000)*) y haz un histograma normalizado que muestre como se distribuyen estos nuevos números aleatorios (usando 100 bines). \n",
        "\n",
        "Muestra el histograma junto con el obtenido con tu función *MLCG()*, de manera que sean bien visible los dos histogramas en la misma gráfica, y añade una línea a $y=1$ (usando *plt.hlines*), que equivale a la *pdf* de una distribución uniforme. Fija la escala $y$ como logaritmica."
      ]
    },
    {
      "cell_type": "code",
      "metadata": {
        "id": "-drzco3MW-au",
        "colab_type": "code",
        "colab": {}
      },
      "source": [
        "# Ejercicio 3.2 \n",
        "\n",
        "# tu código aquí\n"
      ],
      "execution_count": null,
      "outputs": []
    },
    {
      "cell_type": "markdown",
      "metadata": {
        "id": "xpc-051YXXgr",
        "colab_type": "text"
      },
      "source": [
        "**3.3 [1 punto]:** Para un histograma se pueden obtener los contenidos de cada bin usando\n",
        "\n",
        "```\n",
        "n, bins, patches = plt.hist(p, bins=100, density=True, alpha=0.5)\n",
        "```\n",
        "\n",
        "*n* será un array de 100 elementos que contiene el contenido en *y* de cada uno de los bines. Con esta información podemos calcular la suma de la diferencia absoluta para cada bin entre su contenido y lo esperado por una distribución uniforme (=1.0) para las dos distribuciones de números que has generado. Es decir:\n",
        "\n",
        "$$\n",
        "D = \\sum_{i=0}^{100} |n_i-1.|\n",
        "$$\n",
        "\n",
        "Imprime por pantalla estas \"distancias\" evaluadas para tus dos distribuciones: $D_{MLCG}$ y $D_{np.random}$. La que tenga menor valor se aproximará más a la distribución uniforme... Puedes anular que se muestre una gráfica usando *plt.close()* en vez de *plt.show()*."
      ]
    },
    {
      "cell_type": "code",
      "metadata": {
        "id": "qS_U6RvBb1ap",
        "colab_type": "code",
        "colab": {}
      },
      "source": [
        "# Ejercicio 3.3\n",
        "\n",
        "# tu código aquí\n"
      ],
      "execution_count": null,
      "outputs": []
    }
  ]
}