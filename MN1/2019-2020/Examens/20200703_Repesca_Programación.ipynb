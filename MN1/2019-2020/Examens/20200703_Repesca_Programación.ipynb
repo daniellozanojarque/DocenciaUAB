{
  "nbformat": 4,
  "nbformat_minor": 0,
  "metadata": {
    "colab": {
      "name": "20200703_Repesca_Programación.ipynb",
      "provenance": [],
      "collapsed_sections": [],
      "include_colab_link": true
    },
    "kernelspec": {
      "name": "python3",
      "display_name": "Python 3"
    }
  },
  "cells": [
    {
      "cell_type": "markdown",
      "metadata": {
        "id": "view-in-github",
        "colab_type": "text"
      },
      "source": [
        "<a href=\"https://colab.research.google.com/github/joseflix/DocenciaUAB/blob/master/MN1/2019-2020/Examens/20200703_Repesca_Programaci%C3%B3n.ipynb\" target=\"_parent\"><img src=\"https://colab.research.google.com/assets/colab-badge.svg\" alt=\"Open In Colab\"/></a>"
      ]
    },
    {
      "cell_type": "markdown",
      "metadata": {
        "id": "XWLfBMc67uUV",
        "colab_type": "text"
      },
      "source": [
        "# **MN1: 2º parcial (programación) 03/07/2020**\n",
        "\n",
        "<hr>\n",
        "\n",
        "**Nombre:**\n",
        "\n",
        "**NIU:**\n",
        "\n",
        "**mail (gmail):**\n",
        "\n",
        "<hr>\n",
        "\n",
        "**Instrucciones de edición del Notebook y entrega**\n",
        "\n",
        "*   Abre el Notebook desde GitHub (\"Open in Colab\") y genera una copia en tu Drive (\"Guardar una copia en Drive\"). Edita esa copia para el examen. \n",
        "*   Renombra esa copia como usando tu NIU como nombre de archivo: \"NIU.ipynb\" (*por ejemplo, 2055007.ipynb*) \n",
        "*   Rellena tu nombre, NIU i mail (gmail, si quieres recibir los comentarios/feedback acerca de tu examan) en la cabecera de este Notebook.\n",
        "*   Al final del examen, descarga este cuaderno en formato .ipynb y lo tienes que subir al siguiente *drop folder*: [Link](http://cern.ch/go/FQ9X). Asegurate de que el fichero tiene el nombre correcto.\n",
        "*   Podéis volver a subir el fichero si creéis que hay un error pero sólo consideraremos la última versión, y dentro del horario establecido.\n",
        "*   **NOTA** Antes de entregar o dar por finalizado cada ejercicio, es recomendable reiniciar el entorno de ejecución para ver que se ejecuta todo de forma correcta: \"Entorno de ejecución >> Reiniciar entorno de ejecución\",y luego \"Entorno de ejecución >> Ejecutar todas\".\n",
        "\n",
        "<hr>\n",
        "\n",
        "**Instrucciones del examen**\n",
        "\n",
        "*   **Si haces la recuperación o subir nota del segundo parcial, se realiza todo este examen. El horario es de 12h30 a 15h30. No se aceptarán entregas pasada esa hora.**\n",
        "*   **Si has optado por subir nota en los dos parciales, tienes que hacer el ejercicio 2 y 3 de este Notebook. El horario es de 12h30 a 14h00. No se aceptarán entregas pasada esa hora de esta parte del examen. La parte del 1er parcial se realizará de 14h00 a 15h30.**\n",
        "*   Podéis consultar apuntes, entregas o usar internet para buscar información, pero no comunicaros entre vosotros/as.\n",
        "*   Es obligatorio conectarse a la sesión de MS Teams durante la realización del examen. [Link](http://cern.ch/go/6mhN)\n",
        "*   Podéis utilizar el chat para hacer consultas durante el examen y si hay una duda general que afecte a todos, se puede comentar en voz alta utilizando esta herramienta. **No copieis partes de código en el chat**.\n",
        "*   **NOTA:** Se llamará aleatoriamente a ciertos alumnos para que nos expliquen cómo han hecho el examen, antes de publicar las notas.\n",
        "\n",
        "<hr>"
      ]
    },
    {
      "cell_type": "markdown",
      "metadata": {
        "id": "DPLar6uV_6es",
        "colab_type": "text"
      },
      "source": [
        "## **EXAMEN**"
      ]
    },
    {
      "cell_type": "code",
      "metadata": {
        "id": "2h4400kP7noA",
        "colab_type": "code",
        "colab": {}
      },
      "source": [
        "# Ejecuta esta parte de código para importar las librerías necesarias\n",
        "import numpy as np\n",
        "import matplotlib.pyplot as plt\n",
        "import scipy.stats as ss"
      ],
      "execution_count": null,
      "outputs": []
    },
    {
      "cell_type": "markdown",
      "metadata": {
        "id": "qpyDCbS9Ban8",
        "colab_type": "text"
      },
      "source": [
        "## <font color='green'>**> Ejercicio #1 [3 puntos]**</font>\n",
        "\n",
        "A partir de la distribución t-student vamos a realizar una serie de gráficas:"
      ]
    },
    {
      "cell_type": "markdown",
      "metadata": {
        "id": "UXPQGQxsByAq",
        "colab_type": "text"
      },
      "source": [
        "**1.1 [1 punto]:** Dibuja la distribución t-student para nof=10 e indica con unas líneas verticales el área correspondiente a un intervalo de confianza del 95%."
      ]
    },
    {
      "cell_type": "code",
      "metadata": {
        "id": "LD4nb7akCszR",
        "colab_type": "code",
        "colab": {}
      },
      "source": [
        "# Ejercicio 1.1\n",
        "\n",
        "# Tu código aquí"
      ],
      "execution_count": null,
      "outputs": []
    },
    {
      "cell_type": "markdown",
      "metadata": {
        "id": "ZjJD00TxKu-4",
        "colab_type": "text"
      },
      "source": [
        "**1.2 [1 punto]:** Análogo al anterior pero que el intervalo de confianza esté desplazado a la derecha con un área del 1% por encima de la recta vertical derecha."
      ]
    },
    {
      "cell_type": "code",
      "metadata": {
        "id": "HIu4ai5iK973",
        "colab_type": "code",
        "colab": {}
      },
      "source": [
        "# Ejercicio 1.2\n",
        "\n",
        "# Tu código aquí"
      ],
      "execution_count": null,
      "outputs": []
    },
    {
      "cell_type": "markdown",
      "metadata": {
        "id": "C4SavNQeOjso",
        "colab_type": "text"
      },
      "source": [
        "**1.3 [1 punto]:** Empezando por el valor de la variable aleatoria que proporciona un 95% de nivel de confianza a la izquierda de la distribución t-student, desplaza uniformemente este valor y determina cómo evoluciona el extremo izquierdo cuando éste se determina para conservar el 95% de nivel de confianza en el intervalo considerado. Haz una gráfica del límite izquierdo vs límite derecho (x,y)."
      ]
    },
    {
      "cell_type": "code",
      "metadata": {
        "id": "AIytnX0jO4T3",
        "colab_type": "code",
        "colab": {}
      },
      "source": [
        "# Ejercicio 1.3\n",
        "\n",
        "# Tu código aquí"
      ],
      "execution_count": null,
      "outputs": []
    },
    {
      "cell_type": "markdown",
      "metadata": {
        "id": "e2T95wlxRoaD",
        "colab_type": "text"
      },
      "source": [
        "## <font color='green'>**> Ejercicio #2 [3.5 puntos]**</font>\n",
        "\n",
        "El grosor de la mecha ($\\zeta$) de una marca de petardos sigue una distribución gaussiana $G(\\mu=5\\text{mm},\\sigma=0.5\\text{mm})$ y la longitud de la mecha ($L$) sigue otra gaussiana $G(\\mu=50\\text{mm},\\sigma=5\\text{mm})$. Si consideramos que la mecha prende siguiendo un movimiento rectilíneo uniforme:\n",
        "\n",
        "$$\n",
        "  l(t) = L - v t\n",
        "$$\n",
        "\n",
        "donde $L$ es la longitud de la mecha, $t=0$ es el momento en el que se prende la mecha, $l=0$ determina cuando explota el petardo y la velocidad está definida como:\n",
        "\n",
        "$$\n",
        "  v = \\frac{A}{\\zeta} \\,\\,\\,\\,\\,,\\,\\,\\,\\, A \\equiv 50 \\, \\text{mm}^2 \\text{s}^{-1} \\,\\,,\\,\\, \\zeta \\, \\text{es el grosor de la mecha.}\n",
        "$$"
      ]
    },
    {
      "cell_type": "markdown",
      "metadata": {
        "id": "jhgMSjyiS2bL",
        "colab_type": "text"
      },
      "source": [
        "**2.1 [1 punto]:** Genera dos listas con $N = 10000$ valores distribuidos como el grosor y la longitud de la mecha (asegúrate de que no haya valores negativos)."
      ]
    },
    {
      "cell_type": "code",
      "metadata": {
        "id": "-ryq-CArT3IH",
        "colab_type": "code",
        "colab": {}
      },
      "source": [
        "# Ejercicio 2.1\n",
        "\n",
        "# Tu código aquí"
      ],
      "execution_count": null,
      "outputs": []
    },
    {
      "cell_type": "markdown",
      "metadata": {
        "id": "yjvEF0Pnr70y",
        "colab_type": "text"
      },
      "source": [
        "**2.2 [1 punto]:** Para cada pareja de valores de grosor y longitud, calcula el valor de tiempo $T$ que tarda en explotar el petardo correspondiente. Dibuja un histograma de los valores de $T$. Cuál es el valor medio de $T$?"
      ]
    },
    {
      "cell_type": "code",
      "metadata": {
        "id": "P8YfqtC_sEkz",
        "colab_type": "code",
        "colab": {}
      },
      "source": [
        "# Ejercicio 2.2\n",
        "\n",
        "# Tu código aquí"
      ],
      "execution_count": null,
      "outputs": []
    },
    {
      "cell_type": "markdown",
      "metadata": {
        "id": "pp24Iop1sfA5",
        "colab_type": "text"
      },
      "source": [
        "**2.3 [1.5 puntos]:** Si lanzamos los petardos verticalmente hacia arriba con una velocidad de $30$ m/s, sabemos que la distancia vertical que recorren sigue:\n",
        "\n",
        "$$\n",
        "  y(t) = 30 \\, t - \\frac{1}{2} \\, 9.81 \\, t^2\n",
        "$$\n",
        "\n",
        "Dibuja un histograma de los valores de $y$ para los cuales el petardo estalla. Qué proporción de petardos llega al suelo antes de estallar?"
      ]
    },
    {
      "cell_type": "code",
      "metadata": {
        "id": "G3dCAYuesoW8",
        "colab_type": "code",
        "colab": {}
      },
      "source": [
        "# Ejercicio 2.3\n",
        "\n",
        "# Tu código aquí"
      ],
      "execution_count": null,
      "outputs": []
    },
    {
      "cell_type": "markdown",
      "metadata": {
        "id": "NX8aFYsTWORl",
        "colab_type": "text"
      },
      "source": [
        "## <font color='green'>**> Ejercicio #3 [3.5 puntos]**</font>\n",
        "\n",
        "Sean $x_1$, $x_2$, ..., $x_n$ unas variables aleatorias de tamaño $n$ que siguen una función de densidad de probabilidad $f(x,\\alpha)$ según:\n",
        "\t    \n",
        "$$\n",
        "f(x,\\alpha) = \\alpha\\cdot(1-x), \\quad 0 \\le x \\le 1, \\quad \\alpha > 0\n",
        "$$"
      ]
    },
    {
      "cell_type": "markdown",
      "metadata": {
        "id": "_OgIzT1VWbnB",
        "colab_type": "text"
      },
      "source": [
        "**3.1 [1 punto]:** Calcula el valor de $\\alpha$ para que $f(x,\\alpha)$ sea una *pdf*. Utiliza ese valor de $\\alpha$ y calcula la función cumulativa F(x). Dibuja las gráficas de f(x) y F(x) para $x$ en el intervalo [0.,1.]."
      ]
    },
    {
      "cell_type": "markdown",
      "metadata": {
        "id": "aydWdgLfuUhN",
        "colab_type": "text"
      },
      "source": [
        "*Ejercicio 3.1: Cálculo de $\\alpha$. Desarrollo*:\n",
        "\n",
        "<font color=red>Rellenar</font>\n"
      ]
    },
    {
      "cell_type": "code",
      "metadata": {
        "id": "vEHijmeEWqHI",
        "colab_type": "code",
        "colab": {}
      },
      "source": [
        "# Ejercicio 3.1\n",
        "\n",
        "# Tu código aquí"
      ],
      "execution_count": null,
      "outputs": []
    },
    {
      "cell_type": "markdown",
      "metadata": {
        "id": "0HckHSBeWyMo",
        "colab_type": "text"
      },
      "source": [
        "**3.2 [1 punto]:** Usa el método de transformación para generar $10^7$ números aleatorios que sigan esta distribución $f(x)$. Dibuja un histograma normalizado de tus valores ($x\\in[0.,1.]$), con 50 bines, y dibuja encima la f(x)."
      ]
    },
    {
      "cell_type": "code",
      "metadata": {
        "id": "-drzco3MW-au",
        "colab_type": "code",
        "colab": {}
      },
      "source": [
        "# Ejercicio 3.2 \n",
        "\n",
        "# Tu código aquí"
      ],
      "execution_count": null,
      "outputs": []
    },
    {
      "cell_type": "markdown",
      "metadata": {
        "id": "xpc-051YXXgr",
        "colab_type": "text"
      },
      "source": [
        "**3.3 [1 punto]:** Para un histograma se pueden obtener los contenidos de cada bin usando\n",
        "\n",
        "```\n",
        "n, bins, patches = plt.hist(p, bins=M, density=True, alpha=0.5) # Ejemplo\n",
        "```\n",
        "\n",
        "*n* será un array de M elementos que contiene el contenido en *y* de cada uno de los bines. Con esta información podemos calcular la suma de la diferencia absoluta para cada bin entre su contenido y lo esperado por la distribución de este ejercicio, en el centro de cada bin. Es decir:\n",
        "\n",
        "$$\n",
        "D = \\sum_{i=0}^{M} |n_i-f(\\bar{x}_i)| \\,, \\, \\text{donde } \\bar{x}_i \\, \\text{es el valor central del bin $i$} \n",
        "$$\n",
        "\n",
        "Haz una gráfica que muestre como evoluciona esta \"distancia\" $D$ si generamos diferentes muestras, en orden creciente de $N$. Genera muestras en el intervalo $N = [10,500]$, en saltos de 5, calcula $D$ para cada una de estas realizaciones, usando un histograma entre [0.,1.] con 200 bines, y haz una gráfica de $D$ vs. $N$, usando escala logarítmicas en los dos ejes. Recuerda que puedes anular que se muestre una gráfica usando *plt.close()* en vez de *plt.show()*.\n"
      ]
    },
    {
      "cell_type": "code",
      "metadata": {
        "id": "qS_U6RvBb1ap",
        "colab_type": "code",
        "colab": {}
      },
      "source": [
        "# Ejercicio 3.3\n",
        "\n",
        "# Tu código aquí"
      ],
      "execution_count": null,
      "outputs": []
    }
  ]
}