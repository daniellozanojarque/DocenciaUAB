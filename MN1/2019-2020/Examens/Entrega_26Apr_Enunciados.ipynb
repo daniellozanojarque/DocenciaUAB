{
  "nbformat": 4,
  "nbformat_minor": 0,
  "metadata": {
    "colab": {
      "name": "Entrega_26Apr_Enunciados.ipynb",
      "provenance": [],
      "collapsed_sections": [],
      "include_colab_link": true
    },
    "kernelspec": {
      "display_name": "Python 3",
      "language": "python",
      "name": "python3"
    }
  },
  "cells": [
    {
      "cell_type": "markdown",
      "metadata": {
        "id": "view-in-github",
        "colab_type": "text"
      },
      "source": [
        "<a href=\"https://colab.research.google.com/github/joseflix/DocenciaUAB/blob/master/MN1/2019-2020/Examens/Entrega_26Apr_Enunciados.ipynb\" target=\"_parent\"><img src=\"https://colab.research.google.com/assets/colab-badge.svg\" alt=\"Open In Colab\"/></a>"
      ]
    },
    {
      "cell_type": "markdown",
      "metadata": {
        "id": "MuITK0qq5Ues",
        "colab_type": "text"
      },
      "source": [
        "Entrega de Métodos Numéricos I\n",
        "====\n"
      ]
    },
    {
      "cell_type": "markdown",
      "metadata": {
        "id": "EmAhOb8_5Uex",
        "colab_type": "text"
      },
      "source": [
        "Este programa genera números aleatorios que están distribuidos como una distribución de Cauchy usando el método Monte Carlo. Se piden resultados intermedios y se representan los números generados en dos gráficas.\n"
      ]
    },
    {
      "cell_type": "markdown",
      "metadata": {
        "id": "GHbpQ4Dt5Ue1",
        "colab_type": "text"
      },
      "source": [
        "**1. Importa las librerías numpy, scipy.stats y matplotlib.pyplot.**\n",
        "\n",
        "\n",
        "\n",
        "\n",
        "\n",
        "\n",
        "\n",
        "\n",
        "\n",
        "\n",
        "\n",
        "\n",
        "\n",
        "\n",
        "\n",
        "\n"
      ]
    },
    {
      "cell_type": "code",
      "metadata": {
        "id": "2w1cCBQi5Ue4",
        "colab_type": "code",
        "colab": {}
      },
      "source": [
        ""
      ],
      "execution_count": 0,
      "outputs": []
    },
    {
      "cell_type": "markdown",
      "metadata": {
        "id": "PUEPjCO35Ue_",
        "colab_type": "text"
      },
      "source": [
        "**2. Obten 50 números espaciados uniformemente entre -4 y 4. Escribe la media, mediana, desviación estándar y varianza de estos números.**\n",
        "\n",
        "\n",
        "\n",
        "\n"
      ]
    },
    {
      "cell_type": "code",
      "metadata": {
        "id": "bHibBLZFawEw",
        "colab_type": "code",
        "colab": {}
      },
      "source": [
        ""
      ],
      "execution_count": 0,
      "outputs": []
    },
    {
      "cell_type": "markdown",
      "metadata": {
        "id": "Y3vGFsHndsFk",
        "colab_type": "text"
      },
      "source": [
        "**3. Accede a la distribución de Cauchy a partir de scipy y escribe la media, la desviación estándar, la distribución cumulativa en 0 y \n",
        "el máximo de esta distribución. Razona por qué se obtienen esos valores para la media y la desviación estándar.**\n"
      ]
    },
    {
      "cell_type": "code",
      "metadata": {
        "colab_type": "code",
        "id": "Wa35WBqjfn08",
        "colab": {}
      },
      "source": [
        ""
      ],
      "execution_count": 0,
      "outputs": []
    },
    {
      "cell_type": "markdown",
      "metadata": {
        "id": "wJTDbv2ahVWW",
        "colab_type": "text"
      },
      "source": [
        "**4. Para los 50 números espaciados uniformemente entre -4 y 4, dibuja la correspodiente distribución de Cauchy e indica en una gráfica donde se aceptarán y se rechazarán valores de la ordenada en el método Monte Carlo para x = 1.**\n",
        "\n"
      ]
    },
    {
      "cell_type": "code",
      "metadata": {
        "id": "VmYG9eek5UfG",
        "colab_type": "code",
        "cellView": "both",
        "colab": {}
      },
      "source": [
        ""
      ],
      "execution_count": 0,
      "outputs": []
    },
    {
      "cell_type": "markdown",
      "metadata": {
        "id": "1Fzg7DOR5UfQ",
        "colab_type": "text"
      },
      "source": [
        "**5. Genera números aleatorios distribuidos uniformemente entre -4 y 4. A partir de qué potencia de 10 el error en la desviación estándar es menor que 2 por mil.**\n",
        "\n",
        "\n",
        "\n",
        "\n",
        "\n"
      ]
    },
    {
      "cell_type": "code",
      "metadata": {
        "id": "LksBbEf8jTU8",
        "colab_type": "code",
        "colab": {}
      },
      "source": [
        ""
      ],
      "execution_count": 0,
      "outputs": []
    },
    {
      "cell_type": "markdown",
      "metadata": {
        "id": "jhS_8eqhnGM8",
        "colab_type": "text"
      },
      "source": [
        "**6. Genera números aleatorios entre 0 y el máximo de la distribución de Cauchy y acepta únicamente aquellos que satisfacen la condición Monte Carlo. Escribe la media y la desviación estándar de la distribución de los números aceptados.**\n"
      ]
    },
    {
      "cell_type": "code",
      "metadata": {
        "id": "BfgCzGksnSqx",
        "colab_type": "code",
        "colab": {}
      },
      "source": [
        ""
      ],
      "execution_count": 0,
      "outputs": []
    },
    {
      "cell_type": "markdown",
      "metadata": {
        "id": "XOCo9IGopz3J",
        "colab_type": "text"
      },
      "source": [
        "**7. Dibuja en una gráfica la distribución de Cauchy de los números espaciados uniformemente entre -4 y 4 del principio junto al histograma de los números generados según la distribución de Cauchy de 6 teniendo en cuenta que el área del histograma de los números de 6 debe de coincidir con el área de la distribución de Cauchy en tal intervalo.**\n"
      ]
    },
    {
      "cell_type": "code",
      "metadata": {
        "id": "ZYmX12C29ADh",
        "colab_type": "code",
        "colab": {}
      },
      "source": [
        "\n"
      ],
      "execution_count": 0,
      "outputs": []
    }
  ]
}