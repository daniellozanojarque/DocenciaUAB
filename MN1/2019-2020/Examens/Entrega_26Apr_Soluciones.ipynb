{
  "nbformat": 4,
  "nbformat_minor": 0,
  "metadata": {
    "colab": {
      "name": "Entrega_26Apr_Soluciones.ipynb",
      "provenance": [],
      "collapsed_sections": [],
      "include_colab_link": true
    },
    "kernelspec": {
      "display_name": "Python 3",
      "language": "python",
      "name": "python3"
    }
  },
  "cells": [
    {
      "cell_type": "markdown",
      "metadata": {
        "id": "view-in-github",
        "colab_type": "text"
      },
      "source": [
        "<a href=\"https://colab.research.google.com/github/joseflix/DocenciaUAB/blob/master/MN1/2019-2020/Examens/Entrega_26Apr_Soluciones.ipynb\" target=\"_parent\"><img src=\"https://colab.research.google.com/assets/colab-badge.svg\" alt=\"Open In Colab\"/></a>"
      ]
    },
    {
      "cell_type": "markdown",
      "metadata": {
        "id": "MuITK0qq5Ues",
        "colab_type": "text"
      },
      "source": [
        "Entrega de Métodos Numéricos I\n",
        "====\n"
      ]
    },
    {
      "cell_type": "markdown",
      "metadata": {
        "id": "EmAhOb8_5Uex",
        "colab_type": "text"
      },
      "source": [
        "Este programa genera números aleatorios que están distribuidos como una distribución de Cauchy usando el método Monte Carlo. Se piden resultados intermedios y se representan los números generados en dos gráficas.\n"
      ]
    },
    {
      "cell_type": "markdown",
      "metadata": {
        "id": "GHbpQ4Dt5Ue1",
        "colab_type": "text"
      },
      "source": [
        "**1. Importa las librerías numpy, scipy.stats y matplotlib.pyplot.**\n",
        "\n",
        "\n",
        "\n",
        "\n",
        "\n",
        "\n",
        "\n",
        "\n",
        "\n",
        "\n",
        "\n",
        "\n",
        "\n",
        "\n",
        "\n",
        "\n"
      ]
    },
    {
      "cell_type": "code",
      "metadata": {
        "id": "2w1cCBQi5Ue4",
        "colab_type": "code",
        "colab": {}
      },
      "source": [
        "import numpy as np\n",
        "import scipy.stats as ss\n",
        "import matplotlib.pyplot as plt"
      ],
      "execution_count": 1,
      "outputs": []
    },
    {
      "cell_type": "markdown",
      "metadata": {
        "id": "PUEPjCO35Ue_",
        "colab_type": "text"
      },
      "source": [
        "**2. Obten 50 números espaciados uniformemente entre -4 y 4. Escribe la media, mediana, desviación estándar y varianza de estos números.**\n",
        "\n",
        "\n",
        "\n",
        "\n"
      ]
    },
    {
      "cell_type": "code",
      "metadata": {
        "id": "bHibBLZFawEw",
        "colab_type": "code",
        "colab": {
          "base_uri": "https://localhost:8080/",
          "height": 104
        },
        "outputId": "fa0f19f9-4ac2-49dd-cc1b-62da81ebf077"
      },
      "source": [
        "x = np.linspace(-4, 4)\n",
        "# Printing values for x\n",
        "mean = np.mean(x)\n",
        "median = np.median(x)\n",
        "sd = np.std(x)\n",
        "variance = np.var(x)\n",
        "\n",
        "print (len(x))\n",
        "print (\"Mean\", mean) # -2.842170943040401e-16\n",
        "print (\"Median\", median) # 0.0\n",
        "print (\"Standard Deviation\", sd) # 2.356060357495806\n",
        "print (\"Variance\", variance) # 5.551020408163265\n",
        "\n"
      ],
      "execution_count": 2,
      "outputs": [
        {
          "output_type": "stream",
          "text": [
            "50\n",
            "Mean -2.842170943040401e-16\n",
            "Median 0.0\n",
            "Standard Deviation 2.356060357495806\n",
            "Variance 5.551020408163265\n"
          ],
          "name": "stdout"
        }
      ]
    },
    {
      "cell_type": "markdown",
      "metadata": {
        "id": "Y3vGFsHndsFk",
        "colab_type": "text"
      },
      "source": [
        "**3. Accede a la distribución de Cauchy a partir de scipy y escribe la media, la desviación estándar, la distribución cumulativa en 0 y \n",
        "el máximo de esta distribución.**\n"
      ]
    },
    {
      "cell_type": "code",
      "metadata": {
        "id": "lpLb1j2GY046",
        "colab_type": "code",
        "colab": {}
      },
      "source": [
        "mean, var, skew, kurt = ss.cauchy.stats(moments='mvsk')"
      ],
      "execution_count": 3,
      "outputs": []
    },
    {
      "cell_type": "code",
      "metadata": {
        "colab_type": "code",
        "id": "Wa35WBqjfn08",
        "colab": {
          "base_uri": "https://localhost:8080/",
          "height": 87
        },
        "outputId": "b69c7ef9-0077-44ba-c544-5c1b7ce16e01"
      },
      "source": [
        "dist = ss.cauchy()\n",
        "\n",
        "mCauchy = dist.mean()\n",
        "mStd = dist.std()\n",
        "cumCauch = dist.cdf(0)\n",
        "upper = dist.pdf(0)\n",
        "\n",
        "print (\"Mean Cauchy distribution\", mCauchy) # nan\n",
        "print (\"Standard Deviation Cauchy distribution\", mStd) # nan\n",
        "print (\"Cumulative distribution at 0 Cauchy distribution\", cumCauch) # 0.5\n",
        "print (\"Maximum Cauchy distribution\", upper) # 0.3183098861837907"
      ],
      "execution_count": 5,
      "outputs": [
        {
          "output_type": "stream",
          "text": [
            "Mean Cauchy distribution nan\n",
            "Standard Deviation Cauchy distribution nan\n",
            "Cumulative distribution at 0 Cauchy distribution 0.5\n",
            "Maximum Cauchy distribution 0.3183098861837907\n"
          ],
          "name": "stdout"
        }
      ]
    },
    {
      "cell_type": "markdown",
      "metadata": {
        "id": "wJTDbv2ahVWW",
        "colab_type": "text"
      },
      "source": [
        "**4. Para los 50 números espaciados uniformemente entre -4 y 4, dibuja la correspodiente distribución de Cauchy e indica en una gráfica donde se aceptarán y se rechazarán valores de la ordenada en el método Monte Carlo.**\n",
        "\n"
      ]
    },
    {
      "cell_type": "code",
      "metadata": {
        "id": "VmYG9eek5UfG",
        "colab_type": "code",
        "cellView": "both",
        "colab": {
          "base_uri": "https://localhost:8080/",
          "height": 341
        },
        "outputId": "a29352d3-132e-4793-bc9a-abcb1119be97"
      },
      "source": [
        "# Posible método\n",
        "\n",
        "dist_cauchy = ss.cauchy()\n",
        "upper = dist_cauchy.pdf(0)\n",
        "x_sergio = np.linspace(-4, 4, 50)\n",
        "plt.figure(figsize=(15,5))\n",
        "plt.subplot(121)\n",
        "plt.plot(x_sergio, dist_cauchy.pdf(x_sergio))\n",
        "plt.axhline(upper, color='grey')\n",
        "px = 1.0\n",
        "plt.arrow(px,0,0,dist_cauchy.pdf(1.0)-0.01, linewidth=1,\n",
        "                    head_width=0.2, head_length=0.01, fc='g', ec='g')\n",
        "plt.arrow(px,upper,0,-(upper-dist_cauchy.pdf(px)-0.01), linewidth=1,\n",
        "                    head_width=0.3, head_length=0.01, fc='r', ec='r')\n",
        "plt.text(px+.25, 0.2, 'Reject', fontsize=16)\n",
        "plt.text(px+.25, 0.01, 'Accept', fontsize=16)\n",
        "plt.axis([-4,4,0,0.4])\n",
        "plt.title('Rejection sampling concepts', fontsize=20)\n",
        "plt.show()\n"
      ],
      "execution_count": 6,
      "outputs": [
        {
          "output_type": "display_data",
          "data": {
            "image/png": "[encoded data removed]",
            "text/plain": [
              "<Figure size 1080x360 with 1 Axes>"
            ]
          },
          "metadata": {
            "tags": [],
            "needs_background": "light"
          }
        }
      ]
    },
    {
      "cell_type": "markdown",
      "metadata": {
        "id": "1Fzg7DOR5UfQ",
        "colab_type": "text"
      },
      "source": [
        "**5. Genera números aleatorios distribuidos uniformemente entre -4 y 4. A partir de qué potencia de 10 el error en la desviación estándar es menor que 2 por mil.**\n",
        "\n",
        "\n",
        "\n",
        "\n",
        "\n"
      ]
    },
    {
      "cell_type": "code",
      "metadata": {
        "id": "LksBbEf8jTU8",
        "colab_type": "code",
        "colab": {
          "base_uri": "https://localhost:8080/",
          "height": 35
        },
        "outputId": "a13c9aa7-c710-4be5-9b8c-49474950b84f"
      },
      "source": [
        "# Posible método\n",
        "i = 1\n",
        "truth_std = 8./np.sqrt(12)\n",
        "\n",
        "while True:\n",
        "  u = np.random.uniform(-4,4,pow(10,i))\n",
        "  err = abs(u.std() - truth_std)\n",
        "  if err < 0.002:\n",
        "    break\n",
        "  else:\n",
        "    i+=1\n",
        "  \n",
        "print(\"Para N = 10^{} el error es {}\".format(i,err))\n",
        "  \n",
        "  "
      ],
      "execution_count": 8,
      "outputs": [
        {
          "output_type": "stream",
          "text": [
            "Para N = 10^5 el error es 0.0013863810218888162\n"
          ],
          "name": "stdout"
        }
      ]
    },
    {
      "cell_type": "markdown",
      "metadata": {
        "id": "jhS_8eqhnGM8",
        "colab_type": "text"
      },
      "source": [
        "**6. Genera números aleatorios entre 0 y el máximo de la distribución de Cauchy y acepta únicamente aquellos que satisfacen la condición Monte Carlo. Escribe la media y la desviación estándar de la distribución de los números aceptados.**\n"
      ]
    },
    {
      "cell_type": "code",
      "metadata": {
        "id": "BfgCzGksnSqx",
        "colab_type": "code",
        "colab": {
          "base_uri": "https://localhost:8080/",
          "height": 52
        },
        "outputId": "591d7c74-a9f7-4f63-ab3e-2746e2d564ad"
      },
      "source": [
        "# accept-reject criterion for each point in sampling distribution\n",
        "n = 10**5\n",
        "r = np.random.uniform(0, upper, n)\n",
        "# accepted points will come from target (Cauchy) distribution\n",
        "v = u[r < dist.pdf(u)]\n",
        "print (\"Mean accepted points\", v.mean()) # |mean| < 0.01\n",
        "print (\"Standard Deviation accepted points\", v.std()) # < 1.42"
      ],
      "execution_count": 10,
      "outputs": [
        {
          "output_type": "stream",
          "text": [
            "Mean accepted points -0.010821418648042602\n",
            "Standard Deviation accepted points 1.41725090439274\n"
          ],
          "name": "stdout"
        }
      ]
    },
    {
      "cell_type": "markdown",
      "metadata": {
        "id": "XOCo9IGopz3J",
        "colab_type": "text"
      },
      "source": [
        "**7. Dibuja en una gráfica la distribución de Cauchy de los números espaciados uniformemente entre -4 y 4 del principio junto al histograma de los números generados según la distribución de Cauchy de 6 teniendo en cuenta que el área del histograma de los números de 6 debe de coincidir con el área de la distribución de Cauchy en tal intervalo.**\n"
      ]
    },
    {
      "cell_type": "code",
      "metadata": {
        "id": "ZYmX12C29ADh",
        "colab_type": "code",
        "colab": {
          "base_uri": "https://localhost:8080/",
          "height": 395
        },
        "outputId": "460dd7dc-d874-4be1-dade-d05c67763a42"
      },
      "source": [
        "plt.figure(figsize=(6,6))\n",
        "plt.plot(x, dist.pdf(x), linewidth=2)\n",
        "\n",
        "# Plot scaled histogram\n",
        "factor = dist.cdf(4) - dist.cdf(-4)\n",
        "hist, bin_edges = np.histogram(v, bins=100, density=True)\n",
        "bin_centers = (bin_edges[:-1] + bin_edges[1:]) / 2.\n",
        "plt.step(bin_centers, factor*hist, linewidth=2)\n",
        "plt.axis([-4,4,0,0.4])\n",
        "plt.title('Histogram of accepted samples', fontsize=20);\n",
        "plt.show()\n"
      ],
      "execution_count": 19,
      "outputs": [
        {
          "output_type": "display_data",
          "data": {
            "image/png": "[encoded data removed]",
            "text/plain": [
              "<Figure size 432x432 with 1 Axes>"
            ]
          },
          "metadata": {
            "tags": [],
            "needs_background": "light"
          }
        }
      ]
    }
  ]
}