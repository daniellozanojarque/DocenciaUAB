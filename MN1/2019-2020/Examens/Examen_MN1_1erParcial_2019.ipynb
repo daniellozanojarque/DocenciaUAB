{
  "nbformat": 4,
  "nbformat_minor": 0,
  "metadata": {
    "colab": {
      "name": "Examen_MN1_1erParcial_2019.ipynb",
      "provenance": [],
      "collapsed_sections": [],
      "include_colab_link": true
    },
    "kernelspec": {
      "name": "python3",
      "display_name": "Python 3"
    }
  },
  "cells": [
    {
      "cell_type": "markdown",
      "metadata": {
        "id": "view-in-github",
        "colab_type": "text"
      },
      "source": [
        "<a href=\"https://colab.research.google.com/github/joseflix/DocenciaUAB/blob/master/MN1/2019-2020/Examens/Examen_MN1_1erParcial_2019.ipynb\" target=\"_parent\"><img src=\"https://colab.research.google.com/assets/colab-badge.svg\" alt=\"Open In Colab\"/></a>"
      ]
    },
    {
      "cell_type": "markdown",
      "metadata": {
        "id": "IPuleKPJ9Rbo",
        "colab_type": "text"
      },
      "source": [
        "## Exàmen Mètodes Numèrics (20 juny 2019)"
      ]
    },
    {
      "cell_type": "markdown",
      "metadata": {
        "id": "a4rTtqPl1YQU",
        "colab_type": "text"
      },
      "source": [
        "**Nom:**\n",
        "\n",
        "**NIU:**\n",
        "\n",
        "**mail (per fer arribar les correccions - gmail):**\n"
      ]
    },
    {
      "cell_type": "code",
      "metadata": {
        "id": "Tz1y3E7C-D3C",
        "colab_type": "code",
        "colab": {}
      },
      "source": [
        "%matplotlib inline\n",
        "import numpy as np\n",
        "import matplotlib.pyplot as plt"
      ],
      "execution_count": 0,
      "outputs": []
    },
    {
      "cell_type": "markdown",
      "metadata": {
        "id": "LxH9MiOQ9N8i",
        "colab_type": "text"
      },
      "source": [
        "### Ejercicio 1\n"
      ]
    },
    {
      "cell_type": "markdown",
      "metadata": {
        "id": "0_RxP9whtFoo",
        "colab_type": "text"
      },
      "source": [
        "En este ejercicio veremos cómo el factor de correlación entre dos muestras totalmente correlacionadas se puede llegar a perder por culpa de un ruido.\n",
        "\n",
        "\n",
        "1.   Genera $N=10000$ puntos equidistantes en las abscisas $(x,y) \\in [-10,10]$  tales que $y_i = x_i$. Calcula el factor de correlación a partir de\n",
        "\n",
        "$$\n",
        "\\rho = \\frac{Cov(x,y)}{\\sigma_x \\sigma_y}\n",
        "$$\n",
        "\n",
        "2. Haz una gráfica de los puntos $(x,y)$ donde también se muestre de alguna forma el factor de correlación obtenido (en el título, en la leyenda, etc).\n",
        "\n",
        "3. Considera un ruido sobre los puntos:\n",
        "\n",
        "$$\n",
        "x_i \\to x_i + \\epsilon_i \\\\\n",
        "y_i \\to y_i + \\epsilon'_i\n",
        "$$\n",
        "\n",
        "\n",
        "> tal que $\\epsilon_i \\sim G(0,\\sigma)$ i $\\epsilon'_i \\sim G(0,\\sigma)$ (Nota: Son independientes y dependen de $\\sigma$). Haz una gráfica similar a la del apartado 2, pero ahora usando los puntos $(x,y)$ que tienen un ruido determinado por $\\sigma = 100$. Incluye también el factor de correlación.\n",
        "\n",
        "\n",
        "4.  Vamos a ver cómo cambia $\\rho$ en función de $\\sigma$. Para eso genera un array de 1000 sigmas equidistantes entre 0 y 100 y para cada una genera el ruido y aplícalo en los puntos para obtener una nueva $\\rho$.  Haz una gráfica de la evolución del factor de correlación en función de estas sigmas. \n",
        "\n",
        "\n",
        "\n",
        "\n"
      ]
    },
    {
      "cell_type": "code",
      "metadata": {
        "id": "dN-OoopR9NCI",
        "colab_type": "code",
        "colab": {}
      },
      "source": [
        "# codi\n"
      ],
      "execution_count": 0,
      "outputs": []
    },
    {
      "cell_type": "markdown",
      "metadata": {
        "id": "ZIaYdWooRfph",
        "colab_type": "text"
      },
      "source": [
        "### Ejercicio 2.\n",
        "\n",
        "Considera la función $y = x^2+10$ en el intervalo $[0,4]$. \n",
        "\n",
        "1.  Define las funciones de python para la función $y$ y su integral calculada analíticamente.\n",
        "\n",
        "2.  Usa el método MC para calcular el área de una región limitada por la función $y$ en $[0,4]$ y las rectas $x=1$ e $y=0.1$. Implementa una función que evalúe el error cometido en tal cálculo para un número de puntos $N$ arbitrario en $[0,4]$ $\\,\\,\\,\\left(\\text{Error} = |I_{MC} - I_\\text{analítica}|\\right)$.\n",
        "\n",
        "3.  Para $N=10000$ haz una gráfica de los puntos aceptados en la región anterior, incluyendo también la gráfica de la función $y$ así como las rectas $x=1$ e $y=0.1$.\n",
        "\n",
        "4.  Haz una gráfica del valor de la integral MC como función de $N$, tomando 10 valores de $N$ entre 1000 y 10000. Muestra también cómo el error definido anteriormente disminuye con el número de puntos.\n"
      ]
    },
    {
      "cell_type": "code",
      "metadata": {
        "id": "vQPEqpVPN5xG",
        "colab_type": "code",
        "colab": {}
      },
      "source": [
        "# codi"
      ],
      "execution_count": 0,
      "outputs": []
    },
    {
      "cell_type": "markdown",
      "metadata": {
        "id": "8Iy2eG4X9qe_",
        "colab_type": "text"
      },
      "source": [
        "### Ejercicio 3.\n",
        "\n",
        "Consideremos un tirachinas que dispara una bola de hierro desde el suelo ($y_0=0$) con cierto ángulo $θ_0$ menor de 90º  con la horizontal. En el caso ideal la ecuación de la trayectoria $y(x)$ de la bola se puede escribir como:\n",
        "\n",
        "$$\n",
        "y(x) = tan(\\theta_0)·x - \\frac{g·x^2}{2·v_0^2·cos^2(\\theta_0)}\n",
        "$$\n",
        "\n",
        "donde $\\theta_0$ es  el ángulo de tiro, y $v_0$ es la velocidad inicial de la bola. El alcance máximo de la bola en este caso ideal es de:\n",
        "\n",
        "$$\n",
        "x_{max} = \\frac{v_0^2·sin(2·\\theta_0)}{g}\n",
        "$$\n",
        "\n",
        "Imagina que delante de ti, a una distancia de $150$ $m$ tienes una pared de $20$ $m$ de altura, y dispones de un tirachinas e infinitas bolas para tirar... \n",
        "\n",
        "1. Si tiras una bola con el tirachinas con un $\\theta_0 = 25º$ y $v_0 = 50$ $m/s$, pasará por encima del muro? Haz una representación gráfica de la trayectória de la bola, y el muro, en un plano $(x,y)$. Asume $g = 9.81$ $m/s^2$ durante todo el ejercicio.\n",
        "\n",
        "2. Después de unos intentos, te das cuenta que no eres muy preciso tirando bolas con el tirachinas. Tus tiros tienen una $v_0$ y un $\\theta_0$ que siguen unas distribuciones normales, centradas en  $\\theta_0 = 25º$ y $v_0 = 50$ $m/s$, y con unas desviaciones estandares de un $4\\%$ y $2\\%$ en el ángulo de tiro y la velocidad inicial, respectivamente ($\\sigma_{\\theta} = 0.04·\\theta_0$,  $\\sigma_{v_0} = 0.02·v_0$). Si tiras 10 bolas, eres capaz de traspasar el muro en alguno de los tiros? En cuantos? Este valor fluctúa mucho si haces varias realizaciones de tirar 10 bolas?\n",
        "\n",
        "3. Repites esta experiencia muchas veces ($N_{tiros}$). Quieres estimar la probabilidad $\\hat{p}$ de que pasen las bolas por encima del muro. Dibuja como evoluciona el error relativo (es decir, $\\sigma[\\hat{p}]/\\hat{p}$, en porcentaje) con el número de bolas tiradas hasta que este error sea $<1\\%$. Cuántas bolas gastarás para poder hacer esta estimación de $\\hat{p}$ con un error menor del $1\\%$? Cuál es la probabilidad $\\hat{p}$ que obtienes al final, y su error $\\sigma[\\hat{p}]$? (recuerda que tienes infinitas cajas de bolas a tu disposición... te puede salir 'cara' la experiencia!). **NOTA:** Que una bola pase o no sigue una distribución binomial, donde los estimadores de $\\hat{p}$ y varianza de $\\hat{p}$ son:\n",
        "\n",
        "$$\n",
        "\\hat{p} = \\frac{N_{pasan}}{N_{tiros}}\n",
        "\\\\\n",
        "$$\n",
        "\n",
        "$$\n",
        "var[\\hat{p}] = \\frac{p(1-p)}{N_{tiros}} ; \\,\\,\\,\\ \\sigma[\\hat{p}] = \\sqrt{var[\\hat{p}]}\n",
        "\\\\\n",
        "$$"
      ]
    },
    {
      "cell_type": "code",
      "metadata": {
        "id": "wdwvkIiz9uJc",
        "colab_type": "code",
        "colab": {}
      },
      "source": [
        "# codi"
      ],
      "execution_count": 0,
      "outputs": []
    }
  ]
}