{
  "nbformat": 4,
  "nbformat_minor": 0,
  "metadata": {
    "colab": {
      "name": "20190705_examen Repesca MN1.ipynb",
      "provenance": [],
      "collapsed_sections": [],
      "include_colab_link": true
    },
    "kernelspec": {
      "name": "python3",
      "display_name": "Python 3"
    }
  },
  "cells": [
    {
      "cell_type": "markdown",
      "metadata": {
        "id": "view-in-github",
        "colab_type": "text"
      },
      "source": [
        "<a href=\"https://colab.research.google.com/github/joseflix/DocenciaUAB/blob/master/MN1/2019-2020/Examens/Examen_MN1_Repesca_2019.ipynb\" target=\"_parent\"><img src=\"https://colab.research.google.com/assets/colab-badge.svg\" alt=\"Open In Colab\"/></a>"
      ]
    },
    {
      "cell_type": "markdown",
      "metadata": {
        "id": "wo7vcE1XK11M",
        "colab_type": "text"
      },
      "source": [
        "# Examen Mètodes Numèrics I (5 julio 2019) - REPESCA Programación\n",
        "\n",
        "**Nombre:**\n",
        "\n",
        "**NIU:**\n",
        "\n",
        "**mail (para hacer llegar el Notebook corregido):**"
      ]
    },
    {
      "cell_type": "code",
      "metadata": {
        "id": "5TJFJ-5eMn0s",
        "colab_type": "code",
        "colab": {}
      },
      "source": [
        "# Ejecuta esta parte de código para importar las librerías necesarias\n",
        "%matplotlib inline\n",
        "import numpy as np\n",
        "import matplotlib.pyplot as plt\n",
        "import scipy.stats as ss"
      ],
      "execution_count": 0,
      "outputs": []
    },
    {
      "cell_type": "markdown",
      "metadata": {
        "id": "QynH822JLaRm",
        "colab_type": "text"
      },
      "source": [
        "# Ejercicio 1 [4 puntos]\n",
        "\n",
        "A partir de una distribución normal ($\\mu = 0$, \\$\\sigma = 1$), realiza las siguientes gráficas:\n",
        "\n",
        "1. **[1 punto]** Haz una gráfica de la distribución normal (pdf) en el rango $[-5\\sigma, 5\\sigma]$ e indica con unas líneas verticales el área correspondiente a un intervalo de confianza del 95% centrado en la media. Sombrea el intervalo de confianza en el gráfico. \n",
        "2. **[1.5 puntos]** En el mismo rango que en la sección anterior, mueve los límites, preservando el intervalo de confianza del 95%, pero que por encima del límite superior te quede un área del 1%. Sombrea el intervalo de confianza en el gráfico. Se han movido la misma distancia el límite inferior y superior en comparación a la sección 1? Razona.\n",
        "3. **[1.5 puntos]** Partiendo de la sección 1, mueve el límite superior en 1000 pasos equidistantes hasta $5\\sigma$ y calcula como cambia el límite inferior que mantiene un intervalo de confianza del 95%. Haz una gráfica de la evolución del límite inferior para cada uno de los pasos considerados para el límite superior. Ves que el límite inferior converge hacia un valor concreto? Razona. "
      ]
    },
    {
      "cell_type": "code",
      "metadata": {
        "id": "cY0eyEEBMFT1",
        "colab_type": "code",
        "outputId": "d29e9e1c-026d-487d-f569-b4959b2e0295",
        "colab": {
          "base_uri": "https://localhost:8080/",
          "height": 35
        }
      },
      "source": [
        "# Ejercicio 1 - Apartado 1\n",
        "print(\"Ejercicio 1 - Apartado 1\")\n",
        "\n"
      ],
      "execution_count": 0,
      "outputs": [
        {
          "output_type": "stream",
          "text": [
            "Ejercicio 1 - Apartado 1\n"
          ],
          "name": "stdout"
        }
      ]
    },
    {
      "cell_type": "code",
      "metadata": {
        "id": "szuzA22_Mh0c",
        "colab_type": "code",
        "outputId": "27f409ba-c5d2-4f37-ad89-1f9d16d913f9",
        "colab": {
          "base_uri": "https://localhost:8080/",
          "height": 35
        }
      },
      "source": [
        "# Ejercicio 1 - Apartado 2\n",
        "print(\"Ejercicio 1 - Apartado 2\")\n",
        "\n"
      ],
      "execution_count": 0,
      "outputs": [
        {
          "output_type": "stream",
          "text": [
            "Ejercicio 1 - Apartado 2\n"
          ],
          "name": "stdout"
        }
      ]
    },
    {
      "cell_type": "code",
      "metadata": {
        "id": "lo3-z2w6P-iK",
        "colab_type": "code",
        "outputId": "aa824b65-cdcd-4e8d-f062-c555decbc862",
        "colab": {
          "base_uri": "https://localhost:8080/",
          "height": 35
        }
      },
      "source": [
        "# Ejercicio 1 - Apartado 3\n",
        "print(\"Ejercicio 1 - Apartado 3\")\n",
        "\n"
      ],
      "execution_count": 0,
      "outputs": [
        {
          "output_type": "stream",
          "text": [
            "Ejercicio 1 - Apartado 3\n"
          ],
          "name": "stdout"
        }
      ]
    },
    {
      "cell_type": "markdown",
      "metadata": {
        "id": "eNB42HLhUNvY",
        "colab_type": "text"
      },
      "source": [
        "# Ejercicio 2 [6 puntos]\n",
        "\n",
        "Considera esta muestra de 50 puntos, que sigue una distribución Gaussiana:\n",
        "\n",
        "{22.3,12.9,-10.1,-36.9,-38.5,-23.4,-4.3,5.5,48.8,20.5,18.1,8.3,-37.2,-8.1,-5.6,41.4,-6.5,-16.7,-12.8,-30.0,11.9,-12.6,6.6,-24.8,6.0,34.5,-31.2,63.3,-19.8,22.1,-42.5,18.9,-0.0,-13.1,-37.4,-68.1,20.7,59.1,-37.0,-31.9,-92.2,-29.9,11.9,6.5,13.8,2.6,-33.9,27.3,17.8,-18.6}\n",
        "\n",
        "1. **[0.5 puntos]** Calcula el valor medio ($\\mu_m$) y la sigma ($\\sigma_m$) de la muestra.\n",
        "2. **[2 puntos]** Vamos a calcular ahora el estimador $\\hat{\\sigma}$ que maximiza la función de verosimilitud $L$. Fija el valor medio de la distribución Gaussiana en $\\mu_m$ y considera 1000 pasos equidistantes entre $\\sigma_{inf}$=15 y $\\sigma_{sup}$=45. Implementa la función que te calcula $l = ln(L)$ (log-likelihood), para cada valor de $\\sigma$. Haz una gráfica de los valores $l$ en el rango [$\\sigma_{inf}$,$\\sigma_{sup}$] y evalúa cual es el $\\sigma_{óptimo}$ (el que maximiza la función $l$). Recuerda, que para cada $\\sigma_i$ en el rango se calcula $l_i$ como:\n",
        "\n",
        "$$\n",
        "l_i = ln(L_i) = \\sum_{n=1}^{50} ln f(x_n, \\mu_m, \\sigma_i)\n",
        "$$\n",
        "\n",
        "3. **[2 puntos]** Vamos a calcular ahora la $\\sigma_{óptima}$ usando la función cumulativa de tu muestra y comparando con las diferentes funciones cumulativas de test que has obtenido en la sección 2. En este caso, para cada valor $x_i$ de tu muestra, la función cumulativa te incrementa en un factor 1/50, y queda fijada. En el test (simple) de Kolmogorov-Smirnov, para cada punto de tu muestra puedes calcular la diferencia de la función cumulativa de tu muestra con el valor cumulativo que obtienes con la función de test en ése mismo punto, y quedarte con el valor de desviación máxima. La función de test que mejor se ajusta es aquella que está 'más' cerca de tu función cumulativa de muestra de acuerdo con esta distancia $d_{max}$. Para todas tus variaciones, el $\\sigma_{óptimo}$ será aquel que minimiza este valor de $d_{max}$. Haz una gráfica de los valores $d_{max}$ en el rango [$\\sigma_{inf}$,$\\sigma_{sup}$] y evalúa cual es el $\\sigma_{óptimo}$ (el que minimiza la función $d_{max}$). El valor $d_{max,i}$ se calcula para cada función de test $i$ como:\n",
        "\n",
        "$$\n",
        "d_{max,i} = max_{n=1}^{50}( | CDF_{muestra}(x_n) - CDF_{Gaussiana}(x_n, \\mu_m, \\sigma_i) | )\n",
        "$$\n",
        "\n",
        "4. **[1.5 puntos]** Haz una grafica de la función cumulativa de la muestra, y la función cumulativa de la gaussiana que mejor se ajusta, según los valores de $\\sigma$ obtenidos en el apartado 1, 2 y 3. Muestra también la función cumulativa de una distribución uniforme en el rango donde está tu muestra y compara el resultado con tus ajustes. \n"
      ]
    },
    {
      "cell_type": "code",
      "metadata": {
        "id": "W8VN1skbFwUA",
        "colab_type": "code",
        "colab": {}
      },
      "source": [
        "# AYUDA PROBLEMA 2 - Definición de variables\n",
        "\n",
        "a = [22.3,12.9,-10.1,-36.9,-38.5,-23.4,-4.3,5.5,48.8,20.5,18.1,8.3,-37.2,-8.1,-5.6,\n",
        "     41.4,-6.5,-16.7,-12.8,-30.0,11.9,-12.6,6.6,-24.8,6.0,34.5,-31.2,63.3,-19.8,22.1,\n",
        "     -42.5,18.9,-0.0,-13.1,-37.4,-68.1,20.7,59.1,-37.0,-31.9,-92.2,-29.9,11.9,6.5,\n",
        "     13.8,2.6,-33.9,27.3,17.8,-18.6]\n",
        "\n",
        "minsigma = 15\n",
        "maxsigma = 45"
      ],
      "execution_count": 0,
      "outputs": []
    },
    {
      "cell_type": "code",
      "metadata": {
        "id": "TQako70TuwyY",
        "colab_type": "code",
        "outputId": "4399914d-dd0c-4570-fa4b-1a2029eaf508",
        "colab": {
          "base_uri": "https://localhost:8080/",
          "height": 35
        }
      },
      "source": [
        "# Ejercicio 2 - Apartado 1\n",
        "print(\"Ejercicio 2 - Apartado 1\")\n",
        "\n"
      ],
      "execution_count": 0,
      "outputs": [
        {
          "output_type": "stream",
          "text": [
            "Ejercicio 2 - Apartado 1\n"
          ],
          "name": "stdout"
        }
      ]
    },
    {
      "cell_type": "code",
      "metadata": {
        "id": "fLQaNw05u81s",
        "colab_type": "code",
        "outputId": "9e7ddcb6-19ce-441e-9b36-cc3b9143f085",
        "colab": {
          "base_uri": "https://localhost:8080/",
          "height": 35
        }
      },
      "source": [
        "# Ejercicio 2 - Apartado 2\n",
        "print(\"Ejercicio 2 - Apartado 2\")\n",
        "\n"
      ],
      "execution_count": 0,
      "outputs": [
        {
          "output_type": "stream",
          "text": [
            "Ejercicio 2 - Apartado 2\n"
          ],
          "name": "stdout"
        }
      ]
    },
    {
      "cell_type": "code",
      "metadata": {
        "id": "5B3E0B4evGfB",
        "colab_type": "code",
        "outputId": "a634ff93-9746-40c1-ce8b-83d78ae224a6",
        "colab": {
          "base_uri": "https://localhost:8080/",
          "height": 35
        }
      },
      "source": [
        "# Ejercicio 2 - Apartado 3\n",
        "print(\"Ejercicio 2 - Apartado 3\")\n",
        "\n",
        "\n"
      ],
      "execution_count": 0,
      "outputs": [
        {
          "output_type": "stream",
          "text": [
            "Ejercicio 2 - Apartado 3\n"
          ],
          "name": "stdout"
        }
      ]
    },
    {
      "cell_type": "code",
      "metadata": {
        "id": "pLWcKm5VxkFS",
        "colab_type": "code",
        "outputId": "bc64ce44-843d-48bc-e3b0-2d734f223f11",
        "colab": {
          "base_uri": "https://localhost:8080/",
          "height": 35
        }
      },
      "source": [
        "# Ejercicio 2 - Apartado 4\n",
        "print(\"Ejercicio 2 - Apartado 4\")\n",
        "\n"
      ],
      "execution_count": 0,
      "outputs": [
        {
          "output_type": "stream",
          "text": [
            "Ejercicio 2 - Apartado 4\n"
          ],
          "name": "stdout"
        }
      ]
    },
    {
      "cell_type": "markdown",
      "metadata": {
        "id": "c34XHqVyZMGW",
        "colab_type": "text"
      },
      "source": [
        "**Atenció** Recordeu que un cop entregat heu d'apuntar l'hora de sortida al portàtil del Flix o el Sergio.\n",
        "\n",
        "**Atenció 2** Abans d'entregar, podeu assegurar-vos de que el vostre codi s'executa correctament fent: Entorno de ejecución >> Reiniciar entorno de ejecución , i després fent Entorno de ejecución >> Ejecutar todas"
      ]
    }
  ]
}